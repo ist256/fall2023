{
 "cells": [
  {
   "cell_type": "code",
   "execution_count": 3,
   "id": "52005ea9-2f36-4029-8696-41c7721ca219",
   "metadata": {
    "tags": []
   },
   "outputs": [
    {
     "name": "stdout",
     "output_type": "stream",
     "text": [
      "10, 20, 30\n"
     ]
    }
   ],
   "source": [
    "x = \"10\"\n",
    "y = 20\n",
    "z = int(x) + y\n",
    "print(f\"{x}, {y}, {z}\")"
   ]
  },
  {
   "cell_type": "code",
   "execution_count": 5,
   "id": "12dfa5da-c54f-4f27-9842-2a9131058da5",
   "metadata": {
    "tags": []
   },
   "outputs": [
    {
     "name": "stdout",
     "output_type": "stream",
     "text": [
      "3\n"
     ]
    }
   ],
   "source": [
    "x = 1\n",
    "y = x * 2\n",
    "z = x + y\n",
    "print(z)\n"
   ]
  },
  {
   "cell_type": "code",
   "execution_count": 6,
   "id": "b96ec1d7-e6ea-4706-a3c2-17b70c9618ae",
   "metadata": {
    "tags": []
   },
   "outputs": [
    {
     "name": "stdout",
     "output_type": "stream",
     "text": [
      "1.500\n"
     ]
    }
   ],
   "source": [
    "x = 1.5\n",
    "print(f\"{x:.3f}\")"
   ]
  },
  {
   "cell_type": "code",
   "execution_count": 11,
   "id": "cc7b2fc9-bd6b-4aac-b144-fbd3940e1acf",
   "metadata": {
    "tags": []
   },
   "outputs": [
    {
     "name": "stdout",
     "output_type": "stream",
     "text": [
      "<class 'float'>\n"
     ]
    }
   ],
   "source": [
    "x = \"10\"\n",
    "y = int(x)\n",
    "z = type(y / 2)\n",
    "print(z)"
   ]
  },
  {
   "cell_type": "code",
   "execution_count": 12,
   "id": "4e5715c4-8d22-4201-ab72-c76c3424fbad",
   "metadata": {
    "tags": []
   },
   "outputs": [
    {
     "name": "stdout",
     "output_type": "stream",
     "text": [
      "10\n"
     ]
    }
   ],
   "source": [
    "x = 2\n",
    "y = 3\n",
    "z = (x + y) * 2\n",
    "print(z)"
   ]
  },
  {
   "cell_type": "code",
   "execution_count": 14,
   "id": "26e367fb-8550-4f7d-8fb8-eca734a7ab08",
   "metadata": {
    "tags": []
   },
   "outputs": [
    {
     "name": "stdout",
     "output_type": "stream",
     "text": [
      "3.0\n"
     ]
    }
   ],
   "source": [
    "x = 4\n",
    "y = 2\n",
    "z = 1 + (x / y)\n",
    "print(z)"
   ]
  },
  {
   "cell_type": "code",
   "execution_count": 15,
   "id": "a13455c2-655e-4441-bfbd-41fe1230f5d8",
   "metadata": {
    "tags": []
   },
   "outputs": [
    {
     "ename": "TypeError",
     "evalue": "unsupported operand type(s) for /: 'str' and 'int'",
     "output_type": "error",
     "traceback": [
      "\u001b[0;31m---------------------------------------------------------------------------\u001b[0m",
      "\u001b[0;31mTypeError\u001b[0m                                 Traceback (most recent call last)",
      "Cell \u001b[0;32mIn[15], line 3\u001b[0m\n\u001b[1;32m      1\u001b[0m x \u001b[38;5;241m=\u001b[39m \u001b[38;5;124m\"\u001b[39m\u001b[38;5;124m10\u001b[39m\u001b[38;5;124m\"\u001b[39m\n\u001b[1;32m      2\u001b[0m y \u001b[38;5;241m=\u001b[39m \u001b[38;5;241m2\u001b[39m\n\u001b[0;32m----> 3\u001b[0m z \u001b[38;5;241m=\u001b[39m \u001b[38;5;28mint\u001b[39m(\u001b[43mx\u001b[49m\u001b[43m \u001b[49m\u001b[38;5;241;43m/\u001b[39;49m\u001b[43m \u001b[49m\u001b[43my\u001b[49m)\n\u001b[1;32m      4\u001b[0m \u001b[38;5;28mprint\u001b[39m(z)\n",
      "\u001b[0;31mTypeError\u001b[0m: unsupported operand type(s) for /: 'str' and 'int'"
     ]
    }
   ],
   "source": [
    "x = \"10\"\n",
    "y = 2\n",
    "z = int(x / y)\n",
    "print(z)"
   ]
  },
  {
   "cell_type": "code",
   "execution_count": 17,
   "id": "f3df2641-4def-4366-b8e2-1070f758b61d",
   "metadata": {
    "tags": []
   },
   "outputs": [],
   "source": [
    "x = 10\n",
    "y = 5\n",
    "z = y * 2"
   ]
  },
  {
   "cell_type": "code",
   "execution_count": 20,
   "id": "3335de8b-c7b4-4f6c-b204-fe79b8ce0dad",
   "metadata": {
    "tags": []
   },
   "outputs": [
    {
     "data": {
      "text/plain": [
       "(True, False, False, False)"
      ]
     },
     "execution_count": 20,
     "metadata": {},
     "output_type": "execute_result"
    }
   ],
   "source": [
    "z >=x, z < x, z <= y, z==y"
   ]
  },
  {
   "cell_type": "code",
   "execution_count": 21,
   "id": "820b7539-4e81-463c-96fc-7b9329ba673c",
   "metadata": {
    "tags": []
   },
   "outputs": [],
   "source": [
    "x = True\n",
    "y = False\n",
    "z =  15"
   ]
  },
  {
   "cell_type": "code",
   "execution_count": 22,
   "id": "630d1c87-d016-4cf1-8e1b-42e96e378632",
   "metadata": {
    "tags": []
   },
   "outputs": [
    {
     "data": {
      "text/plain": [
       "(True, False, False, False)"
      ]
     },
     "execution_count": 22,
     "metadata": {},
     "output_type": "execute_result"
    }
   ],
   "source": [
    "not x or z > 10, not x and z <= 15, y or x > 20, y and z==z"
   ]
  },
  {
   "cell_type": "code",
   "execution_count": 23,
   "id": "0416fd29-5935-450e-be34-b9c88c52eb46",
   "metadata": {
    "tags": []
   },
   "outputs": [
    {
     "name": "stdin",
     "output_type": "stream",
     "text": [
      " 8\n"
     ]
    }
   ],
   "source": [
    "x = int(input())\n",
    "if x < 4:\n",
    "  y = 1\n",
    "elif x < 8:\n",
    "  y = 2\n",
    "elif x < 12:\n",
    "  y = 3\n",
    "else:\n",
    "  y = 4"
   ]
  },
  {
   "cell_type": "code",
   "execution_count": 24,
   "id": "3f93a573-d41e-4cd3-9989-51e288195f37",
   "metadata": {
    "tags": []
   },
   "outputs": [
    {
     "name": "stdout",
     "output_type": "stream",
     "text": [
      "3\n"
     ]
    }
   ],
   "source": [
    "print(y)"
   ]
  },
  {
   "cell_type": "code",
   "execution_count": 25,
   "id": "5f19cf43-e244-4b70-a621-da8cefc99b8d",
   "metadata": {
    "tags": []
   },
   "outputs": [
    {
     "name": "stdin",
     "output_type": "stream",
     "text": [
      " 2\n"
     ]
    },
    {
     "name": "stdout",
     "output_type": "stream",
     "text": [
      "2\n"
     ]
    }
   ],
   "source": [
    "x = int(input())\n",
    "if x < 4:\n",
    "  y = 4\n",
    "if x < 8:\n",
    "  y = 3\n",
    "if x < 12:\n",
    "  y = 2\n",
    "else:\n",
    "  y = 1\n",
    "print(y)"
   ]
  },
  {
   "cell_type": "code",
   "execution_count": 26,
   "id": "dfb9e3ad-2cb9-4cec-ac98-b2cee6b2f08d",
   "metadata": {
    "tags": []
   },
   "outputs": [
    {
     "name": "stdin",
     "output_type": "stream",
     "text": [
      " 2\n",
      " 5\n"
     ]
    },
    {
     "name": "stdout",
     "output_type": "stream",
     "text": [
      "Two\n"
     ]
    }
   ],
   "source": [
    "x = int(input())\n",
    "y = int(input())\n",
    "if x < 10:\n",
    "    if y == 4:\n",
    "        print(\"One\")\n",
    "    elif y > 4:\n",
    "        print(\"Two\")\n",
    "    else:\n",
    "        print(\"Three\")\n",
    "else:\n",
    "    print(\"Four\")"
   ]
  },
  {
   "cell_type": "code",
   "execution_count": 29,
   "id": "3ea971d4-09ab-4c5b-86a0-4f411cb78ca0",
   "metadata": {
    "tags": []
   },
   "outputs": [
    {
     "name": "stdin",
     "output_type": "stream",
     "text": [
      "Enter a number:  e\n"
     ]
    },
    {
     "name": "stdout",
     "output_type": "stream",
     "text": [
      "c\n"
     ]
    }
   ],
   "source": [
    "try:\n",
    "    x = float(input(\"Enter a number: \"))\n",
    "    if x > 0:\n",
    "        y =  \"a\"\n",
    "    else:\n",
    "        y = \"b\"\n",
    "except ValueError:\n",
    "    y = \"c\"\n",
    "print(y)"
   ]
  },
  {
   "cell_type": "code",
   "execution_count": 30,
   "id": "88636da5-eb17-4b77-96fc-ff6c8ff50016",
   "metadata": {
    "tags": []
   },
   "outputs": [
    {
     "name": "stdout",
     "output_type": "stream",
     "text": [
      "0\n",
      "1\n",
      "2\n",
      "3\n",
      "4\n"
     ]
    }
   ],
   "source": [
    "x = 0\n",
    "y = 10\n",
    "for z in range(5):\n",
    "    x = x + y\n",
    "    print(z)\n"
   ]
  },
  {
   "cell_type": "code",
   "execution_count": 31,
   "id": "0e7cb040-6c21-4878-9bde-9eadfdddc7b1",
   "metadata": {
    "tags": []
   },
   "outputs": [
    {
     "name": "stdin",
     "output_type": "stream",
     "text": [
      " 0\n"
     ]
    },
    {
     "name": "stdout",
     "output_type": "stream",
     "text": [
      "0 10 4\n"
     ]
    }
   ],
   "source": [
    "while True:\n",
    "    x = int(input())\n",
    "    if x == 0:\n",
    "        break\n",
    "    if y < z:\n",
    "        z = y\n",
    "    y = y + 1\n",
    "    x = x * 2\n",
    "print(x,y,z)"
   ]
  },
  {
   "cell_type": "code",
   "execution_count": 33,
   "id": "7723234b-0f1b-4aba-87f6-ee545686e802",
   "metadata": {
    "tags": []
   },
   "outputs": [
    {
     "name": "stdout",
     "output_type": "stream",
     "text": [
      "30\n"
     ]
    }
   ],
   "source": [
    "x = 0\n",
    "y = 10\n",
    "for z in range(3):\n",
    "    x = x + y \n",
    "print(x)"
   ]
  },
  {
   "cell_type": "code",
   "execution_count": 34,
   "id": "094a22e3-6bbf-4dc7-ae5f-24195ddd23d5",
   "metadata": {
    "tags": []
   },
   "outputs": [
    {
     "name": "stdout",
     "output_type": "stream",
     "text": [
      "10\n"
     ]
    }
   ],
   "source": [
    "x = 0\n",
    "y = 10\n",
    "for z in range(y):\n",
    "    x = x + y \n",
    "print(y)"
   ]
  },
  {
   "cell_type": "code",
   "execution_count": 1,
   "id": "c91d5df2-e451-490e-9e39-6b28467eef04",
   "metadata": {},
   "outputs": [
    {
     "name": "stdout",
     "output_type": "stream",
     "text": [
      "7\n"
     ]
    }
   ],
   "source": [
    "def doit(x,y):\n",
    "    z = 0\n",
    "    return x + y\n",
    "\n",
    "a = 5\n",
    "b = 2\n",
    "c = doit(a,b)\n",
    "print(c)"
   ]
  },
  {
   "cell_type": "code",
   "execution_count": 1,
   "id": "37987625-fb5d-4300-ae31-5172114cf9c5",
   "metadata": {},
   "outputs": [],
   "source": [
    "x = \"establishment\""
   ]
  },
  {
   "cell_type": "code",
   "execution_count": 2,
   "id": "3711aac3-d40c-48ef-a678-3ebc2606f9cc",
   "metadata": {
    "tags": []
   },
   "outputs": [
    {
     "data": {
      "text/plain": [
       "'ment'"
      ]
     },
     "execution_count": 2,
     "metadata": {},
     "output_type": "execute_result"
    }
   ],
   "source": [
    "x[-4:]"
   ]
  },
  {
   "cell_type": "code",
   "execution_count": 3,
   "id": "9c3477fe-14c7-468c-8827-32ae78be597a",
   "metadata": {
    "tags": []
   },
   "outputs": [
    {
     "data": {
      "text/plain": [
       "'tab'"
      ]
     },
     "execution_count": 3,
     "metadata": {},
     "output_type": "execute_result"
    }
   ],
   "source": [
    "x[2:5]"
   ]
  },
  {
   "cell_type": "code",
   "execution_count": 4,
   "id": "ba693e8a-9282-48dc-a463-ef436c904bc6",
   "metadata": {
    "tags": []
   },
   "outputs": [
    {
     "name": "stdout",
     "output_type": "stream",
     "text": [
      "establ\n"
     ]
    }
   ],
   "source": [
    "x = \"establishment\"\n",
    "z = x.find(\"i\")\n",
    "y = x[:z]\n",
    "print(y)"
   ]
  },
  {
   "cell_type": "code",
   "execution_count": 7,
   "id": "13f17193-992c-495b-b3bf-249f9bfd50e8",
   "metadata": {
    "tags": []
   },
   "outputs": [
    {
     "ename": "TypeError",
     "evalue": "'str' object does not support item assignment",
     "output_type": "error",
     "traceback": [
      "\u001b[0;31m---------------------------------------------------------------------------\u001b[0m",
      "\u001b[0;31mTypeError\u001b[0m                                 Traceback (most recent call last)",
      "Cell \u001b[0;32mIn[7], line 2\u001b[0m\n\u001b[1;32m      1\u001b[0m x \u001b[38;5;241m=\u001b[39m \u001b[38;5;124m\"\u001b[39m\u001b[38;5;124mestablishment\u001b[39m\u001b[38;5;124m\"\u001b[39m\n\u001b[0;32m----> 2\u001b[0m \u001b[43mx\u001b[49m\u001b[43m[\u001b[49m\u001b[38;5;241;43m0\u001b[39;49m\u001b[43m]\u001b[49m \u001b[38;5;241m=\u001b[39m \u001b[38;5;124m\"\u001b[39m\u001b[38;5;124mE\u001b[39m\u001b[38;5;124m\"\u001b[39m\n\u001b[1;32m      3\u001b[0m \u001b[38;5;28mprint\u001b[39m(x)\n",
      "\u001b[0;31mTypeError\u001b[0m: 'str' object does not support item assignment"
     ]
    }
   ],
   "source": [
    "x = \"establishment\"\n",
    "x[0] = \"E\"\n",
    "print(x)"
   ]
  },
  {
   "cell_type": "code",
   "execution_count": 11,
   "id": "c680417b-37bd-463c-b093-148d9b025ae3",
   "metadata": {
    "tags": []
   },
   "outputs": [
    {
     "name": "stdout",
     "output_type": "stream",
     "text": [
      "mik\n"
     ]
    }
   ],
   "source": [
    "x = \"mike\"\n",
    "if x.find(\"fk\")!= -1:\n",
    "    y = x[1:]\n",
    "else:\n",
    "    y = x[:-1]\n",
    "print(y)"
   ]
  },
  {
   "cell_type": "code",
   "execution_count": 14,
   "id": "6dadc511-bc76-4fde-baab-ee908fb39bab",
   "metadata": {
    "tags": []
   },
   "outputs": [
    {
     "name": "stdout",
     "output_type": "stream",
     "text": [
      "mokem\n"
     ]
    }
   ],
   "source": [
    "x = \"mike\"\n",
    "y = x + x\n",
    "z = y.replace(\"i\",\"o\")\n",
    "w = z[:5]\n",
    "print(w)"
   ]
  },
  {
   "cell_type": "code",
   "execution_count": 16,
   "id": "6e344e42-400b-4103-b7c4-7ae2aae7ef07",
   "metadata": {
    "tags": []
   },
   "outputs": [
    {
     "ename": "SyntaxError",
     "evalue": "f-string expression part cannot include a backslash (2178681619.py, line 3)",
     "output_type": "error",
     "traceback": [
      "\u001b[0;36m  Cell \u001b[0;32mIn[16], line 3\u001b[0;36m\u001b[0m\n\u001b[0;31m    print(f\"{z\\ny}\")\u001b[0m\n\u001b[0m                   ^\u001b[0m\n\u001b[0;31mSyntaxError\u001b[0m\u001b[0;31m:\u001b[0m f-string expression part cannot include a backslash\n"
     ]
    }
   ],
   "source": [
    "z = 10\n",
    "y = 20\n",
    "print(f\"{z\\ny}\")"
   ]
  },
  {
   "cell_type": "code",
   "execution_count": 17,
   "id": "bb0574f6-715c-4348-9788-699ecbc818fb",
   "metadata": {
    "tags": []
   },
   "outputs": [
    {
     "data": {
      "text/plain": [
       "False"
      ]
     },
     "execution_count": 17,
     "metadata": {},
     "output_type": "execute_result"
    }
   ],
   "source": [
    "y == 10"
   ]
  },
  {
   "cell_type": "code",
   "execution_count": 18,
   "id": "877f0a30-7892-4f02-8274-46a8f603f8eb",
   "metadata": {
    "tags": []
   },
   "outputs": [
    {
     "ename": "IndentationError",
     "evalue": "expected an indented block after 'for' statement on line 2 (1010779877.py, line 3)",
     "output_type": "error",
     "traceback": [
      "\u001b[0;36m  Cell \u001b[0;32mIn[18], line 3\u001b[0;36m\u001b[0m\n\u001b[0;31m    print(f'{j}')\u001b[0m\n\u001b[0m    ^\u001b[0m\n\u001b[0;31mIndentationError\u001b[0m\u001b[0;31m:\u001b[0m expected an indented block after 'for' statement on line 2\n"
     ]
    }
   ],
   "source": [
    "x = 10\n",
    "for j in range(x):\n",
    "print(f'{j}')"
   ]
  },
  {
   "cell_type": "code",
   "execution_count": 19,
   "id": "f82745ea-95e9-40cb-9fc6-7b587cfa77a6",
   "metadata": {
    "tags": []
   },
   "outputs": [
    {
     "name": "stdout",
     "output_type": "stream",
     "text": [
      "0\n",
      "1\n",
      "2\n",
      "3\n",
      "4\n",
      "5\n",
      "6\n",
      "7\n",
      "8\n",
      "9\n"
     ]
    }
   ],
   "source": [
    "x = 10\n",
    "for j in range(x):\n",
    "    print(f'{j}')\n",
    "z = j % x\n"
   ]
  },
  {
   "cell_type": "code",
   "execution_count": 20,
   "id": "74c2b393-b969-4188-b49a-6fdfb0e626d2",
   "metadata": {
    "tags": []
   },
   "outputs": [
    {
     "ename": "SyntaxError",
     "evalue": "Missing parentheses in call to 'print'. Did you mean print(...)? (3418376457.py, line 5)",
     "output_type": "error",
     "traceback": [
      "\u001b[0;36m  Cell \u001b[0;32mIn[20], line 5\u001b[0;36m\u001b[0m\n\u001b[0;31m    print z + j + x\u001b[0m\n\u001b[0m    ^\u001b[0m\n\u001b[0;31mSyntaxError\u001b[0m\u001b[0;31m:\u001b[0m Missing parentheses in call to 'print'. Did you mean print(...)?\n"
     ]
    }
   ],
   "source": [
    "x = 10\n",
    "for j in range(x):\n",
    "    print(f'{j}')\n",
    "z = j % x\n",
    "print z + j + x"
   ]
  },
  {
   "cell_type": "code",
   "execution_count": 3,
   "id": "d797737c-5f82-420f-9a0a-b53577633197",
   "metadata": {},
   "outputs": [],
   "source": [
    "%%pybot \n",
    "\n",
    "Write a program to input length and width and output area\n",
    "\n",
    "Use the ipython interact decorator function\n"
   ]
  },
  {
   "cell_type": "code",
   "execution_count": null,
   "id": "990a198c-1d54-45b7-a9d0-be61b5b9eb24",
   "metadata": {},
   "outputs": [],
   "source": []
  }
 ],
 "metadata": {
  "kernelspec": {
   "display_name": "Python 3 (ipykernel)",
   "language": "python",
   "name": "python3"
  },
  "language_info": {
   "codemirror_mode": {
    "name": "ipython",
    "version": 3
   },
   "file_extension": ".py",
   "mimetype": "text/x-python",
   "name": "python",
   "nbconvert_exporter": "python",
   "pygments_lexer": "ipython3",
   "version": "3.11.3"
  }
 },
 "nbformat": 4,
 "nbformat_minor": 5
}
