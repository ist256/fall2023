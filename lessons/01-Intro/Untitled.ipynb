{
 "cells": [
  {
   "cell_type": "code",
   "execution_count": 2,
   "id": "1ae6ed30-bb1d-4e45-8d6e-755909f8d1ee",
   "metadata": {
    "tags": []
   },
   "outputs": [],
   "source": [
    "import math"
   ]
  },
  {
   "cell_type": "code",
   "execution_count": 3,
   "id": "c7b66615-6fcc-4ab8-80e2-41b8b387747a",
   "metadata": {
    "tags": []
   },
   "outputs": [
    {
     "name": "stdin",
     "output_type": "stream",
     "text": [
      "Enter a number: 5\n"
     ]
    }
   ],
   "source": [
    "x = int(input(\"Enter a number:\"))\n",
    "y = math.exp(2)\n"
   ]
  },
  {
   "cell_type": "code",
   "execution_count": 4,
   "id": "e3c0a8cd-3449-4fea-952a-413148f49428",
   "metadata": {
    "tags": []
   },
   "outputs": [],
   "source": [
    "%%pybot \n",
    "\n",
    "Write a python program to calculate the volume of a cylender. \n",
    "\n",
    "input the radius and height"
   ]
  },
  {
   "cell_type": "code",
   "execution_count": 5,
   "id": "7bc8a4b5-6cd9-47da-b288-912e25eba11d",
   "metadata": {
    "tags": []
   },
   "outputs": [
    {
     "name": "stdin",
     "output_type": "stream",
     "text": [
      "Enter the radius of the cylinder:  10\n",
      "Enter the height of the cylinder:  10\n"
     ]
    },
    {
     "name": "stdout",
     "output_type": "stream",
     "text": [
      "The volume of the cylinder is: 3141.5926535897934\n"
     ]
    },
    {
     "data": {
      "text/plain": [
       "'\\n```\\nIn this program, we import the math module to use the pi constant. Then, we define a function called `calculate_volume` that takes the radius and height as parameters. The formula to calculate the volume of a cylinder is π * r^2 * h, where r is the radius and h is the height. Inside the function, we calculate the volume using this formula and return the result.\\nWe prompt the user to input the values for the radius and height of the cylinder using the `input()` function, and convert the input strings to floating-point numbers using the `float()` function.\\nFinally, we call the `calculate_volume` function with the user input values, store the returned volume in a variable named `cylinder_volume`, and print it out to the console.\\n'"
      ]
     },
     "execution_count": 5,
     "metadata": {},
     "output_type": "execute_result"
    }
   ],
   "source": [
    "#AI-Generated Output (Tokens: prompt=26, output=285)\n",
    "'''\n",
    "Here is a Python program that calculates the volume of a cylinder based on the input values for radius and height:\n",
    "```python\n",
    "'''\n",
    "import math\n",
    "def calculate_volume(radius, height):\n",
    "    volume = math.pi * radius**2 * height\n",
    "    return volume\n",
    "# Get input values for radius and height from the user\n",
    "radius = float(input(\"Enter the radius of the cylinder: \"))\n",
    "height = float(input(\"Enter the height of the cylinder: \"))\n",
    "# Call the function to calculate the volume\n",
    "cylinder_volume = calculate_volume(radius, height)\n",
    "# Print the calculated volume\n",
    "print(\"The volume of the cylinder is:\", cylinder_volume)\n",
    "'''\n",
    "```\n",
    "In this program, we import the math module to use the pi constant. Then, we define a function called `calculate_volume` that takes the radius and height as parameters. The formula to calculate the volume of a cylinder is π * r^2 * h, where r is the radius and h is the height. Inside the function, we calculate the volume using this formula and return the result.\n",
    "We prompt the user to input the values for the radius and height of the cylinder using the `input()` function, and convert the input strings to floating-point numbers using the `float()` function.\n",
    "Finally, we call the `calculate_volume` function with the user input values, store the returned volume in a variable named `cylinder_volume`, and print it out to the console.\n",
    "'''"
   ]
  },
  {
   "cell_type": "code",
   "execution_count": 7,
   "id": "f290f489-fcf6-4573-8e81-e731bd8bdc54",
   "metadata": {},
   "outputs": [
    {
     "name": "stdin",
     "output_type": "stream",
     "text": [
      "enter your name bill\n"
     ]
    },
    {
     "name": "stdout",
     "output_type": "stream",
     "text": [
      "I don't know who you are!\n"
     ]
    }
   ],
   "source": [
    "name = input(\"enter your name\")\n",
    "if name == \"tony\":\n",
    "    print(\"you are my pal\")\n",
    "else:\n",
    "    print(\"I don't know who you are!\")"
   ]
  },
  {
   "cell_type": "code",
   "execution_count": 8,
   "id": "aeb2b455-95dc-41ab-86d4-f7007d9cd4d8",
   "metadata": {
    "tags": []
   },
   "outputs": [],
   "source": [
    "\n",
    "\n",
    "assert add(1, 2, 3) == 6"
   ]
  },
  {
   "cell_type": "code",
   "execution_count": 2,
   "id": "882e3fe7-1593-428f-a7f2-5f5370daf0d9",
   "metadata": {
    "tags": []
   },
   "outputs": [
    {
     "name": "stdout",
     "output_type": "stream",
     "text": [
      "60\n"
     ]
    }
   ],
   "source": [
    "def add(a, b, c):\n",
    "    total = 0\n",
    "    total = total + a\n",
    "    total = total + b\n",
    "    total = total + c\n",
    "    return total\n",
    "\n",
    "\n",
    "number1 = 10\n",
    "number2 = 20\n",
    "number3 = 30\n",
    "total = add(number1, number2, number3)\n",
    "print(total)"
   ]
  },
  {
   "cell_type": "code",
   "execution_count": null,
   "id": "6a30381c-186d-4e5a-a79a-822904d6f38f",
   "metadata": {},
   "outputs": [],
   "source": []
  },
  {
   "cell_type": "code",
   "execution_count": null,
   "id": "ab89d523-5dd6-47dc-8446-2ed51858cc02",
   "metadata": {},
   "outputs": [],
   "source": []
  }
 ],
 "metadata": {
  "kernelspec": {
   "display_name": "Python 3 (ipykernel)",
   "language": "python",
   "name": "python3"
  },
  "language_info": {
   "codemirror_mode": {
    "name": "ipython",
    "version": 3
   },
   "file_extension": ".py",
   "mimetype": "text/x-python",
   "name": "python",
   "nbconvert_exporter": "python",
   "pygments_lexer": "ipython3",
   "version": "3.11.3"
  }
 },
 "nbformat": 4,
 "nbformat_minor": 5
}
