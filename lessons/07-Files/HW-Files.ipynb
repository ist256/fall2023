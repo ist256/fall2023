{
 "cells": [
  {
   "cell_type": "markdown",
   "metadata": {},
   "source": [
    "# Homework: Mass Email Marketing\n",
    "\n",
    "## The Problem\n",
    "\n",
    "You have been contracted by former energy company **Enron** to create a database of email addresses for \"mass marketing\" *ahem* ,*cough*: SPAMMING. You will get the emails for this \"mass marketing\" campaign from the email inboxes of the sales team, provided here.\n",
    "\n",
    "- `enron-allen-inbox.txt`\n",
    "- `enron-donohoe-inbox.txt`\n",
    "- `enron-lay-inbox.txt`\n",
    "- `enron-williams-inbox.txt`\n",
    "- `enron-onemail-inbox.txt` ( a sample with just one email in it - helpful for testing)\n",
    "\n",
    "### Run this cell to download the files.\n"
   ]
  },
  {
   "cell_type": "code",
   "execution_count": null,
   "metadata": {},
   "outputs": [],
   "source": [
    "! curl https://raw.githubusercontent.com/mafudge/datasets/master/ist256/07-Files/enron-allen-inbox.txt -o enron-allen-inbox.txt\n",
    "! curl https://raw.githubusercontent.com/mafudge/datasets/master/ist256/07-Files/enron-donohoe-inbox.txt -o enron-donohoe-inbox.txt\n",
    "! curl https://raw.githubusercontent.com/mafudge/datasets/master/ist256/07-Files/enron-lay-inbox.txt -o enron-lay-inbox.txt\n",
    "! curl https://raw.githubusercontent.com/mafudge/datasets/master/ist256/07-Files/enron-williams-inbox.txt -o enron-williams-inbox.txt\n",
    "! curl https://raw.githubusercontent.com/mafudge/datasets/master/ist256/07-Files/enron-onemail-inbox.txt -o enron-onemail-inbox.txt"
   ]
  },
  {
   "cell_type": "markdown",
   "metadata": {},
   "source": [
    "Your task is to provide a drop-down so the user of the program can select one of the 5 mailboxes. Upon running the interaction the program will:\n",
    "\n",
    " - read the selected mailbox file a line at a time\n",
    " - find any lines beginning with `From:`.\n",
    " - extract out the email address from the `From:` line.\n",
    " - use the `isEmail()` function (provided below) to ensure its a valid email address.\n",
    " - print the email address\n",
    " - write the email to the emails file. (for example `enron-allen-inbox.txt` would write the emails to `enron-allen-emails.txt`.\n",
    " - NOTE: any emails from the `enron.com` domain are internal and should be omitted from the list. We don't need to \"mass market\" to ourselves!\n",
    " \n",
    "\n",
    "HINTS: \n",
    "\n",
    " - We saw how to extract emails in the Lab. This approach should work here.\n",
    " - The **problem simplification** approach is a good approach to this problem. Start with a simpler problem and add one more piece of complexity with each iteration:\n",
    "    - First solve a simpler problem which you extract the single email from the `enron-onemail-inbox.txt` file.\n",
    "    - Then re-write your program to use another mailbox like `enron-allen-inbox.txt` to make sure it prints multiple emails.\n",
    "    - Next re-write your program to omit any emails with the domain `enron.com`\n",
    "    - Next not only print the emails, but write them back out to the file: `enron-allen-emails.txt`\n",
    "    - Finally add the ipywidget drop-down where you can select a mailbox and save to a different `emails` file based on the `inbox` file name.\n"
   ]
  },
  {
   "cell_type": "markdown",
   "metadata": {
    "label": "problem_analysis_cell"
   },
   "source": [
    "## Part 1: Problem Analysis\n",
    "\n",
    "Inputs:\n",
    "\n",
    "```\n",
    "TODO: Inputs\n",
    "```\n",
    "\n",
    "Outputs:\n",
    "\n",
    "```\n",
    "TODO: Outputs\n",
    "```\n",
    "\n",
    "Algorithm (Steps in Program):  \n",
    "\n",
    "```\n",
    "TODO:Steps Here\n",
    "\n",
    "```"
   ]
  },
  {
   "cell_type": "markdown",
   "metadata": {},
   "source": [
    "## Part 2: Code Solution\n",
    "\n",
    "You may write your code in several cells, but place the complete, final working copy of your code solution within this single cell below. Only the within this cell will be considered your solution. Any imports or user-defined functions should be copied into this cell. "
   ]
  },
  {
   "cell_type": "code",
   "execution_count": 39,
   "metadata": {
    "label": "code_solution_cell"
   },
   "outputs": [],
   "source": [
    "import re\n",
    "def isemail(text):\n",
    "    '''\n",
    "    returns True if text is a valid email address\n",
    "    '''\n",
    "    return re.fullmatch(\"([A-Za-z0-9]+[.-_])*[A-Za-z0-9]+@[A-Za-z0-9-]+(\\.[A-Z|a-z]{2,})+\", text) is not None\n",
    "\n",
    "assert isemail(\"mafudge@syr.edu\")==True\n",
    "assert isemail(\"mafudge@mail.syr.edu\")==True\n",
    "assert isemail(\"mike.mafudge@syr.edu\")==True\n",
    "assert isemail(\"mike@\")==False\n",
    "assert isemail(\"@syr.edu\")==False\n",
    "assert isemail(\"m@syr\")==False\n",
    "assert isemail(\"msyr\")==False"
   ]
  },
  {
   "cell_type": "code",
   "execution_count": null,
   "metadata": {},
   "outputs": [],
   "source": [
    "# Step 2: Write code here\n"
   ]
  },
  {
   "cell_type": "markdown",
   "metadata": {
    "label": "homework_questions_cell"
   },
   "source": [
    "## Part 3: Questions\n",
    "\n",
    "1. Did you write your own user-defined function? For what purpose?\n",
    "\n",
    "`--== Double-Click and Write Your Answer Below This Line ==--`  \n",
    "\n",
    "\n",
    "2. Explain how you might re-write this program to create one large file from all the mailboxes. No code, just explain it.\n",
    "\n",
    "`--== Double-Click and Write Your Answer Below This Line ==--`  \n",
    "\n",
    "\n",
    "3. Devise an approach to remove duplicate emails from the output file. You don't have to write as code, just explain it.\n",
    "\n",
    "`--== Double-Click and Write Your Answer Below This Line ==--`  \n",
    "\n",
    "\n"
   ]
  },
  {
   "cell_type": "markdown",
   "metadata": {
    "label": "reflection_cell"
   },
   "source": [
    "## Part 4: Reflection\n",
    "\n",
    "Reflect upon your experience completing this assignment. This should be a personal narrative, in your own voice, and cite specifics relevant to the activity as to help the grader understand how you arrived at the code you submitted. Things to consider touching upon: Elaborate on the process itself. Did your original problem analysis work as designed?  How many iterations did you go through before you arrived at the solution? Where did you struggle along the way and how did you overcome it? What did you learn from completing the assignment? What do you need to work on to get better? What was most valuable and least valuable about this exercise? Do you have any suggestions for improvements?\n",
    "\n",
    "To make a good reflection, you should journal your thoughts, questions and comments while you complete the exercise.\n",
    "\n",
    "Keep your response to between 100 and 250 words.\n",
    "\n",
    "`--== Double-Click and Write Your Reflection Below Here ==--`  \n"
   ]
  },
  {
   "cell_type": "code",
   "execution_count": null,
   "metadata": {},
   "outputs": [],
   "source": [
    "# run this code to turn in your work!\n",
    "from coursetools.submission import Submission\n",
    "Submission().submit()"
   ]
  },
  {
   "cell_type": "code",
   "execution_count": null,
   "metadata": {},
   "outputs": [],
   "source": []
  }
 ],
 "metadata": {
  "anaconda-cloud": {},
  "kernelspec": {
   "display_name": "Python 3 (ipykernel)",
   "language": "python",
   "name": "python3"
  },
  "language_info": {
   "codemirror_mode": {
    "name": "ipython",
    "version": 3
   },
   "file_extension": ".py",
   "mimetype": "text/x-python",
   "name": "python",
   "nbconvert_exporter": "python",
   "pygments_lexer": "ipython3",
   "version": "3.9.7"
  },
  "toc": {
   "base_numbering": 1,
   "nav_menu": {},
   "number_sections": false,
   "sideBar": false,
   "skip_h1_title": false,
   "title_cell": "Table of Contents",
   "title_sidebar": "Contents",
   "toc_cell": false,
   "toc_position": {},
   "toc_section_display": false,
   "toc_window_display": false
  },
  "varInspector": {
   "cols": {
    "lenName": 16,
    "lenType": 16,
    "lenVar": 40
   },
   "kernels_config": {
    "python": {
     "delete_cmd_postfix": "",
     "delete_cmd_prefix": "del ",
     "library": "var_list.py",
     "varRefreshCmd": "print(var_dic_list())"
    },
    "r": {
     "delete_cmd_postfix": ") ",
     "delete_cmd_prefix": "rm(",
     "library": "var_list.r",
     "varRefreshCmd": "cat(var_dic_list()) "
    }
   },
   "types_to_exclude": [
    "module",
    "function",
    "builtin_function_or_method",
    "instance",
    "_Feature"
   ],
   "window_display": false
  }
 },
 "nbformat": 4,
 "nbformat_minor": 4
}
