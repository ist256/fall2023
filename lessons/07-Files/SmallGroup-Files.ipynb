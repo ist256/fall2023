{
 "cells": [
  {
   "cell_type": "markdown",
   "metadata": {},
   "source": [
    "# Now You Code In Class: Extracting Hyperlinks from a Webpage\n",
    "\n",
    "Let's write a program which extracts the hyperlinks from a Webpage. There are 3 webpage files you can try with this program:\n",
    "\n",
    "    httpbin-org.html\n",
    "    ischool-directory.html\n",
    "    ist256-com.html\n",
    "    wikipedia-President-of-the-United-States.html\n",
    "\n",
    "Run this command to download these three files:\n",
    "\n"
   ]
  },
  {
   "cell_type": "code",
   "execution_count": null,
   "metadata": {},
   "outputs": [],
   "source": [
    "!curl https://httpbin.org/ -o httpbin-org.html\n",
    "!curl https://ischool.syr.edu/directory/?cat=all -o ischool-directory.html\n",
    "!curl https://ist256.com -o ist256-com.html   \n",
    "!curl https://en.wikipedia.org/wiki/President_of_the_United_States  -o wikipedia-president-of-the-united-states.html"
   ]
  },
  {
   "cell_type": "markdown",
   "metadata": {},
   "source": [
    "In addition you can download any file you wish by copying the `!curl` command. Place the URL after `curl` and the filename after `-o`.\n",
    "\n",
    "## Strategy\n",
    "\n",
    "Here's the basic strategy. We must read in the contents all at once since there is not line structure within the HTML. So as one big string we should be looking for the following token in the text of the file `<a href=\"` when you find this token the link is all characters until the second `\"` character. \n",
    "\n",
    "For example: `<a href=\"http://ist256.github.io\">` the Hyperlink would be: `http://ist256.github.io`.\n",
    "\n",
    "In addition there are 4 types of links:\n",
    "\n",
    "- **absolute** links are URL's like `https://www.google.com`. These begin with `http://` or `https://`\n",
    "- **email** links like `mailto:president@whitehouse.gov`. This begin with `mailto:`\n",
    "- **bookmarks** are links to places on the same page. `#about`. These begin with `#`. \n",
    "- **relative** links (to pages on the same site). Consider all other links this type of link.\n",
    "\n",
    "\n",
    "## Recommended approach : Bottom Up\n",
    "\n",
    "We will use an approach called Bottom Up to solve this problem. It works by writing the alogrithm at a high level, then for each step in the algorithm which is non-trivial (more than a line of code) we write the step as its own function. We test the functions then assemble the final program code by calling the functions we made.\n",
    "\n",
    "THE ALGORITHM\n",
    "\n",
    "    1. read the file into a string\n",
    "    2. loop\n",
    "    3.    if string has link\n",
    "    4.       extract link from string returning link and remaining string\n",
    "    5.       determine link type\n",
    "    6.       print link and link type (external / internal / email / bookmark)\n",
    "    7.    else\n",
    "    8.       stop looping\n",
    "\n",
    "\n",
    "### Which steps must be written as functions?\n",
    "\n",
    "Ask yourself which lines of the alogirthm can be implemented trivially in Python.\n",
    "\n",
    "PROMPT 1\n",
    "\n",
    "\n",
    "\n",
    "##  Step 1a: Problem Analysis for `readFile()`\n",
    "\n",
    "Inputs: \n",
    "\n",
    "    PROMPT 2\n",
    "\n",
    "Outputs: \n",
    "\n",
    "    PROMPT 3\n",
    "\n",
    "Algorithm (Steps in Program):\n",
    "\n",
    "    PROMPT 4\n",
    "\n",
    "How many tests are required and why?\n",
    "\n",
    "    PROMPT 5\n",
    "\n",
    "\n",
    "## Step 1b: Code the function"
   ]
  },
  {
   "cell_type": "code",
   "execution_count": null,
   "metadata": {},
   "outputs": [],
   "source": [
    "# PROMPT 6 - write function\n"
   ]
  },
  {
   "cell_type": "markdown",
   "metadata": {},
   "source": [
    "## Step 2: Write tests\n",
    "\n",
    "Let's make sure the function works"
   ]
  },
  {
   "cell_type": "code",
   "execution_count": null,
   "metadata": {},
   "outputs": [],
   "source": [
    "# PROMPT 7 Test(s) for function\n"
   ]
  },
  {
   "cell_type": "markdown",
   "metadata": {},
   "source": [
    "##  ## Step 3a: Problem Analysis for `extractLink()`\n",
    "\n",
    "Inputs: \n",
    "\n",
    "    PROMPT 8\n",
    "\n",
    "Outputs: \n",
    "\n",
    "    PROMPT 9\n",
    "\n",
    "Algorithm (Steps in Program):\n",
    "\n",
    "    PROMPT 10 (Having Trouble? Let's discuss an approach. Write then re-factor into a function.)\n",
    "\n",
    "How many tests are required and why?\n",
    "\n",
    "    PROMPT 11\n",
    "\n",
    "\n",
    "## Step 3b: Code the function"
   ]
  },
  {
   "cell_type": "code",
   "execution_count": null,
   "metadata": {},
   "outputs": [],
   "source": [
    "# PROMPT 12 - write function\n"
   ]
  },
  {
   "cell_type": "markdown",
   "metadata": {},
   "source": [
    "## Step 4: Write tests\n",
    "\n",
    "Let's make sure the function works"
   ]
  },
  {
   "cell_type": "code",
   "execution_count": null,
   "metadata": {},
   "outputs": [],
   "source": [
    "# PROMPT 13 - write test(s) for function\n"
   ]
  },
  {
   "cell_type": "markdown",
   "metadata": {},
   "source": [
    "##  ## Step 5a: Problem Analysis for `linkType()`\n",
    "\n",
    "Inputs: \n",
    "\n",
    "    PROMPT 14\n",
    "\n",
    "Outputs: \n",
    "\n",
    "    PROMPT 15\n",
    "\n",
    "Algorithm (Steps in Program):\n",
    "\n",
    "    PROMPT 16 \n",
    "\n",
    "How many tests are required and why?\n",
    "\n",
    "    PROMPT 17\n",
    "\n",
    "\n",
    "## Step 5b: Code the function"
   ]
  },
  {
   "cell_type": "code",
   "execution_count": null,
   "metadata": {},
   "outputs": [],
   "source": [
    "# PROMPT 18 - write function \n"
   ]
  },
  {
   "cell_type": "markdown",
   "metadata": {},
   "source": [
    "## Step 6: Write tests\n",
    "\n",
    "Let's make sure the function works"
   ]
  },
  {
   "cell_type": "code",
   "execution_count": null,
   "metadata": {},
   "outputs": [],
   "source": [
    "# PROMPT 19 - write tests for function\n"
   ]
  },
  {
   "cell_type": "markdown",
   "metadata": {},
   "source": [
    "## Final Program\n",
    "\n",
    "With functions written, return to the original algorithm and imeplement. Here's a layout to get it working in ipython interact."
   ]
  },
  {
   "cell_type": "code",
   "execution_count": null,
   "metadata": {
    "scrolled": true
   },
   "outputs": [],
   "source": [
    "from ipywidgets import interact_manual\n",
    "files = ['httpbin-org.html','ischool-directory.html','ist256-com.html','wikipedia-president-of-the-united-states.html']\n",
    "\n",
    "print(\"Link Extractor\")\n",
    "@interact_manual( choose_file=files)\n",
    "def main(choose_file):\n",
    "    #TODO Write code here\n"
   ]
  },
  {
   "cell_type": "code",
   "execution_count": null,
   "metadata": {},
   "outputs": [],
   "source": [
    "# run this code to turn in your work!\n",
    "from coursetools.submission import Submission\n",
    "Submission().submit_now()"
   ]
  }
 ],
 "metadata": {
  "anaconda-cloud": {},
  "kernelspec": {
   "display_name": "Python 3 (ipykernel)",
   "language": "python",
   "name": "python3"
  },
  "language_info": {
   "codemirror_mode": {
    "name": "ipython",
    "version": 3
   },
   "file_extension": ".py",
   "mimetype": "text/x-python",
   "name": "python",
   "nbconvert_exporter": "python",
   "pygments_lexer": "ipython3",
   "version": "3.9.7"
  },
  "toc": {
   "base_numbering": 1,
   "nav_menu": {},
   "number_sections": false,
   "sideBar": false,
   "skip_h1_title": false,
   "title_cell": "Table of Contents",
   "title_sidebar": "Contents",
   "toc_cell": false,
   "toc_position": {},
   "toc_section_display": false,
   "toc_window_display": false
  },
  "varInspector": {
   "cols": {
    "lenName": 16,
    "lenType": 16,
    "lenVar": 40
   },
   "kernels_config": {
    "python": {
     "delete_cmd_postfix": "",
     "delete_cmd_prefix": "del ",
     "library": "var_list.py",
     "varRefreshCmd": "print(var_dic_list())"
    },
    "r": {
     "delete_cmd_postfix": ") ",
     "delete_cmd_prefix": "rm(",
     "library": "var_list.r",
     "varRefreshCmd": "cat(var_dic_list()) "
    }
   },
   "types_to_exclude": [
    "module",
    "function",
    "builtin_function_or_method",
    "instance",
    "_Feature"
   ],
   "window_display": false
  }
 },
 "nbformat": 4,
 "nbformat_minor": 1
}
