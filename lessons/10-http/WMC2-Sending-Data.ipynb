{
 "cells": [
  {
   "cell_type": "markdown",
   "metadata": {},
   "source": [
    "# Watch Me Code 2: Ways to send data over HTTP \n",
    "\n",
    "Examples using the httpbin.org service\n",
    "\n",
    "https://httpbin.org/\n"
   ]
  },
  {
   "cell_type": "code",
   "execution_count": null,
   "metadata": {},
   "outputs": [],
   "source": [
    "import requests"
   ]
  },
  {
   "cell_type": "code",
   "execution_count": null,
   "metadata": {},
   "outputs": [],
   "source": [
    "# In the URL query string, HTTP GET\n",
    "url = \"https://httpbin.org/get?name=mike&age=45\"\n",
    "response = requests.get(url)\n",
    "response.json()\n"
   ]
  },
  {
   "cell_type": "code",
   "execution_count": null,
   "metadata": {},
   "outputs": [],
   "source": [
    "# same example but don't create the querystring by hand. use a dict\n",
    "querystring = { 'name' : 'mike', 'age' : 45 }\n",
    "url = \"http://httpbin.org/get\"\n",
    "response = requests.get(url, params = querystring)\n",
    "response.json()"
   ]
  },
  {
   "cell_type": "code",
   "execution_count": null,
   "metadata": {},
   "outputs": [],
   "source": [
    "# make a request, adding data to the header\n",
    "\n",
    "# NOTE: all header values MUST be strings!!! AND they are case-insensitive as per the HTTP protocol spec.\n",
    "header = { 'api-key' : 'testing', 'id' : '345876' }\n",
    "url = \"http://httpbin.org/get\"\n",
    "response = requests.get(url, headers = header)\n",
    "response.json()"
   ]
  },
  {
   "cell_type": "code",
   "execution_count": null,
   "metadata": {},
   "outputs": [],
   "source": [
    "# here's a combination of querystring plus headers:\n",
    "querystring = { 'name' : 'mike', 'age' : 45 }\n",
    "header = { 'api-key' : 'demo'}\n",
    "url = \"http://httpbin.org/get\"\n",
    "response = requests.get(url, params = querystring, headers = header)\n",
    "response.json()"
   ]
  },
  {
   "cell_type": "code",
   "execution_count": null,
   "metadata": {},
   "outputs": [],
   "source": [
    "# here's an example of a post\n",
    "payload = \"this is a lot of data.this is a lot of data.this is a lot of data.this is a lot of data.this is a lot of data.this is a lot of data.this is a lot of data.\"\n",
    "url = \"http://httpbin.org/post\"\n",
    "response = requests.post(url, data = payload)\n",
    "response.json()"
   ]
  },
  {
   "cell_type": "code",
   "execution_count": null,
   "metadata": {},
   "outputs": [],
   "source": [
    "# here's another post, with a python dict, because there are key-values the post uses form.\n",
    "person = { 'name' : 'Mike', 'age' : 45, 'status' :  'married' }\n",
    "url = \"http://httpbin.org/post\"\n",
    "response = requests.post(url, data = person)\n",
    "response.json()"
   ]
  },
  {
   "cell_type": "code",
   "execution_count": null,
   "metadata": {},
   "outputs": [],
   "source": [
    "# this one uses a POST, payload, querystring and headers to show these can all be combined!\n",
    "person = { 'name' : 'Mike', 'age' : 45, 'status' :  'married' }\n",
    "header = { 'api-key' : '32871549', 'user-agent' : 'demo' }\n",
    "querystring = { 'id' : 1 }\n",
    "url = \"http://httpbin.org/post\"\n",
    "response = requests.post(url, data = person, params = querystring, headers=header )\n",
    "response.json()\n"
   ]
  },
  {
   "cell_type": "code",
   "execution_count": null,
   "metadata": {},
   "outputs": [],
   "source": []
  }
 ],
 "metadata": {
  "anaconda-cloud": {},
  "kernelspec": {
   "display_name": "Python 3 (ipykernel)",
   "language": "python",
   "name": "python3"
  },
  "language_info": {
   "codemirror_mode": {
    "name": "ipython",
    "version": 3
   },
   "file_extension": ".py",
   "mimetype": "text/x-python",
   "name": "python",
   "nbconvert_exporter": "python",
   "pygments_lexer": "ipython3",
   "version": "3.9.7"
  },
  "toc": {
   "base_numbering": 1,
   "nav_menu": {},
   "number_sections": false,
   "sideBar": false,
   "skip_h1_title": false,
   "title_cell": "Table of Contents",
   "title_sidebar": "Contents",
   "toc_cell": false,
   "toc_position": {},
   "toc_section_display": false,
   "toc_window_display": false
  },
  "varInspector": {
   "cols": {
    "lenName": 16,
    "lenType": 16,
    "lenVar": 40
   },
   "kernels_config": {
    "python": {
     "delete_cmd_postfix": "",
     "delete_cmd_prefix": "del ",
     "library": "var_list.py",
     "varRefreshCmd": "print(var_dic_list())"
    },
    "r": {
     "delete_cmd_postfix": ") ",
     "delete_cmd_prefix": "rm(",
     "library": "var_list.r",
     "varRefreshCmd": "cat(var_dic_list()) "
    }
   },
   "types_to_exclude": [
    "module",
    "function",
    "builtin_function_or_method",
    "instance",
    "_Feature"
   ],
   "window_display": false
  }
 },
 "nbformat": 4,
 "nbformat_minor": 1
}
