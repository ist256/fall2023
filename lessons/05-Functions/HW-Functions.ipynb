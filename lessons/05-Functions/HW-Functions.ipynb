{
 "cells": [
  {
   "cell_type": "markdown",
   "metadata": {},
   "source": [
    "# Homework: Paint Estimator 2.0\n",
    "\n",
    "## The Problem\n",
    "\n",
    "\n",
    "The big-box hardware store *House Depot* is back. They want you to improve upon the App you wrote previously that estimates the amount of paint required to paint a room.\n",
    "\n",
    "House depot sells 3 different qualities of paint:\n",
    "\n",
    "- 1 Gallon of **Everyday** paint costs 19.95 and covers 320 square feet  \n",
    "- 1 Gallon of **Premium** paint costs 29.95 and covers 400 square feet  \n",
    "- 1 Gallon of **Professional** paint costs 34.95 as covers 425 square feet  \n",
    "    \n",
    "Write a program which allows the user to input the dimensions of a room, number of coats, and select a paint quality. The program then outputs the square footage to be painted, gallons of paint, and total cost of the paint.\n",
    "\n",
    "### Requirements\n",
    "\n",
    "1. The app should use ipython widgets for a better user interface.\n",
    "\n",
    "- **length** of the room is a slider from 1 to 40 feet\n",
    "- **width** of the room is a slider from 1 to 40 feet\n",
    "- **height** of walls is a slider from 6 to 10 feet in 0.5 ft increments\n",
    "- **coats** is the number of coats of paint on the walls a sliders from 1 to 3\n",
    "- **paint** is a drop-down of the 3 qualities of paint `['Everyday','Premium','Professional']`\n",
    "\n",
    "2. You must write a function `calculate_paint_area` which given the length,width, and height of the room returns the paintable area (similar to the previous homework, only a function).\n",
    "3. You must write a function `get_paint_info` which given a paint quality, like `'Everyday'` will return the cost and square footage.\n",
    "4. A big title that says \"House Depot Paint Estimator\" must appear before the widgets.\n",
    "\n",
    "\n",
    "HINTS:\n",
    "\n",
    "- Take a \"bottom up\" approach. Write each function first, test the function, then once you know it's right use the functions in your main program.\n",
    "- The code exercise from small group demonstrates how to create drop-downs and sliders with ipython widgets\n",
    "- If you use several code cells (which you probably will) make sure a copy  of all relevant code is in the code solution cell.\n",
    "- Consult the lab to figure out how to complete the big title."
   ]
  },
  {
   "cell_type": "markdown",
   "metadata": {
    "label": "problem_analysis_cell"
   },
   "source": [
    "## Part 1: Problem Analysis\n",
    "\n",
    "Inputs:\n",
    "\n",
    "```\n",
    "TODO: Inputs\n",
    "```\n",
    "\n",
    "Outputs:\n",
    "\n",
    "```\n",
    "TODO: Outputs\n",
    "```\n",
    "\n",
    "Algorithm (Steps in Program):  \n",
    "\n",
    "```\n",
    "TODO:Steps Here\n",
    "\n",
    "```"
   ]
  },
  {
   "cell_type": "markdown",
   "metadata": {},
   "source": [
    "## Part 2: Code Solution\n",
    "\n",
    "You may write your code in several cells, but place the complete, final working copy of your code solution within this single cell below. Only the within this cell will be considered your solution. Any imports or user-defined functions should be copied into this cell. "
   ]
  },
  {
   "cell_type": "code",
   "execution_count": null,
   "metadata": {
    "label": "code_solution_cell"
   },
   "outputs": [],
   "source": [
    "# Part 2: Write code here\n",
    "# Write entire program no interact, no functions\n",
    "# Write the get_paint_info and calc_area\n",
    "# Test by calling function\n",
    "# Build your interact inputs\n",
    "# write the onclick() function"
   ]
  },
  {
   "cell_type": "markdown",
   "metadata": {
    "label": "homework_questions_cell"
   },
   "source": [
    "## Part 3: Questions\n",
    "\n",
    "1. Did you write any tests? How do you know the code is correct?\n",
    "\n",
    "`--== Double-Click and Write Your Answer Below This Line ==--`  \n",
    "\n",
    "\n",
    "2. How many times is each function that you wrote called?\n",
    "\n",
    "`--== Double-Click and Write Your Answer Below This Line ==--`  \n",
    "\n",
    "\n",
    "3. Which modules did you import and why?\n",
    "\n",
    "`--== Double-Click and Write Your Answer Below This Line ==--`  \n",
    "\n",
    "\n"
   ]
  },
  {
   "cell_type": "markdown",
   "metadata": {
    "label": "reflection_cell"
   },
   "source": [
    "## Part 4: Reflection\n",
    "\n",
    "Reflect upon your experience completing this assignment. This should be a personal narrative, in your own voice, and cite specifics relevant to the activity as to help the grader understand how you arrived at the code you submitted. Things to consider touching upon: Elaborate on the process itself. Did your original problem analysis work as designed?  How many iterations did you go through before you arrived at the solution? Where did you struggle along the way and how did you overcome it? What did you learn from completing the assignment? What do you need to work on to get better? What was most valuable and least valuable about this exercise? Do you have any suggestions for improvements?\n",
    "\n",
    "To make a good reflection, you should journal your thoughts, questions and comments while you complete the exercise.\n",
    "\n",
    "Keep your response to between 100 and 250 words.\n",
    "\n",
    "`--== Double-Click and Write Your Reflection Below Here ==--`  \n"
   ]
  },
  {
   "cell_type": "code",
   "execution_count": null,
   "metadata": {},
   "outputs": [],
   "source": [
    "# run this code to turn in your work!\n",
    "from coursetools.submission import Submission\n",
    "Submission().submit()"
   ]
  }
 ],
 "metadata": {
  "anaconda-cloud": {},
  "kernelspec": {
   "display_name": "Python 3 (ipykernel)",
   "language": "python",
   "name": "python3"
  },
  "language_info": {
   "codemirror_mode": {
    "name": "ipython",
    "version": 3
   },
   "file_extension": ".py",
   "mimetype": "text/x-python",
   "name": "python",
   "nbconvert_exporter": "python",
   "pygments_lexer": "ipython3",
   "version": "3.9.7"
  },
  "toc": {
   "base_numbering": 1,
   "nav_menu": {},
   "number_sections": false,
   "sideBar": false,
   "skip_h1_title": false,
   "title_cell": "Table of Contents",
   "title_sidebar": "Contents",
   "toc_cell": false,
   "toc_position": {},
   "toc_section_display": false,
   "toc_window_display": false
  },
  "varInspector": {
   "cols": {
    "lenName": 16,
    "lenType": 16,
    "lenVar": 40
   },
   "kernels_config": {
    "python": {
     "delete_cmd_postfix": "",
     "delete_cmd_prefix": "del ",
     "library": "var_list.py",
     "varRefreshCmd": "print(var_dic_list())"
    },
    "r": {
     "delete_cmd_postfix": ") ",
     "delete_cmd_prefix": "rm(",
     "library": "var_list.r",
     "varRefreshCmd": "cat(var_dic_list()) "
    }
   },
   "types_to_exclude": [
    "module",
    "function",
    "builtin_function_or_method",
    "instance",
    "_Feature"
   ],
   "window_display": false
  }
 },
 "nbformat": 4,
 "nbformat_minor": 4
}
