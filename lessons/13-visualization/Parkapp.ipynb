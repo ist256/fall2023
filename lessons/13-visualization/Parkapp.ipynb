{
 "cells": [
  {
   "cell_type": "code",
   "execution_count": null,
   "id": "33164776-7fc9-48c3-99a2-6bb3ec33a2e4",
   "metadata": {},
   "outputs": [],
   "source": []
  },
  {
   "cell_type": "code",
   "execution_count": null,
   "id": "f4dad21e-2b5b-4f8e-8bac-bfc7c9baf0f6",
   "metadata": {},
   "outputs": [],
   "source": []
  },
  {
   "cell_type": "code",
   "execution_count": 69,
   "id": "3a3e55ce-3441-4903-a1fc-d8b894b25dfa",
   "metadata": {
    "tags": []
   },
   "outputs": [],
   "source": [
    "from IPython.display import display,HTML,Image\n",
    "from ipywidgets import interact_manual\n",
    "import folium\n",
    "import pandas as pd\n",
    "import numpy as np\n",
    "import requests\n",
    "import json\n",
    "from datetime import datetime\n",
    "from time import sleep\n"
   ]
  },
  {
   "cell_type": "code",
   "execution_count": 50,
   "id": "17811819-9bda-440e-ad5c-82cffe2ab7b1",
   "metadata": {
    "tags": []
   },
   "outputs": [],
   "source": [
    "def download_data():\n",
    "    url=\"https://services6.arcgis.com/bdPqSfflsdgFRVVM/arcgis/rest/services/Parking_Violations_2007_2022/FeatureServer/0/query?where=1%3D1&outFields=*&outSR=4326&f=json\"\n",
    "    url=\"https://services6.arcgis.com/bdPqSfflsdgFRVVM/arcgis/rest/services/a1e239/FeatureServer/0/query?where=1%3D1&outFields=*&outSR=4326&f=json\"\n",
    "    response = requests.get(url)\n",
    "    response.raise_for_status()\n",
    "    data = response.json()\n",
    "    with open(\"cuse-parking-tickets.json\", \"w\") as f:\n",
    "        json.dump(data['features'], f)\n",
    "        \n",
    "download_data()"
   ]
  },
  {
   "cell_type": "code",
   "execution_count": 93,
   "id": "dc8a105e-3694-4d89-9326-0100e9f84250",
   "metadata": {
    "tags": []
   },
   "outputs": [
    {
     "data": {
      "text/plain": [
       "1"
      ]
     },
     "execution_count": 93,
     "metadata": {},
     "output_type": "execute_result"
    }
   ],
   "source": [
    "cache = {\n",
    "    '1000 EILEEN COLLINS BLVD SYRACUSE, NY' : (43.113505702811246,-76.11989651004016)\n",
    "}"
   ]
  },
  {
   "cell_type": "code",
   "execution_count": 96,
   "id": "405268e5-e307-4cdc-b69a-bbdb94b0294d",
   "metadata": {
    "tags": []
   },
   "outputs": [
    {
     "data": {
      "text/plain": [
       "('43.048168', '-76.111425')"
      ]
     },
     "execution_count": 96,
     "metadata": {},
     "output_type": "execute_result"
    }
   ],
   "source": [
    "def geocode_syracuse(location):\n",
    "    global cache\n",
    "    location = f\"{location} SYRACUSE, NY\".upper()\n",
    "    lat, lon = cache.get(location, (0, 0))\n",
    "    if lat == 0 and lon == 0:\n",
    "        sleep(0.5)\n",
    "        query_string = {'q': location, 'format': 'json'}\n",
    "        headers = {\"user-agent\": \"ist256 example mafudge\"}\n",
    "        url = 'https://nominatim.openstreetmap.org/search'\n",
    "        response = requests.get(url, params=query_string, headers=headers)\n",
    "        response.raise_for_status()\n",
    "        geodata = response.json()\n",
    "        if geodata != []:\n",
    "            lat, lon = geodata[0]['lat'], geodata[0]['lon']\n",
    "            cache[location] = (lat, lon)\n",
    "            return (lat, lon)\n",
    "        else:\n",
    "            return (0, 0)\n",
    "    else:\n",
    "        return (lat, lon)\n",
    "# Testing with syracuse, NY \n",
    "geocode_syracuse('2300 FAYETTE ST E')\n",
    "#geocode_syracuse('1000 EILEEN COLLINS BLVD')"
   ]
  },
  {
   "cell_type": "code",
   "execution_count": 66,
   "id": "ee88d065-6ac9-4fc0-8374-14c59d123b73",
   "metadata": {
    "tags": []
   },
   "outputs": [],
   "source": [
    "with open(\"cuse-parking-tickets.json\", \"r\") as f:\n",
    "    data = json.load(f)\n",
    "    tickets = pd.json_normalize(data)\n",
    "\n",
    "tickets['coords'] = tickets.apply(lambda row: geocode_syracuse(row['attributes.location']), axis=1)"
   ]
  },
  {
   "cell_type": "code",
   "execution_count": 60,
   "id": "2fb8dbbf-0cce-45bf-9ded-e2cccb75a576",
   "metadata": {
    "tags": []
   },
   "outputs": [],
   "source": [
    "tickets.to_csv(\"cuse-parking-tickets-geocoded.csv\")"
   ]
  },
  {
   "cell_type": "code",
   "execution_count": 70,
   "id": "867821b8-9d4a-4c2e-bc31-d6797d098326",
   "metadata": {
    "tags": []
   },
   "outputs": [],
   "source": [
    "tickets = pd.read_csv(\"cuse-parking-tickets-geocoded.csv\")"
   ]
  },
  {
   "cell_type": "code",
   "execution_count": 76,
   "id": "73e53bf4-490e-4b06-8f48-f46f7f328cda",
   "metadata": {
    "tags": []
   },
   "outputs": [
    {
     "data": {
      "text/plain": [
       "('2023-01-10 10:31:00', '10', 'Tuesday')"
      ]
     },
     "execution_count": 76,
     "metadata": {},
     "output_type": "execute_result"
    }
   ],
   "source": [
    "def get_date(timestamp_in_milliseconds):\n",
    "    timestamp = timestamp_in_milliseconds / 1000  # Convert to seconds\n",
    "    dt_object = datetime.utcfromtimestamp(timestamp)\n",
    "    date_string = dt_object.strftime('%Y-%m-%d %H:%M:%S')\n",
    "    return date_string\n",
    "\n",
    "def get_day_of_week(timestamp_in_milliseconds):\n",
    "    timestamp = timestamp_in_milliseconds / 1000  # Convert to seconds\n",
    "    dt_object = datetime.utcfromtimestamp(timestamp)\n",
    "    date_string = dt_object.strftime('%A')\n",
    "    return date_string\n",
    "\n",
    "def get_hour(timestamp_in_milliseconds):\n",
    "    timestamp = timestamp_in_milliseconds / 1000  # Convert to seconds\n",
    "    dt_object = datetime.utcfromtimestamp(timestamp)\n",
    "    date_string = dt_object.strftime('%H')\n",
    "    return date_string\n",
    "\n",
    "\n",
    "get_date(1673346660000), get_hour(1673346660000), get_day_of_week(1673346660000)"
   ]
  },
  {
   "cell_type": "code",
   "execution_count": 78,
   "id": "42b47590-8eef-40a5-8ae4-306b6c61c6be",
   "metadata": {
    "tags": []
   },
   "outputs": [],
   "source": [
    "tickets['date_string'] = tickets.apply( lambda row: get_date(row['attributes.issued_date']), axis=1)\n",
    "tickets['hour'] = tickets.apply( lambda row: get_hour(row['attributes.issued_date']), axis=1)\n",
    "tickets['dayofweek'] = tickets.apply( lambda row: get_day_of_week(row['attributes.issued_date']), axis=1)"
   ]
  },
  {
   "cell_type": "code",
   "execution_count": 79,
   "id": "007a8da5-9706-4d18-9e2d-ca8d25342b9f",
   "metadata": {
    "tags": []
   },
   "outputs": [
    {
     "data": {
      "text/html": [
       "<div>\n",
       "<style scoped>\n",
       "    .dataframe tbody tr th:only-of-type {\n",
       "        vertical-align: middle;\n",
       "    }\n",
       "\n",
       "    .dataframe tbody tr th {\n",
       "        vertical-align: top;\n",
       "    }\n",
       "\n",
       "    .dataframe thead th {\n",
       "        text-align: right;\n",
       "    }\n",
       "</style>\n",
       "<table border=\"1\" class=\"dataframe\">\n",
       "  <thead>\n",
       "    <tr style=\"text-align: right;\">\n",
       "      <th></th>\n",
       "      <th>Unnamed: 0</th>\n",
       "      <th>attributes.OBJECTID</th>\n",
       "      <th>attributes.ticket_number</th>\n",
       "      <th>attributes.issued_date</th>\n",
       "      <th>attributes.location</th>\n",
       "      <th>attributes.description</th>\n",
       "      <th>attributes.status</th>\n",
       "      <th>attributes.amount</th>\n",
       "      <th>geometry.x</th>\n",
       "      <th>geometry.y</th>\n",
       "      <th>coords</th>\n",
       "      <th>date_string</th>\n",
       "      <th>hour</th>\n",
       "      <th>dayofweek</th>\n",
       "    </tr>\n",
       "  </thead>\n",
       "  <tbody>\n",
       "    <tr>\n",
       "      <th>0</th>\n",
       "      <td>0</td>\n",
       "      <td>1</td>\n",
       "      <td>371770D</td>\n",
       "      <td>1672535400000</td>\n",
       "      <td>100 WALTON ST</td>\n",
       "      <td>UNREGSTRD/UNAFFIXD/ALL VTL401-1/403-1</td>\n",
       "      <td>Adjudication Pending</td>\n",
       "      <td>25</td>\n",
       "      <td>NaN</td>\n",
       "      <td>NaN</td>\n",
       "      <td>('43.048044', '-76.153734')</td>\n",
       "      <td>2023-01-01 01:10:00</td>\n",
       "      <td>01</td>\n",
       "      <td>Sunday</td>\n",
       "    </tr>\n",
       "    <tr>\n",
       "      <th>1</th>\n",
       "      <td>1</td>\n",
       "      <td>2</td>\n",
       "      <td>392244D</td>\n",
       "      <td>1672534920000</td>\n",
       "      <td>300 GENESEE ST W</td>\n",
       "      <td>NO STPNG HERE TO CNR/ALL CO15-316(A)6</td>\n",
       "      <td>Fourth Notice</td>\n",
       "      <td>25</td>\n",
       "      <td>-76.155160</td>\n",
       "      <td>43.052247</td>\n",
       "      <td>('43.0485203', '-76.2427812')</td>\n",
       "      <td>2023-01-01 01:02:00</td>\n",
       "      <td>01</td>\n",
       "      <td>Sunday</td>\n",
       "    </tr>\n",
       "    <tr>\n",
       "      <th>2</th>\n",
       "      <td>2</td>\n",
       "      <td>3</td>\n",
       "      <td>392245D</td>\n",
       "      <td>1672534980000</td>\n",
       "      <td>300 GENESEE ST W</td>\n",
       "      <td>NO STPNG HERE TO CNR/ALL CO15-316(A)6</td>\n",
       "      <td>Adjudication Pending</td>\n",
       "      <td>25</td>\n",
       "      <td>-76.155160</td>\n",
       "      <td>43.052247</td>\n",
       "      <td>('43.0485203', '-76.2427812')</td>\n",
       "      <td>2023-01-01 01:03:00</td>\n",
       "      <td>01</td>\n",
       "      <td>Sunday</td>\n",
       "    </tr>\n",
       "    <tr>\n",
       "      <th>3</th>\n",
       "      <td>3</td>\n",
       "      <td>4</td>\n",
       "      <td>380900D</td>\n",
       "      <td>1672582980000</td>\n",
       "      <td>200 STATE ST N</td>\n",
       "      <td>PRKD BLOCKING CRSSWLK/ALL CO15-316 (A)5</td>\n",
       "      <td>Fourth Notice</td>\n",
       "      <td>60</td>\n",
       "      <td>NaN</td>\n",
       "      <td>NaN</td>\n",
       "      <td>('43.066684', '-76.0765269')</td>\n",
       "      <td>2023-01-01 14:23:00</td>\n",
       "      <td>14</td>\n",
       "      <td>Sunday</td>\n",
       "    </tr>\n",
       "    <tr>\n",
       "      <th>4</th>\n",
       "      <td>4</td>\n",
       "      <td>5</td>\n",
       "      <td>389527D</td>\n",
       "      <td>1672584300000</td>\n",
       "      <td>100 BUCKINGHAM AVE</td>\n",
       "      <td>UNINSPECTED/ ALL TIMES VTL 306-B</td>\n",
       "      <td>Adjudication Approved</td>\n",
       "      <td>0</td>\n",
       "      <td>-76.122297</td>\n",
       "      <td>43.033518</td>\n",
       "      <td>('43.03349135', '-76.12227665')</td>\n",
       "      <td>2023-01-01 14:45:00</td>\n",
       "      <td>14</td>\n",
       "      <td>Sunday</td>\n",
       "    </tr>\n",
       "    <tr>\n",
       "      <th>...</th>\n",
       "      <td>...</td>\n",
       "      <td>...</td>\n",
       "      <td>...</td>\n",
       "      <td>...</td>\n",
       "      <td>...</td>\n",
       "      <td>...</td>\n",
       "      <td>...</td>\n",
       "      <td>...</td>\n",
       "      <td>...</td>\n",
       "      <td>...</td>\n",
       "      <td>...</td>\n",
       "      <td>...</td>\n",
       "      <td>...</td>\n",
       "      <td>...</td>\n",
       "    </tr>\n",
       "    <tr>\n",
       "      <th>1995</th>\n",
       "      <td>1995</td>\n",
       "      <td>1996</td>\n",
       "      <td>382141D</td>\n",
       "      <td>1673264280000</td>\n",
       "      <td>411 MONTGOMERY ST</td>\n",
       "      <td>LIMITED PARKING ONLY 9 AM-6 PM CO15-365</td>\n",
       "      <td>Fourth Notice</td>\n",
       "      <td>25</td>\n",
       "      <td>-76.148667</td>\n",
       "      <td>43.046307</td>\n",
       "      <td>('43.0461782', '-76.1486104')</td>\n",
       "      <td>2023-01-09 11:38:00</td>\n",
       "      <td>11</td>\n",
       "      <td>Monday</td>\n",
       "    </tr>\n",
       "    <tr>\n",
       "      <th>1996</th>\n",
       "      <td>1996</td>\n",
       "      <td>1997</td>\n",
       "      <td>362929D</td>\n",
       "      <td>1673237100000</td>\n",
       "      <td>100 HELEN ST</td>\n",
       "      <td>ODD/EVEN PARKING NOV-MAR CO15-318 (A)2</td>\n",
       "      <td>Adjudication Pending</td>\n",
       "      <td>60</td>\n",
       "      <td>NaN</td>\n",
       "      <td>NaN</td>\n",
       "      <td>('43.063416', '-76.13486')</td>\n",
       "      <td>2023-01-09 04:05:00</td>\n",
       "      <td>04</td>\n",
       "      <td>Monday</td>\n",
       "    </tr>\n",
       "    <tr>\n",
       "      <th>1997</th>\n",
       "      <td>1997</td>\n",
       "      <td>1998</td>\n",
       "      <td>393676D</td>\n",
       "      <td>1673233200000</td>\n",
       "      <td>100 WORDEN AVE</td>\n",
       "      <td>ODD/EVEN PARKING NOV-MAR CO15-318 (A)2</td>\n",
       "      <td>Paid In Full</td>\n",
       "      <td>60</td>\n",
       "      <td>NaN</td>\n",
       "      <td>NaN</td>\n",
       "      <td>('43.072349', '-76.139985')</td>\n",
       "      <td>2023-01-09 03:00:00</td>\n",
       "      <td>03</td>\n",
       "      <td>Monday</td>\n",
       "    </tr>\n",
       "    <tr>\n",
       "      <th>1998</th>\n",
       "      <td>1998</td>\n",
       "      <td>1999</td>\n",
       "      <td>393675D</td>\n",
       "      <td>1673233200000</td>\n",
       "      <td>100 WORDEN AVE</td>\n",
       "      <td>ODD/EVEN PARKING NOV-MAR CO15-318 (A)2</td>\n",
       "      <td>Paid In Full</td>\n",
       "      <td>60</td>\n",
       "      <td>NaN</td>\n",
       "      <td>NaN</td>\n",
       "      <td>('43.072349', '-76.139985')</td>\n",
       "      <td>2023-01-09 03:00:00</td>\n",
       "      <td>03</td>\n",
       "      <td>Monday</td>\n",
       "    </tr>\n",
       "    <tr>\n",
       "      <th>1999</th>\n",
       "      <td>1999</td>\n",
       "      <td>2000</td>\n",
       "      <td>382144D</td>\n",
       "      <td>1673272260000</td>\n",
       "      <td>401 MONTGOMERY ST</td>\n",
       "      <td>LIMITED PARKING ONLY 9 AM-6 PM CO15-365</td>\n",
       "      <td>Fourth Notice</td>\n",
       "      <td>25</td>\n",
       "      <td>-76.148501</td>\n",
       "      <td>43.046613</td>\n",
       "      <td>('43.0466396', '-76.1483142')</td>\n",
       "      <td>2023-01-09 13:51:00</td>\n",
       "      <td>13</td>\n",
       "      <td>Monday</td>\n",
       "    </tr>\n",
       "  </tbody>\n",
       "</table>\n",
       "<p>2000 rows × 14 columns</p>\n",
       "</div>"
      ],
      "text/plain": [
       "      Unnamed: 0  attributes.OBJECTID attributes.ticket_number  \\\n",
       "0              0                    1                  371770D   \n",
       "1              1                    2                  392244D   \n",
       "2              2                    3                  392245D   \n",
       "3              3                    4                  380900D   \n",
       "4              4                    5                  389527D   \n",
       "...          ...                  ...                      ...   \n",
       "1995        1995                 1996                  382141D   \n",
       "1996        1996                 1997                  362929D   \n",
       "1997        1997                 1998                  393676D   \n",
       "1998        1998                 1999                  393675D   \n",
       "1999        1999                 2000                  382144D   \n",
       "\n",
       "      attributes.issued_date attributes.location  \\\n",
       "0              1672535400000       100 WALTON ST   \n",
       "1              1672534920000    300 GENESEE ST W   \n",
       "2              1672534980000    300 GENESEE ST W   \n",
       "3              1672582980000      200 STATE ST N   \n",
       "4              1672584300000  100 BUCKINGHAM AVE   \n",
       "...                      ...                 ...   \n",
       "1995           1673264280000   411 MONTGOMERY ST   \n",
       "1996           1673237100000        100 HELEN ST   \n",
       "1997           1673233200000      100 WORDEN AVE   \n",
       "1998           1673233200000      100 WORDEN AVE   \n",
       "1999           1673272260000   401 MONTGOMERY ST   \n",
       "\n",
       "                       attributes.description      attributes.status  \\\n",
       "0       UNREGSTRD/UNAFFIXD/ALL VTL401-1/403-1  Adjudication Pending    \n",
       "1       NO STPNG HERE TO CNR/ALL CO15-316(A)6          Fourth Notice   \n",
       "2       NO STPNG HERE TO CNR/ALL CO15-316(A)6  Adjudication Pending    \n",
       "3     PRKD BLOCKING CRSSWLK/ALL CO15-316 (A)5          Fourth Notice   \n",
       "4            UNINSPECTED/ ALL TIMES VTL 306-B  Adjudication Approved   \n",
       "...                                       ...                    ...   \n",
       "1995  LIMITED PARKING ONLY 9 AM-6 PM CO15-365          Fourth Notice   \n",
       "1996   ODD/EVEN PARKING NOV-MAR CO15-318 (A)2  Adjudication Pending    \n",
       "1997   ODD/EVEN PARKING NOV-MAR CO15-318 (A)2           Paid In Full   \n",
       "1998   ODD/EVEN PARKING NOV-MAR CO15-318 (A)2           Paid In Full   \n",
       "1999  LIMITED PARKING ONLY 9 AM-6 PM CO15-365          Fourth Notice   \n",
       "\n",
       "      attributes.amount  geometry.x  geometry.y  \\\n",
       "0                    25         NaN         NaN   \n",
       "1                    25  -76.155160   43.052247   \n",
       "2                    25  -76.155160   43.052247   \n",
       "3                    60         NaN         NaN   \n",
       "4                     0  -76.122297   43.033518   \n",
       "...                 ...         ...         ...   \n",
       "1995                 25  -76.148667   43.046307   \n",
       "1996                 60         NaN         NaN   \n",
       "1997                 60         NaN         NaN   \n",
       "1998                 60         NaN         NaN   \n",
       "1999                 25  -76.148501   43.046613   \n",
       "\n",
       "                               coords          date_string hour dayofweek  \n",
       "0         ('43.048044', '-76.153734')  2023-01-01 01:10:00   01    Sunday  \n",
       "1       ('43.0485203', '-76.2427812')  2023-01-01 01:02:00   01    Sunday  \n",
       "2       ('43.0485203', '-76.2427812')  2023-01-01 01:03:00   01    Sunday  \n",
       "3        ('43.066684', '-76.0765269')  2023-01-01 14:23:00   14    Sunday  \n",
       "4     ('43.03349135', '-76.12227665')  2023-01-01 14:45:00   14    Sunday  \n",
       "...                               ...                  ...  ...       ...  \n",
       "1995    ('43.0461782', '-76.1486104')  2023-01-09 11:38:00   11    Monday  \n",
       "1996       ('43.063416', '-76.13486')  2023-01-09 04:05:00   04    Monday  \n",
       "1997      ('43.072349', '-76.139985')  2023-01-09 03:00:00   03    Monday  \n",
       "1998      ('43.072349', '-76.139985')  2023-01-09 03:00:00   03    Monday  \n",
       "1999    ('43.0466396', '-76.1483142')  2023-01-09 13:51:00   13    Monday  \n",
       "\n",
       "[2000 rows x 14 columns]"
      ]
     },
     "execution_count": 79,
     "metadata": {},
     "output_type": "execute_result"
    }
   ],
   "source": [
    "tickets"
   ]
  },
  {
   "cell_type": "code",
   "execution_count": 89,
   "id": "3b84f640-757f-41e9-bed9-041828272af2",
   "metadata": {
    "tags": []
   },
   "outputs": [],
   "source": [
    "pv = pd.read_csv(\"Parking_Violations_2023.csv\")\n",
    "pv['dayofweek'] = pv['issued_date'].apply(lambda dt: datetime.strptime(dt, \"%Y/%m/%d %H:%M:%S+00\").strftime(\"%A\"))\n",
    "pv['hour'] = pv['issued_date'].apply(lambda dt: datetime.strptime(dt, \"%Y/%m/%d %H:%M:%S+00\").strftime(\"%H\"))"
   ]
  },
  {
   "cell_type": "code",
   "execution_count": 90,
   "id": "737bc879-e6da-4fe1-a6a3-151ac2345f1f",
   "metadata": {
    "tags": []
   },
   "outputs": [
    {
     "data": {
      "text/plain": [
       "'Sunday'"
      ]
     },
     "execution_count": 90,
     "metadata": {},
     "output_type": "execute_result"
    }
   ],
   "source": [
    "datetime.strptime(\"2023/01/01 01:10:00+00\", \"%Y/%m/%d %H:%M:%S+00\").strftime(\"%A\")"
   ]
  },
  {
   "cell_type": "code",
   "execution_count": 97,
   "id": "d368492f-f007-41f2-96b7-a09143a45f99",
   "metadata": {
    "tags": []
   },
   "outputs": [],
   "source": [
    "pv['coords'] = pv.apply(lambda row: geocode_syracuse(row['location']), axis=1)"
   ]
  },
  {
   "cell_type": "code",
   "execution_count": 99,
   "id": "a11fe11c-051a-4f4b-b7ea-21fa62bca691",
   "metadata": {
    "tags": []
   },
   "outputs": [],
   "source": [
    "pv.to_csv(\"cuse_parking_violations.csv\")"
   ]
  },
  {
   "cell_type": "code",
   "execution_count": 95,
   "id": "ea28f809-cf6e-4c99-b3f4-1d9d1c6d5b01",
   "metadata": {
    "tags": []
   },
   "outputs": [],
   "source": []
  },
  {
   "cell_type": "code",
   "execution_count": null,
   "id": "2918c5f2-c5fc-4abd-ab0e-68ce5030762a",
   "metadata": {},
   "outputs": [],
   "source": []
  }
 ],
 "metadata": {
  "kernelspec": {
   "display_name": "Python 3 (ipykernel)",
   "language": "python",
   "name": "python3"
  },
  "language_info": {
   "codemirror_mode": {
    "name": "ipython",
    "version": 3
   },
   "file_extension": ".py",
   "mimetype": "text/x-python",
   "name": "python",
   "nbconvert_exporter": "python",
   "pygments_lexer": "ipython3",
   "version": "3.11.3"
  }
 },
 "nbformat": 4,
 "nbformat_minor": 5
}
