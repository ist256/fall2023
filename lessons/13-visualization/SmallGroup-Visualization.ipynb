{
 "cells": [
  {
   "cell_type": "markdown",
   "metadata": {},
   "source": [
    "## Now You Code In Class: Tricks of The DataViz Masters\n",
    "\n",
    "We will try something a bit different in the Activity - A series of Data Visualization coding challenges!\n",
    "\n",
    "For this Now You Code, you will need:\n",
    "\n",
    "    - OpenWeatherMap API key https://openweathermap.org/api (From previous HW)\n",
    "    - Plotly Credentials  https://chart-studio.plotly.com/ (From Lab) \n",
    "    \n",
    "    \n"
   ]
  },
  {
   "cell_type": "code",
   "execution_count": 6,
   "metadata": {},
   "outputs": [],
   "source": [
    "import requests\n",
    "import geocoder\n",
    "import matplotlib\n",
    "import matplotlib.pyplot as plt\n",
    "import chart_studio as plotly\n",
    "import chart_studio.plotly as py\n",
    "import plotly.express as px\n",
    "import plotly.graph_objects as go\n",
    "import pandas as pd\n",
    "import folium\n",
    "from IPython.display import display"
   ]
  },
  {
   "cell_type": "code",
   "execution_count": 9,
   "metadata": {},
   "outputs": [],
   "source": [
    "# SET YOUR KEYS AND CREDENTIALS\n",
    "plotly.tools.set_credentials_file(username='get-your-own', api_key='get-your-own')\n",
    "weather_key = 'get-your-own' # sign up for your own key at https://openweathermap.org/ "
   ]
  },
  {
   "cell_type": "code",
   "execution_count": 10,
   "metadata": {},
   "outputs": [],
   "source": [
    "def getWeather(weather_key,location):\n",
    "    g = geocoder.osm(location)\n",
    "    query_string = { 'lat' : g.latlng[0], 'lon': g.latlng[1], 'appid' : weather_key, 'units' : 'imperial'}\n",
    "    url='https://api.openweathermap.org/data/2.5/onecall' \n",
    "    response = requests.get(url, params=query_string)\n",
    "    response.raise_for_status()\n",
    "    #print (response.url)\n",
    "    weather = response.json()\n",
    "    return weather\n"
   ]
  },
  {
   "cell_type": "markdown",
   "metadata": {},
   "source": [
    "# Exam Scores Data Set\n",
    "\n",
    "Load the data"
   ]
  },
  {
   "cell_type": "code",
   "execution_count": 37,
   "metadata": {},
   "outputs": [
    {
     "data": {
      "text/html": [
       "<div>\n",
       "<style scoped>\n",
       "    .dataframe tbody tr th:only-of-type {\n",
       "        vertical-align: middle;\n",
       "    }\n",
       "\n",
       "    .dataframe tbody tr th {\n",
       "        vertical-align: top;\n",
       "    }\n",
       "\n",
       "    .dataframe thead th {\n",
       "        text-align: right;\n",
       "    }\n",
       "</style>\n",
       "<table border=\"1\" class=\"dataframe\">\n",
       "  <thead>\n",
       "    <tr style=\"text-align: right;\">\n",
       "      <th></th>\n",
       "      <th>Class_Section</th>\n",
       "      <th>Exam_Version</th>\n",
       "      <th>Completion_Time</th>\n",
       "      <th>Made_Own_Study_Guide</th>\n",
       "      <th>Did_Exam_Prep Assignment</th>\n",
       "      <th>Studied_In_Groups</th>\n",
       "      <th>Student_Score</th>\n",
       "      <th>Percentage</th>\n",
       "      <th>Letter_Grade</th>\n",
       "    </tr>\n",
       "  </thead>\n",
       "  <tbody>\n",
       "    <tr>\n",
       "      <th>59</th>\n",
       "      <td>M02</td>\n",
       "      <td>D</td>\n",
       "      <td>30</td>\n",
       "      <td>N</td>\n",
       "      <td>N</td>\n",
       "      <td>N</td>\n",
       "      <td>21</td>\n",
       "      <td>70.00%</td>\n",
       "      <td>C+</td>\n",
       "    </tr>\n",
       "    <tr>\n",
       "      <th>9</th>\n",
       "      <td>M01</td>\n",
       "      <td>B</td>\n",
       "      <td>20</td>\n",
       "      <td>Y</td>\n",
       "      <td>Y</td>\n",
       "      <td>N</td>\n",
       "      <td>27</td>\n",
       "      <td>90.00%</td>\n",
       "      <td>A-</td>\n",
       "    </tr>\n",
       "    <tr>\n",
       "      <th>27</th>\n",
       "      <td>M01</td>\n",
       "      <td>D</td>\n",
       "      <td>60</td>\n",
       "      <td>Y</td>\n",
       "      <td>N</td>\n",
       "      <td>Y</td>\n",
       "      <td>21</td>\n",
       "      <td>70.00%</td>\n",
       "      <td>C+</td>\n",
       "    </tr>\n",
       "    <tr>\n",
       "      <th>54</th>\n",
       "      <td>M02</td>\n",
       "      <td>C</td>\n",
       "      <td>45</td>\n",
       "      <td>N</td>\n",
       "      <td>N</td>\n",
       "      <td>N</td>\n",
       "      <td>21</td>\n",
       "      <td>70.00%</td>\n",
       "      <td>C+</td>\n",
       "    </tr>\n",
       "    <tr>\n",
       "      <th>33</th>\n",
       "      <td>M02</td>\n",
       "      <td>A</td>\n",
       "      <td>40</td>\n",
       "      <td>?</td>\n",
       "      <td>?</td>\n",
       "      <td>?</td>\n",
       "      <td>27</td>\n",
       "      <td>90.00%</td>\n",
       "      <td>A-</td>\n",
       "    </tr>\n",
       "  </tbody>\n",
       "</table>\n",
       "</div>"
      ],
      "text/plain": [
       "   Class_Section Exam_Version  Completion_Time Made_Own_Study_Guide  \\\n",
       "59           M02            D               30                    N   \n",
       "9            M01            B               20                    Y   \n",
       "27           M01            D               60                    Y   \n",
       "54           M02            C               45                    N   \n",
       "33           M02            A               40                    ?   \n",
       "\n",
       "   Did_Exam_Prep Assignment Studied_In_Groups  Student_Score Percentage  \\\n",
       "59                        N                 N             21     70.00%   \n",
       "9                         Y                 N             27     90.00%   \n",
       "27                        N                 Y             21     70.00%   \n",
       "54                        N                 N             21     70.00%   \n",
       "33                        ?                 ?             27     90.00%   \n",
       "\n",
       "   Letter_Grade  \n",
       "59           C+  \n",
       "9            A-  \n",
       "27           C+  \n",
       "54           C+  \n",
       "33           A-  "
      ]
     },
     "metadata": {},
     "output_type": "display_data"
    }
   ],
   "source": [
    "exam_df = pd.read_csv('https://raw.githubusercontent.com/mafudge/datasets/master/exam-scores/exam-scores.csv')\n",
    "display(exam_df.sample(5))"
   ]
  },
  {
   "cell_type": "markdown",
   "metadata": {},
   "source": [
    "## Challenge 1\n",
    "\n",
    "Use `matplotlib` to plot a pie chart of 'Studied In Groups`\n",
    "\n",
    "HINTS: \n",
    " - You must get `value_counts` of the series, then make a `DataFrame` from it and plot.\n",
    " - Plotting help:  `help(df.plot.pie)` where `df` is the dataframe you made.\n"
   ]
  },
  {
   "cell_type": "code",
   "execution_count": null,
   "metadata": {},
   "outputs": [],
   "source": []
  },
  {
   "cell_type": "markdown",
   "metadata": {},
   "source": [
    "## Challenge 2\n",
    "\n",
    "Use `plotly` express to plot the same pie chart of 'Studied In Groups`\n",
    "\n",
    "HINT: You can use the dataframe from the previous cell. `help(px.pie)` for assistance\n"
   ]
  },
  {
   "cell_type": "code",
   "execution_count": null,
   "metadata": {
    "scrolled": false
   },
   "outputs": [],
   "source": []
  },
  {
   "cell_type": "markdown",
   "metadata": {},
   "source": [
    "## Challenge 3\n",
    "\n",
    "Use `matplotlib` to plot the grades Student_score as a bar. There should be a bar for each student score.\n",
    "\n",
    "HINT: `help(exam_df.plot.bar)` for assistance."
   ]
  },
  {
   "cell_type": "code",
   "execution_count": null,
   "metadata": {},
   "outputs": [],
   "source": []
  },
  {
   "cell_type": "markdown",
   "metadata": {},
   "source": [
    "## Challenge 4\n",
    "\n",
    "Since the last plot was too detailed, use `matplotlib` to plot a histogram of the grades in 9 bins. \n",
    "\n",
    "HINT: `help(exam_df.hist)` for assistance."
   ]
  },
  {
   "cell_type": "code",
   "execution_count": null,
   "metadata": {},
   "outputs": [],
   "source": []
  },
  {
   "cell_type": "markdown",
   "metadata": {},
   "source": [
    "## Challenge 5\n",
    "\n",
    "Plot the exact same histogram using plotly express. \n",
    "\n",
    "HINT: `help(px.histogram)` for assistance. \n",
    "\n",
    "Note (binning algorithm is different)\n"
   ]
  },
  {
   "cell_type": "code",
   "execution_count": null,
   "metadata": {},
   "outputs": [],
   "source": []
  },
  {
   "cell_type": "markdown",
   "metadata": {},
   "source": [
    "## Challenge 6\n",
    "\n",
    "Plot a scatter comparing the completion time the exam to the exam score. use `matplotlib`\n",
    "\n",
    "Note: No correlation will stick out."
   ]
  },
  {
   "cell_type": "code",
   "execution_count": null,
   "metadata": {},
   "outputs": [],
   "source": []
  },
  {
   "cell_type": "markdown",
   "metadata": {},
   "source": [
    "## Challenge 7\n",
    "\n",
    "Plot the same scatter in `plotly express`\n"
   ]
  },
  {
   "cell_type": "code",
   "execution_count": null,
   "metadata": {},
   "outputs": [],
   "source": [
    "\n"
   ]
  },
  {
   "cell_type": "markdown",
   "metadata": {},
   "source": [
    "# Weather API Dataset\n",
    "\n",
    "Load the data "
   ]
  },
  {
   "cell_type": "code",
   "execution_count": null,
   "metadata": {},
   "outputs": [],
   "source": [
    "location = 'Syracuse, NY'\n",
    "weather = getWeather(weather_key,location)\n",
    "weather_df = pd.json_normalize(weather['daily'])\n",
    "display(weather_df.sample(3))"
   ]
  },
  {
   "cell_type": "markdown",
   "metadata": {},
   "source": [
    "## Challenge 7\n",
    "\n",
    "Plot a line of daily day temperatures (temp.day) using `matplotlib`"
   ]
  },
  {
   "cell_type": "code",
   "execution_count": null,
   "metadata": {},
   "outputs": [],
   "source": []
  },
  {
   "cell_type": "markdown",
   "metadata": {},
   "source": [
    "## Challenge 8\n",
    "\n",
    "Plot the same line in `plotly express`"
   ]
  },
  {
   "cell_type": "code",
   "execution_count": null,
   "metadata": {},
   "outputs": [],
   "source": []
  },
  {
   "cell_type": "markdown",
   "metadata": {},
   "source": [
    "## Challenge 9 \n",
    "\n",
    "Let's plot multiple series\n",
    "\n",
    "Using `matplotlib` plot two series `temp.min` and `temp.max` (both as lines) on the same graph.\n",
    "\n",
    "HINT: \n",
    "\n",
    " - This is not a one-liner. you must call in the `plt.plot()` method manually, then `display(plt)`\n",
    " - Consult the WMC1 example."
   ]
  },
  {
   "cell_type": "code",
   "execution_count": null,
   "metadata": {},
   "outputs": [],
   "source": []
  },
  {
   "cell_type": "markdown",
   "metadata": {},
   "source": [
    "## Challenge 10\n",
    "\n",
    "Plot the same thing using PoP (plain old plotly), similar to the lab example.\n",
    "\n",
    "HINT: \n",
    "\n",
    " - This is not a one-liner. you must make a figure and `add_trace()` for each series. \n",
    " - Consult the lab. "
   ]
  },
  {
   "cell_type": "code",
   "execution_count": null,
   "metadata": {},
   "outputs": [],
   "source": []
  },
  {
   "cell_type": "markdown",
   "metadata": {},
   "source": [
    "## Challenge 12\n",
    "\n",
    "Create a `folium` map at the geographic center of NY State and place a pin there. The pin should day \"This is the center\"\n",
    "\n",
    "\n",
    "HINT: \n",
    "\n",
    " - Get the center here: https://en.wikipedia.org/wiki/List_of_geographic_centers_of_the_United_States\n",
    " - Use `folium.Marker` to make the pin, then add to map\n",
    " "
   ]
  },
  {
   "cell_type": "code",
   "execution_count": null,
   "metadata": {},
   "outputs": [],
   "source": []
  },
  {
   "cell_type": "markdown",
   "metadata": {},
   "source": [
    "# Cities of New York Dataset\n",
    "\n",
    "Get it with this code"
   ]
  },
  {
   "cell_type": "code",
   "execution_count": 7,
   "metadata": {},
   "outputs": [
    {
     "data": {
      "text/html": [
       "<div>\n",
       "<style scoped>\n",
       "    .dataframe tbody tr th:only-of-type {\n",
       "        vertical-align: middle;\n",
       "    }\n",
       "\n",
       "    .dataframe tbody tr th {\n",
       "        vertical-align: top;\n",
       "    }\n",
       "\n",
       "    .dataframe thead th {\n",
       "        text-align: right;\n",
       "    }\n",
       "</style>\n",
       "<table border=\"1\" class=\"dataframe\">\n",
       "  <thead>\n",
       "    <tr style=\"text-align: right;\">\n",
       "      <th></th>\n",
       "      <th>location</th>\n",
       "      <th>lat</th>\n",
       "      <th>lng</th>\n",
       "    </tr>\n",
       "  </thead>\n",
       "  <tbody>\n",
       "    <tr>\n",
       "      <th>37</th>\n",
       "      <td>Ogdensburg city</td>\n",
       "      <td>44.71</td>\n",
       "      <td>-75.47</td>\n",
       "    </tr>\n",
       "    <tr>\n",
       "      <th>21</th>\n",
       "      <td>Jamestown city</td>\n",
       "      <td>42.10</td>\n",
       "      <td>-79.24</td>\n",
       "    </tr>\n",
       "    <tr>\n",
       "      <th>53</th>\n",
       "      <td>Sherrill city</td>\n",
       "      <td>43.07</td>\n",
       "      <td>-75.6</td>\n",
       "    </tr>\n",
       "    <tr>\n",
       "      <th>32</th>\n",
       "      <td>New York city</td>\n",
       "      <td>40.66</td>\n",
       "      <td>-73.94</td>\n",
       "    </tr>\n",
       "    <tr>\n",
       "      <th>27</th>\n",
       "      <td>Long Beach city</td>\n",
       "      <td>40.59</td>\n",
       "      <td>-73.67</td>\n",
       "    </tr>\n",
       "  </tbody>\n",
       "</table>\n",
       "</div>"
      ],
      "text/plain": [
       "           location    lat     lng\n",
       "37  Ogdensburg city  44.71  -75.47\n",
       "21   Jamestown city  42.10  -79.24\n",
       "53    Sherrill city  43.07   -75.6\n",
       "32    New York city  40.66  -73.94\n",
       "27  Long Beach city  40.59  -73.67"
      ]
     },
     "execution_count": 7,
     "metadata": {},
     "output_type": "execute_result"
    }
   ],
   "source": [
    "cities_df = pd.read_csv('https://raw.githubusercontent.com/mafudge/datasets/master/ist256/13-visualization/ny-cities.csv')\n",
    "cities_df.sample(5)"
   ]
  },
  {
   "cell_type": "code",
   "execution_count": 8,
   "metadata": {},
   "outputs": [
    {
     "name": "stdout",
     "output_type": "stream",
     "text": [
      "42.89 -78.86\n"
     ]
    },
    {
     "data": {
      "text/plain": [
       "(42.67, '-73.8')"
      ]
     },
     "execution_count": 8,
     "metadata": {},
     "output_type": "execute_result"
    }
   ],
   "source": [
    "city = \"Buffalo city\"\n",
    "selected_city = cities_df[ cities_df['location']==city ]\n",
    "print(selected_city['lat'].values[0], selected_city['lng'].values[0])\n",
    "\n",
    "def get_city_coordinates(city, cities_df):\n",
    "    selected_city = cities_df[ cities_df['location']==city ]\n",
    "    return selected_city['lat'].values[0], selected_city['lng'].values[0]\n",
    "\n",
    "get_city_coordinates(\"Albany city\",cities_df)"
   ]
  },
  {
   "cell_type": "markdown",
   "metadata": {},
   "source": [
    "## Challenge 13\n",
    "\n",
    "Create a `folium` map at the geographic center of NY State and place a pin there. put a red pin on the map for each city in the `cities_df` dataset.\n",
    "\n",
    "\n",
    "HINT: \n",
    "\n",
    " - Loop over each row in the data frame.\n",
    " - create the  `folium.Marker` then add to map\n",
    " "
   ]
  },
  {
   "cell_type": "code",
   "execution_count": 10,
   "metadata": {
    "scrolled": false
   },
   "outputs": [
    {
     "data": {
      "application/vnd.jupyter.widget-view+json": {
       "model_id": "1f58d21bb9e14b4f9df221852be0ee35",
       "version_major": 2,
       "version_minor": 0
      },
      "text/plain": [
       "interactive(children=(Dropdown(description='city', options=('Albany city', 'Amsterdam city', 'Auburn city', 'B…"
      ]
     },
     "metadata": {},
     "output_type": "display_data"
    }
   ],
   "source": [
    "from ipywidgets import interact\n",
    "\n",
    "cities = list(cities_df['location'].values)\n",
    "@interact(city=cities)\n",
    "def onselect(city):\n",
    "    lat, lng = get_city_coordinates(city, cities_df)\n",
    "    nymap = folium.Map(location=(lat,lng),zoom_start=10 )\n",
    "    search = f\"<a href='https://en.wikipedia.org/w/index.php?search={city}'>{city}<a>\"\n",
    "    pin = folium.Marker(location=(lat,lng),tooltip=city, popup=search)\n",
    "    nymap.add_child(pin)\n",
    "    display(nymap)"
   ]
  },
  {
   "cell_type": "code",
   "execution_count": null,
   "metadata": {},
   "outputs": [],
   "source": [
    "# run this code to turn in your work!\n",
    "from coursetools.submission import Submission\n",
    "Submission().submit_now()"
   ]
  }
 ],
 "metadata": {
  "anaconda-cloud": {},
  "kernelspec": {
   "display_name": "Python 3 (ipykernel)",
   "language": "python",
   "name": "python3"
  },
  "language_info": {
   "codemirror_mode": {
    "name": "ipython",
    "version": 3
   },
   "file_extension": ".py",
   "mimetype": "text/x-python",
   "name": "python",
   "nbconvert_exporter": "python",
   "pygments_lexer": "ipython3",
   "version": "3.9.7"
  },
  "toc": {
   "base_numbering": 1,
   "nav_menu": {},
   "number_sections": false,
   "sideBar": false,
   "skip_h1_title": false,
   "title_cell": "Table of Contents",
   "title_sidebar": "Contents",
   "toc_cell": false,
   "toc_position": {},
   "toc_section_display": false,
   "toc_window_display": false
  },
  "varInspector": {
   "cols": {
    "lenName": 16,
    "lenType": 16,
    "lenVar": 40
   },
   "kernels_config": {
    "python": {
     "delete_cmd_postfix": "",
     "delete_cmd_prefix": "del ",
     "library": "var_list.py",
     "varRefreshCmd": "print(var_dic_list())"
    },
    "r": {
     "delete_cmd_postfix": ") ",
     "delete_cmd_prefix": "rm(",
     "library": "var_list.r",
     "varRefreshCmd": "cat(var_dic_list()) "
    }
   },
   "types_to_exclude": [
    "module",
    "function",
    "builtin_function_or_method",
    "instance",
    "_Feature"
   ],
   "window_display": false
  }
 },
 "nbformat": 4,
 "nbformat_minor": 1
}
