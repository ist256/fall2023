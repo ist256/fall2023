{
 "cells": [
  {
   "cell_type": "markdown",
   "id": "45d1eed4-0e3e-4390-9c0b-105c67c51466",
   "metadata": {
    "tags": []
   },
   "source": [
    "# Coding At the iSchool\n",
    "## by Michael Fudge\n",
    "\n",
    "What does programming look like in the information field?\n",
    "\n",
    "\n",
    "### We write code to:\n",
    "\n",
    "- Understand / make sense of data\n",
    "- Create repeatable experiments\n",
    "- Visualize to discover useful insights\n",
    "- visualize to explain our findings\n",
    "- Automate tasks\n",
    "\n",
    "\n",
    "### Use use computational notebooks\n",
    "\n",
    "- Jupyterhub / Google colab\n",
    "- You can mix code / text / outputs together in one place\n",
    "- Not good for \"products\" but great for code explanations + learning to code.\n",
    "\n",
    "\n",
    "## Examples\n",
    "\n",
    "- What notebooks look like\n",
    "- Typical Lab / Assignments\n",
    "- Typical Student project"
   ]
  },
  {
   "cell_type": "code",
   "execution_count": 2,
   "id": "e84fe4c9-4954-4402-862b-248e4daa61bf",
   "metadata": {
    "tags": []
   },
   "outputs": [
    {
     "name": "stdin",
     "output_type": "stream",
     "text": [
      "Enter the length of the room in meters:  10\n",
      "Enter the width of the room in meters:  10\n",
      "Enter the height of the room in meters:  10\n"
     ]
    },
    {
     "name": "stdout",
     "output_type": "stream",
     "text": [
      "The surface area of the room is 600.00 square meters.\n"
     ]
    }
   ],
   "source": [
    "def calculate_surface_area(length, width, height):\n",
    "    # Calculate surface area using the formula\n",
    "    area = 2 * (length * width + length * height + width * height)\n",
    "    return area\n",
    "\n",
    "# Input the dimensions of the rectangular room\n",
    "length = float(input(\"Enter the length of the room in meters: \"))\n",
    "width = float(input(\"Enter the width of the room in meters: \"))\n",
    "height = float(input(\"Enter the height of the room in meters: \"))\n",
    "\n",
    "# Calculate and print the surface area\n",
    "surface_area = calculate_surface_area(length, width, height)\n",
    "print(f\"The surface area of the room is {surface_area:.2f} square meters.\")\n"
   ]
  },
  {
   "cell_type": "code",
   "execution_count": null,
   "id": "a2401d86-7831-4928-9e5f-967bf4afbf80",
   "metadata": {},
   "outputs": [],
   "source": []
  }
 ],
 "metadata": {
  "kernelspec": {
   "display_name": "Python 3 (ipykernel)",
   "language": "python",
   "name": "python3"
  },
  "language_info": {
   "codemirror_mode": {
    "name": "ipython",
    "version": 3
   },
   "file_extension": ".py",
   "mimetype": "text/x-python",
   "name": "python",
   "nbconvert_exporter": "python",
   "pygments_lexer": "ipython3",
   "version": "3.11.3"
  }
 },
 "nbformat": 4,
 "nbformat_minor": 5
}
