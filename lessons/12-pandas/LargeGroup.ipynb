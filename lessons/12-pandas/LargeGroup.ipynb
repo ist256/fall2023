{
 "cells": [
  {
   "cell_type": "markdown",
   "metadata": {},
   "source": [
    "# Code Samples From Large Group\n",
    "\n",
    "Place your notes and code samples from large group here."
   ]
  },
  {
   "cell_type": "code",
   "execution_count": 1,
   "metadata": {},
   "outputs": [],
   "source": [
    "import pandas as pd"
   ]
  },
  {
   "cell_type": "code",
   "execution_count": 7,
   "metadata": {
    "tags": []
   },
   "outputs": [],
   "source": [
    "data = [\n",
    "    {'name': 'abby', 'age': 3.5},\n",
    "    {'name': 'bob', 'age': 3.0},\n",
    "    {'name': 'chris', 'age': 2.5},\n",
    "    {'name': 'della', 'age': 4.0},\n",
    "]\n",
    "students = pd.DataFrame(data)"
   ]
  },
  {
   "cell_type": "code",
   "execution_count": 13,
   "metadata": {
    "tags": []
   },
   "outputs": [
    {
     "data": {
      "text/html": [
       "<div>\n",
       "<style scoped>\n",
       "    .dataframe tbody tr th:only-of-type {\n",
       "        vertical-align: middle;\n",
       "    }\n",
       "\n",
       "    .dataframe tbody tr th {\n",
       "        vertical-align: top;\n",
       "    }\n",
       "\n",
       "    .dataframe thead th {\n",
       "        text-align: right;\n",
       "    }\n",
       "</style>\n",
       "<table border=\"1\" class=\"dataframe\">\n",
       "  <thead>\n",
       "    <tr style=\"text-align: right;\">\n",
       "      <th></th>\n",
       "      <th>name</th>\n",
       "      <th>age</th>\n",
       "    </tr>\n",
       "  </thead>\n",
       "  <tbody>\n",
       "    <tr>\n",
       "      <th>0</th>\n",
       "      <td>abby</td>\n",
       "      <td>3.5</td>\n",
       "    </tr>\n",
       "    <tr>\n",
       "      <th>1</th>\n",
       "      <td>bob</td>\n",
       "      <td>3.0</td>\n",
       "    </tr>\n",
       "    <tr>\n",
       "      <th>2</th>\n",
       "      <td>chris</td>\n",
       "      <td>2.5</td>\n",
       "    </tr>\n",
       "    <tr>\n",
       "      <th>3</th>\n",
       "      <td>della</td>\n",
       "      <td>4.0</td>\n",
       "    </tr>\n",
       "  </tbody>\n",
       "</table>\n",
       "</div>"
      ],
      "text/plain": [
       "    name  age\n",
       "0   abby  3.5\n",
       "1    bob  3.0\n",
       "2  chris  2.5\n",
       "3  della  4.0"
      ]
     },
     "execution_count": 13,
     "metadata": {},
     "output_type": "execute_result"
    }
   ],
   "source": [
    "students"
   ]
  },
  {
   "cell_type": "code",
   "execution_count": 15,
   "metadata": {
    "tags": []
   },
   "outputs": [
    {
     "data": {
      "text/html": [
       "<div>\n",
       "<style scoped>\n",
       "    .dataframe tbody tr th:only-of-type {\n",
       "        vertical-align: middle;\n",
       "    }\n",
       "\n",
       "    .dataframe tbody tr th {\n",
       "        vertical-align: top;\n",
       "    }\n",
       "\n",
       "    .dataframe thead th {\n",
       "        text-align: right;\n",
       "    }\n",
       "</style>\n",
       "<table border=\"1\" class=\"dataframe\">\n",
       "  <thead>\n",
       "    <tr style=\"text-align: right;\">\n",
       "      <th></th>\n",
       "      <th>name</th>\n",
       "      <th>age</th>\n",
       "    </tr>\n",
       "  </thead>\n",
       "  <tbody>\n",
       "    <tr>\n",
       "      <th>0</th>\n",
       "      <td>abby</td>\n",
       "      <td>3.5</td>\n",
       "    </tr>\n",
       "  </tbody>\n",
       "</table>\n",
       "</div>"
      ],
      "text/plain": [
       "   name  age\n",
       "0  abby  3.5"
      ]
     },
     "execution_count": 15,
     "metadata": {},
     "output_type": "execute_result"
    }
   ],
   "source": [
    "students[0:1]"
   ]
  },
  {
   "cell_type": "code",
   "execution_count": 16,
   "metadata": {
    "tags": []
   },
   "outputs": [
    {
     "data": {
      "text/html": [
       "<div>\n",
       "<style scoped>\n",
       "    .dataframe tbody tr th:only-of-type {\n",
       "        vertical-align: middle;\n",
       "    }\n",
       "\n",
       "    .dataframe tbody tr th {\n",
       "        vertical-align: top;\n",
       "    }\n",
       "\n",
       "    .dataframe thead th {\n",
       "        text-align: right;\n",
       "    }\n",
       "</style>\n",
       "<table border=\"1\" class=\"dataframe\">\n",
       "  <thead>\n",
       "    <tr style=\"text-align: right;\">\n",
       "      <th></th>\n",
       "      <th>name</th>\n",
       "      <th>age</th>\n",
       "    </tr>\n",
       "  </thead>\n",
       "  <tbody>\n",
       "    <tr>\n",
       "      <th>1</th>\n",
       "      <td>bob</td>\n",
       "      <td>3.0</td>\n",
       "    </tr>\n",
       "    <tr>\n",
       "      <th>2</th>\n",
       "      <td>chris</td>\n",
       "      <td>2.5</td>\n",
       "    </tr>\n",
       "  </tbody>\n",
       "</table>\n",
       "</div>"
      ],
      "text/plain": [
       "    name  age\n",
       "1    bob  3.0\n",
       "2  chris  2.5"
      ]
     },
     "execution_count": 16,
     "metadata": {},
     "output_type": "execute_result"
    }
   ],
   "source": [
    "#bob and chris\n",
    "students[1:3]"
   ]
  },
  {
   "cell_type": "code",
   "execution_count": 19,
   "metadata": {
    "tags": []
   },
   "outputs": [
    {
     "data": {
      "text/html": [
       "<div>\n",
       "<style scoped>\n",
       "    .dataframe tbody tr th:only-of-type {\n",
       "        vertical-align: middle;\n",
       "    }\n",
       "\n",
       "    .dataframe tbody tr th {\n",
       "        vertical-align: top;\n",
       "    }\n",
       "\n",
       "    .dataframe thead th {\n",
       "        text-align: right;\n",
       "    }\n",
       "</style>\n",
       "<table border=\"1\" class=\"dataframe\">\n",
       "  <thead>\n",
       "    <tr style=\"text-align: right;\">\n",
       "      <th></th>\n",
       "      <th>age</th>\n",
       "    </tr>\n",
       "  </thead>\n",
       "  <tbody>\n",
       "    <tr>\n",
       "      <th>1</th>\n",
       "      <td>3.0</td>\n",
       "    </tr>\n",
       "    <tr>\n",
       "      <th>2</th>\n",
       "      <td>2.5</td>\n",
       "    </tr>\n",
       "  </tbody>\n",
       "</table>\n",
       "</div>"
      ],
      "text/plain": [
       "   age\n",
       "1  3.0\n",
       "2  2.5"
      ]
     },
     "execution_count": 19,
     "metadata": {},
     "output_type": "execute_result"
    }
   ],
   "source": [
    "students.iloc[1:3, 1:]"
   ]
  },
  {
   "cell_type": "code",
   "execution_count": 20,
   "metadata": {
    "tags": []
   },
   "outputs": [
    {
     "data": {
      "text/html": [
       "<div>\n",
       "<style scoped>\n",
       "    .dataframe tbody tr th:only-of-type {\n",
       "        vertical-align: middle;\n",
       "    }\n",
       "\n",
       "    .dataframe tbody tr th {\n",
       "        vertical-align: top;\n",
       "    }\n",
       "\n",
       "    .dataframe thead th {\n",
       "        text-align: right;\n",
       "    }\n",
       "</style>\n",
       "<table border=\"1\" class=\"dataframe\">\n",
       "  <thead>\n",
       "    <tr style=\"text-align: right;\">\n",
       "      <th></th>\n",
       "      <th>name</th>\n",
       "      <th>age</th>\n",
       "    </tr>\n",
       "  </thead>\n",
       "  <tbody>\n",
       "    <tr>\n",
       "      <th>0</th>\n",
       "      <td>abby</td>\n",
       "      <td>3.5</td>\n",
       "    </tr>\n",
       "    <tr>\n",
       "      <th>1</th>\n",
       "      <td>bob</td>\n",
       "      <td>3.0</td>\n",
       "    </tr>\n",
       "    <tr>\n",
       "      <th>2</th>\n",
       "      <td>chris</td>\n",
       "      <td>2.5</td>\n",
       "    </tr>\n",
       "    <tr>\n",
       "      <th>3</th>\n",
       "      <td>della</td>\n",
       "      <td>4.0</td>\n",
       "    </tr>\n",
       "  </tbody>\n",
       "</table>\n",
       "</div>"
      ],
      "text/plain": [
       "    name  age\n",
       "0   abby  3.5\n",
       "1    bob  3.0\n",
       "2  chris  2.5\n",
       "3  della  4.0"
      ]
     },
     "execution_count": 20,
     "metadata": {},
     "output_type": "execute_result"
    }
   ],
   "source": [
    "students"
   ]
  },
  {
   "cell_type": "code",
   "execution_count": 22,
   "metadata": {
    "tags": []
   },
   "outputs": [
    {
     "name": "stdout",
     "output_type": "stream",
     "text": [
      "At index 0, student abby has a GPA of 3.5\n",
      "At index 1, student bob has a GPA of 3.0\n",
      "At index 2, student chris has a GPA of 2.5\n",
      "At index 3, student della has a GPA of 4.0\n"
     ]
    }
   ],
   "source": [
    "for index, row in students.iterrows():\n",
    "    print(f\"At index {index}, student {row['name']} has a GPA of {row['age']}\")"
   ]
  },
  {
   "cell_type": "code",
   "execution_count": 23,
   "metadata": {
    "tags": []
   },
   "outputs": [
    {
     "data": {
      "text/plain": [
       "Index(['name', 'age'], dtype='object')"
      ]
     },
     "execution_count": 23,
     "metadata": {},
     "output_type": "execute_result"
    }
   ],
   "source": [
    "# columns\n",
    "students.columns"
   ]
  },
  {
   "cell_type": "code",
   "execution_count": 24,
   "metadata": {
    "tags": []
   },
   "outputs": [
    {
     "data": {
      "text/html": [
       "<div>\n",
       "<style scoped>\n",
       "    .dataframe tbody tr th:only-of-type {\n",
       "        vertical-align: middle;\n",
       "    }\n",
       "\n",
       "    .dataframe tbody tr th {\n",
       "        vertical-align: top;\n",
       "    }\n",
       "\n",
       "    .dataframe thead th {\n",
       "        text-align: right;\n",
       "    }\n",
       "</style>\n",
       "<table border=\"1\" class=\"dataframe\">\n",
       "  <thead>\n",
       "    <tr style=\"text-align: right;\">\n",
       "      <th></th>\n",
       "      <th>name</th>\n",
       "      <th>gpa</th>\n",
       "    </tr>\n",
       "  </thead>\n",
       "  <tbody>\n",
       "    <tr>\n",
       "      <th>0</th>\n",
       "      <td>abby</td>\n",
       "      <td>3.5</td>\n",
       "    </tr>\n",
       "    <tr>\n",
       "      <th>1</th>\n",
       "      <td>bob</td>\n",
       "      <td>3.0</td>\n",
       "    </tr>\n",
       "    <tr>\n",
       "      <th>2</th>\n",
       "      <td>chris</td>\n",
       "      <td>2.5</td>\n",
       "    </tr>\n",
       "    <tr>\n",
       "      <th>3</th>\n",
       "      <td>della</td>\n",
       "      <td>4.0</td>\n",
       "    </tr>\n",
       "  </tbody>\n",
       "</table>\n",
       "</div>"
      ],
      "text/plain": [
       "    name  gpa\n",
       "0   abby  3.5\n",
       "1    bob  3.0\n",
       "2  chris  2.5\n",
       "3  della  4.0"
      ]
     },
     "execution_count": 24,
     "metadata": {},
     "output_type": "execute_result"
    }
   ],
   "source": [
    "students.columns = ['name','gpa']\n",
    "\n",
    "students"
   ]
  },
  {
   "cell_type": "code",
   "execution_count": 25,
   "metadata": {
    "tags": []
   },
   "outputs": [
    {
     "data": {
      "text/plain": [
       "0     True\n",
       "1    False\n",
       "2    False\n",
       "3     True\n",
       "Name: gpa, dtype: bool"
      ]
     },
     "execution_count": 25,
     "metadata": {},
     "output_type": "execute_result"
    }
   ],
   "source": [
    "students['gpa'] > 3.2"
   ]
  },
  {
   "cell_type": "code",
   "execution_count": 26,
   "metadata": {
    "tags": []
   },
   "outputs": [],
   "source": [
    "filter = students['gpa'] > 3.2"
   ]
  },
  {
   "cell_type": "code",
   "execution_count": 27,
   "metadata": {
    "tags": []
   },
   "outputs": [
    {
     "data": {
      "text/html": [
       "<div>\n",
       "<style scoped>\n",
       "    .dataframe tbody tr th:only-of-type {\n",
       "        vertical-align: middle;\n",
       "    }\n",
       "\n",
       "    .dataframe tbody tr th {\n",
       "        vertical-align: top;\n",
       "    }\n",
       "\n",
       "    .dataframe thead th {\n",
       "        text-align: right;\n",
       "    }\n",
       "</style>\n",
       "<table border=\"1\" class=\"dataframe\">\n",
       "  <thead>\n",
       "    <tr style=\"text-align: right;\">\n",
       "      <th></th>\n",
       "      <th>name</th>\n",
       "      <th>gpa</th>\n",
       "    </tr>\n",
       "  </thead>\n",
       "  <tbody>\n",
       "    <tr>\n",
       "      <th>0</th>\n",
       "      <td>abby</td>\n",
       "      <td>3.5</td>\n",
       "    </tr>\n",
       "    <tr>\n",
       "      <th>3</th>\n",
       "      <td>della</td>\n",
       "      <td>4.0</td>\n",
       "    </tr>\n",
       "  </tbody>\n",
       "</table>\n",
       "</div>"
      ],
      "text/plain": [
       "    name  gpa\n",
       "0   abby  3.5\n",
       "3  della  4.0"
      ]
     },
     "execution_count": 27,
     "metadata": {},
     "output_type": "execute_result"
    }
   ],
   "source": [
    "students[filter]"
   ]
  },
  {
   "cell_type": "code",
   "execution_count": 28,
   "metadata": {
    "tags": []
   },
   "outputs": [],
   "source": [
    "smart_students = students[filter]"
   ]
  },
  {
   "cell_type": "code",
   "execution_count": 29,
   "metadata": {
    "tags": []
   },
   "outputs": [
    {
     "data": {
      "text/html": [
       "<div>\n",
       "<style scoped>\n",
       "    .dataframe tbody tr th:only-of-type {\n",
       "        vertical-align: middle;\n",
       "    }\n",
       "\n",
       "    .dataframe tbody tr th {\n",
       "        vertical-align: top;\n",
       "    }\n",
       "\n",
       "    .dataframe thead th {\n",
       "        text-align: right;\n",
       "    }\n",
       "</style>\n",
       "<table border=\"1\" class=\"dataframe\">\n",
       "  <thead>\n",
       "    <tr style=\"text-align: right;\">\n",
       "      <th></th>\n",
       "      <th>name</th>\n",
       "      <th>gpa</th>\n",
       "    </tr>\n",
       "  </thead>\n",
       "  <tbody>\n",
       "    <tr>\n",
       "      <th>0</th>\n",
       "      <td>abby</td>\n",
       "      <td>3.5</td>\n",
       "    </tr>\n",
       "    <tr>\n",
       "      <th>3</th>\n",
       "      <td>della</td>\n",
       "      <td>4.0</td>\n",
       "    </tr>\n",
       "  </tbody>\n",
       "</table>\n",
       "</div>"
      ],
      "text/plain": [
       "    name  gpa\n",
       "0   abby  3.5\n",
       "3  della  4.0"
      ]
     },
     "execution_count": 29,
     "metadata": {},
     "output_type": "execute_result"
    }
   ],
   "source": [
    "smart_students"
   ]
  },
  {
   "cell_type": "code",
   "execution_count": 30,
   "metadata": {
    "tags": []
   },
   "outputs": [
    {
     "data": {
      "text/html": [
       "<div>\n",
       "<style scoped>\n",
       "    .dataframe tbody tr th:only-of-type {\n",
       "        vertical-align: middle;\n",
       "    }\n",
       "\n",
       "    .dataframe tbody tr th {\n",
       "        vertical-align: top;\n",
       "    }\n",
       "\n",
       "    .dataframe thead th {\n",
       "        text-align: right;\n",
       "    }\n",
       "</style>\n",
       "<table border=\"1\" class=\"dataframe\">\n",
       "  <thead>\n",
       "    <tr style=\"text-align: right;\">\n",
       "      <th></th>\n",
       "      <th>name</th>\n",
       "      <th>gpa</th>\n",
       "    </tr>\n",
       "  </thead>\n",
       "  <tbody>\n",
       "    <tr>\n",
       "      <th>0</th>\n",
       "      <td>abby</td>\n",
       "      <td>3.5</td>\n",
       "    </tr>\n",
       "    <tr>\n",
       "      <th>3</th>\n",
       "      <td>della</td>\n",
       "      <td>4.0</td>\n",
       "    </tr>\n",
       "  </tbody>\n",
       "</table>\n",
       "</div>"
      ],
      "text/plain": [
       "    name  gpa\n",
       "0   abby  3.5\n",
       "3  della  4.0"
      ]
     },
     "execution_count": 30,
     "metadata": {},
     "output_type": "execute_result"
    }
   ],
   "source": [
    "# written out longhand:\n",
    "smart_students = students[students['gpa'] > 3.2]\n",
    "smart_students"
   ]
  },
  {
   "cell_type": "code",
   "execution_count": 31,
   "metadata": {
    "tags": []
   },
   "outputs": [],
   "source": [
    "places = pd.read_json(\"google-places.json\")"
   ]
  },
  {
   "cell_type": "code",
   "execution_count": 34,
   "metadata": {
    "tags": []
   },
   "outputs": [
    {
     "name": "stdout",
     "output_type": "stream",
     "text": [
      "<class 'pandas.core.frame.DataFrame'>\n",
      "RangeIndex: 20 entries, 0 to 19\n",
      "Data columns (total 17 columns):\n",
      " #   Column                 Non-Null Count  Dtype  \n",
      "---  ------                 --------------  -----  \n",
      " 0   geometry               20 non-null     object \n",
      " 1   icon                   20 non-null     object \n",
      " 2   icon_background_color  20 non-null     object \n",
      " 3   icon_mask_base_uri     20 non-null     object \n",
      " 4   name                   20 non-null     object \n",
      " 5   photos                 16 non-null     object \n",
      " 6   place_id               20 non-null     object \n",
      " 7   reference              20 non-null     object \n",
      " 8   scope                  20 non-null     object \n",
      " 9   types                  20 non-null     object \n",
      " 10  vicinity               20 non-null     object \n",
      " 11  business_status        18 non-null     object \n",
      " 12  opening_hours          10 non-null     object \n",
      " 13  plus_code              18 non-null     object \n",
      " 14  rating                 16 non-null     float64\n",
      " 15  user_ratings_total     16 non-null     float64\n",
      " 16  price_level            2 non-null      float64\n",
      "dtypes: float64(3), object(14)\n",
      "memory usage: 2.8+ KB\n"
     ]
    }
   ],
   "source": [
    "places.info(verbose=True)"
   ]
  },
  {
   "cell_type": "code",
   "execution_count": 37,
   "metadata": {
    "tags": []
   },
   "outputs": [
    {
     "data": {
      "text/html": [
       "<div>\n",
       "<style scoped>\n",
       "    .dataframe tbody tr th:only-of-type {\n",
       "        vertical-align: middle;\n",
       "    }\n",
       "\n",
       "    .dataframe tbody tr th {\n",
       "        vertical-align: top;\n",
       "    }\n",
       "\n",
       "    .dataframe thead th {\n",
       "        text-align: right;\n",
       "    }\n",
       "</style>\n",
       "<table border=\"1\" class=\"dataframe\">\n",
       "  <thead>\n",
       "    <tr style=\"text-align: right;\">\n",
       "      <th></th>\n",
       "      <th>name</th>\n",
       "      <th>types</th>\n",
       "      <th>opening_hours</th>\n",
       "      <th>rating</th>\n",
       "    </tr>\n",
       "  </thead>\n",
       "  <tbody>\n",
       "    <tr>\n",
       "      <th>0</th>\n",
       "      <td>Syracuse</td>\n",
       "      <td>[locality, political]</td>\n",
       "      <td>NaN</td>\n",
       "      <td>NaN</td>\n",
       "    </tr>\n",
       "    <tr>\n",
       "      <th>1</th>\n",
       "      <td>Crowne Plaza Syracuse</td>\n",
       "      <td>[lodging, point_of_interest, establishment]</td>\n",
       "      <td>{'open_now': True}</td>\n",
       "      <td>4.0</td>\n",
       "    </tr>\n",
       "    <tr>\n",
       "      <th>2</th>\n",
       "      <td>The Parkview Hotel</td>\n",
       "      <td>[lodging, point_of_interest, establishment]</td>\n",
       "      <td>{'open_now': True}</td>\n",
       "      <td>4.3</td>\n",
       "    </tr>\n",
       "    <tr>\n",
       "      <th>3</th>\n",
       "      <td>Jefferson Clinton Suites</td>\n",
       "      <td>[lodging, point_of_interest, establishment]</td>\n",
       "      <td>{'open_now': True}</td>\n",
       "      <td>4.4</td>\n",
       "    </tr>\n",
       "    <tr>\n",
       "      <th>4</th>\n",
       "      <td>Courtyard by Marriott Syracuse Downtown at Arm...</td>\n",
       "      <td>[lodging, point_of_interest, establishment]</td>\n",
       "      <td>NaN</td>\n",
       "      <td>4.1</td>\n",
       "    </tr>\n",
       "  </tbody>\n",
       "</table>\n",
       "</div>"
      ],
      "text/plain": [
       "                                                name  \\\n",
       "0                                           Syracuse   \n",
       "1                              Crowne Plaza Syracuse   \n",
       "2                                 The Parkview Hotel   \n",
       "3                           Jefferson Clinton Suites   \n",
       "4  Courtyard by Marriott Syracuse Downtown at Arm...   \n",
       "\n",
       "                                         types       opening_hours  rating  \n",
       "0                        [locality, political]                 NaN     NaN  \n",
       "1  [lodging, point_of_interest, establishment]  {'open_now': True}     4.0  \n",
       "2  [lodging, point_of_interest, establishment]  {'open_now': True}     4.3  \n",
       "3  [lodging, point_of_interest, establishment]  {'open_now': True}     4.4  \n",
       "4  [lodging, point_of_interest, establishment]                 NaN     4.1  "
      ]
     },
     "execution_count": 37,
     "metadata": {},
     "output_type": "execute_result"
    }
   ],
   "source": [
    "places[0:5][['name','types', 'opening_hours', 'rating']]"
   ]
  },
  {
   "cell_type": "code",
   "execution_count": 38,
   "metadata": {
    "tags": []
   },
   "outputs": [
    {
     "data": {
      "text/html": [
       "<div>\n",
       "<style scoped>\n",
       "    .dataframe tbody tr th:only-of-type {\n",
       "        vertical-align: middle;\n",
       "    }\n",
       "\n",
       "    .dataframe tbody tr th {\n",
       "        vertical-align: top;\n",
       "    }\n",
       "\n",
       "    .dataframe thead th {\n",
       "        text-align: right;\n",
       "    }\n",
       "</style>\n",
       "<table border=\"1\" class=\"dataframe\">\n",
       "  <thead>\n",
       "    <tr style=\"text-align: right;\">\n",
       "      <th></th>\n",
       "      <th>geometry</th>\n",
       "      <th>icon</th>\n",
       "      <th>icon_background_color</th>\n",
       "      <th>icon_mask_base_uri</th>\n",
       "      <th>name</th>\n",
       "      <th>photos</th>\n",
       "      <th>place_id</th>\n",
       "      <th>reference</th>\n",
       "      <th>scope</th>\n",
       "      <th>types</th>\n",
       "      <th>vicinity</th>\n",
       "      <th>business_status</th>\n",
       "      <th>opening_hours</th>\n",
       "      <th>plus_code</th>\n",
       "      <th>rating</th>\n",
       "      <th>user_ratings_total</th>\n",
       "      <th>price_level</th>\n",
       "    </tr>\n",
       "  </thead>\n",
       "  <tbody>\n",
       "    <tr>\n",
       "      <th>0</th>\n",
       "      <td>{'location': {'lat': 43.0481221, 'lng': -76.14...</td>\n",
       "      <td>https://maps.gstatic.com/mapfiles/place_api/ic...</td>\n",
       "      <td>#7B9EB0</td>\n",
       "      <td>https://maps.gstatic.com/mapfiles/place_api/ic...</td>\n",
       "      <td>Syracuse</td>\n",
       "      <td>[{'height': 1080, 'html_attributions': ['&lt;a hr...</td>\n",
       "      <td>ChIJDZqXv5vz2YkRRZWt1-IM1QA</td>\n",
       "      <td>ChIJDZqXv5vz2YkRRZWt1-IM1QA</td>\n",
       "      <td>GOOGLE</td>\n",
       "      <td>[locality, political]</td>\n",
       "      <td>Syracuse</td>\n",
       "      <td>NaN</td>\n",
       "      <td>NaN</td>\n",
       "      <td>NaN</td>\n",
       "      <td>NaN</td>\n",
       "      <td>NaN</td>\n",
       "      <td>NaN</td>\n",
       "    </tr>\n",
       "    <tr>\n",
       "      <th>1</th>\n",
       "      <td>{'location': {'lat': 43.0476078, 'lng': -76.14...</td>\n",
       "      <td>https://maps.gstatic.com/mapfiles/place_api/ic...</td>\n",
       "      <td>#909CE1</td>\n",
       "      <td>https://maps.gstatic.com/mapfiles/place_api/ic...</td>\n",
       "      <td>Crowne Plaza Syracuse</td>\n",
       "      <td>[{'height': 2048, 'html_attributions': ['&lt;a hr...</td>\n",
       "      <td>ChIJXxPu66Tz2YkRrDM-ZxvDhEE</td>\n",
       "      <td>ChIJXxPu66Tz2YkRrDM-ZxvDhEE</td>\n",
       "      <td>GOOGLE</td>\n",
       "      <td>[lodging, point_of_interest, establishment]</td>\n",
       "      <td>701 East Genesee Street, Syracuse</td>\n",
       "      <td>OPERATIONAL</td>\n",
       "      <td>{'open_now': True}</td>\n",
       "      <td>{'compound_code': '2VX5+27 Syracuse, NY, USA',...</td>\n",
       "      <td>4.0</td>\n",
       "      <td>1172.0</td>\n",
       "      <td>NaN</td>\n",
       "    </tr>\n",
       "    <tr>\n",
       "      <th>2</th>\n",
       "      <td>{'location': {'lat': 43.0476157, 'lng': -76.14...</td>\n",
       "      <td>https://maps.gstatic.com/mapfiles/place_api/ic...</td>\n",
       "      <td>#909CE1</td>\n",
       "      <td>https://maps.gstatic.com/mapfiles/place_api/ic...</td>\n",
       "      <td>The Parkview Hotel</td>\n",
       "      <td>[{'height': 2584, 'html_attributions': ['&lt;a hr...</td>\n",
       "      <td>ChIJrWsN9KTz2YkRFwo4vpFDe8I</td>\n",
       "      <td>ChIJrWsN9KTz2YkRFwo4vpFDe8I</td>\n",
       "      <td>GOOGLE</td>\n",
       "      <td>[lodging, point_of_interest, establishment]</td>\n",
       "      <td>713 East Genesee Street, Syracuse</td>\n",
       "      <td>OPERATIONAL</td>\n",
       "      <td>{'open_now': True}</td>\n",
       "      <td>{'compound_code': '2VX5+2J Syracuse, NY, USA',...</td>\n",
       "      <td>4.3</td>\n",
       "      <td>356.0</td>\n",
       "      <td>NaN</td>\n",
       "    </tr>\n",
       "    <tr>\n",
       "      <th>3</th>\n",
       "      <td>{'location': {'lat': 43.0472894, 'lng': -76.15...</td>\n",
       "      <td>https://maps.gstatic.com/mapfiles/place_api/ic...</td>\n",
       "      <td>#909CE1</td>\n",
       "      <td>https://maps.gstatic.com/mapfiles/place_api/ic...</td>\n",
       "      <td>Jefferson Clinton Suites</td>\n",
       "      <td>[{'height': 3120, 'html_attributions': ['&lt;a hr...</td>\n",
       "      <td>ChIJa_hOyrjz2YkRPNS3MsHdMlA</td>\n",
       "      <td>ChIJa_hOyrjz2YkRPNS3MsHdMlA</td>\n",
       "      <td>GOOGLE</td>\n",
       "      <td>[lodging, point_of_interest, establishment]</td>\n",
       "      <td>416 South Clinton Street, Syracuse</td>\n",
       "      <td>OPERATIONAL</td>\n",
       "      <td>{'open_now': True}</td>\n",
       "      <td>{'compound_code': '2RWW+WF Syracuse, NY, USA',...</td>\n",
       "      <td>4.4</td>\n",
       "      <td>418.0</td>\n",
       "      <td>NaN</td>\n",
       "    </tr>\n",
       "    <tr>\n",
       "      <th>4</th>\n",
       "      <td>{'location': {'lat': 43.0488846, 'lng': -76.15...</td>\n",
       "      <td>https://maps.gstatic.com/mapfiles/place_api/ic...</td>\n",
       "      <td>#909CE1</td>\n",
       "      <td>https://maps.gstatic.com/mapfiles/place_api/ic...</td>\n",
       "      <td>Courtyard by Marriott Syracuse Downtown at Arm...</td>\n",
       "      <td>[{'height': 1192, 'html_attributions': ['&lt;a hr...</td>\n",
       "      <td>ChIJGzEmOsfz2YkRmZJfIkMXpPo</td>\n",
       "      <td>ChIJGzEmOsfz2YkRmZJfIkMXpPo</td>\n",
       "      <td>GOOGLE</td>\n",
       "      <td>[lodging, point_of_interest, establishment]</td>\n",
       "      <td>300 West Fayette Street, Syracuse</td>\n",
       "      <td>OPERATIONAL</td>\n",
       "      <td>NaN</td>\n",
       "      <td>{'compound_code': '2RXV+HH Syracuse, NY, USA',...</td>\n",
       "      <td>4.1</td>\n",
       "      <td>414.0</td>\n",
       "      <td>NaN</td>\n",
       "    </tr>\n",
       "  </tbody>\n",
       "</table>\n",
       "</div>"
      ],
      "text/plain": [
       "                                            geometry  \\\n",
       "0  {'location': {'lat': 43.0481221, 'lng': -76.14...   \n",
       "1  {'location': {'lat': 43.0476078, 'lng': -76.14...   \n",
       "2  {'location': {'lat': 43.0476157, 'lng': -76.14...   \n",
       "3  {'location': {'lat': 43.0472894, 'lng': -76.15...   \n",
       "4  {'location': {'lat': 43.0488846, 'lng': -76.15...   \n",
       "\n",
       "                                                icon icon_background_color  \\\n",
       "0  https://maps.gstatic.com/mapfiles/place_api/ic...               #7B9EB0   \n",
       "1  https://maps.gstatic.com/mapfiles/place_api/ic...               #909CE1   \n",
       "2  https://maps.gstatic.com/mapfiles/place_api/ic...               #909CE1   \n",
       "3  https://maps.gstatic.com/mapfiles/place_api/ic...               #909CE1   \n",
       "4  https://maps.gstatic.com/mapfiles/place_api/ic...               #909CE1   \n",
       "\n",
       "                                  icon_mask_base_uri  \\\n",
       "0  https://maps.gstatic.com/mapfiles/place_api/ic...   \n",
       "1  https://maps.gstatic.com/mapfiles/place_api/ic...   \n",
       "2  https://maps.gstatic.com/mapfiles/place_api/ic...   \n",
       "3  https://maps.gstatic.com/mapfiles/place_api/ic...   \n",
       "4  https://maps.gstatic.com/mapfiles/place_api/ic...   \n",
       "\n",
       "                                                name  \\\n",
       "0                                           Syracuse   \n",
       "1                              Crowne Plaza Syracuse   \n",
       "2                                 The Parkview Hotel   \n",
       "3                           Jefferson Clinton Suites   \n",
       "4  Courtyard by Marriott Syracuse Downtown at Arm...   \n",
       "\n",
       "                                              photos  \\\n",
       "0  [{'height': 1080, 'html_attributions': ['<a hr...   \n",
       "1  [{'height': 2048, 'html_attributions': ['<a hr...   \n",
       "2  [{'height': 2584, 'html_attributions': ['<a hr...   \n",
       "3  [{'height': 3120, 'html_attributions': ['<a hr...   \n",
       "4  [{'height': 1192, 'html_attributions': ['<a hr...   \n",
       "\n",
       "                      place_id                    reference   scope  \\\n",
       "0  ChIJDZqXv5vz2YkRRZWt1-IM1QA  ChIJDZqXv5vz2YkRRZWt1-IM1QA  GOOGLE   \n",
       "1  ChIJXxPu66Tz2YkRrDM-ZxvDhEE  ChIJXxPu66Tz2YkRrDM-ZxvDhEE  GOOGLE   \n",
       "2  ChIJrWsN9KTz2YkRFwo4vpFDe8I  ChIJrWsN9KTz2YkRFwo4vpFDe8I  GOOGLE   \n",
       "3  ChIJa_hOyrjz2YkRPNS3MsHdMlA  ChIJa_hOyrjz2YkRPNS3MsHdMlA  GOOGLE   \n",
       "4  ChIJGzEmOsfz2YkRmZJfIkMXpPo  ChIJGzEmOsfz2YkRmZJfIkMXpPo  GOOGLE   \n",
       "\n",
       "                                         types  \\\n",
       "0                        [locality, political]   \n",
       "1  [lodging, point_of_interest, establishment]   \n",
       "2  [lodging, point_of_interest, establishment]   \n",
       "3  [lodging, point_of_interest, establishment]   \n",
       "4  [lodging, point_of_interest, establishment]   \n",
       "\n",
       "                             vicinity business_status       opening_hours  \\\n",
       "0                            Syracuse             NaN                 NaN   \n",
       "1   701 East Genesee Street, Syracuse     OPERATIONAL  {'open_now': True}   \n",
       "2   713 East Genesee Street, Syracuse     OPERATIONAL  {'open_now': True}   \n",
       "3  416 South Clinton Street, Syracuse     OPERATIONAL  {'open_now': True}   \n",
       "4   300 West Fayette Street, Syracuse     OPERATIONAL                 NaN   \n",
       "\n",
       "                                           plus_code  rating  \\\n",
       "0                                                NaN     NaN   \n",
       "1  {'compound_code': '2VX5+27 Syracuse, NY, USA',...     4.0   \n",
       "2  {'compound_code': '2VX5+2J Syracuse, NY, USA',...     4.3   \n",
       "3  {'compound_code': '2RWW+WF Syracuse, NY, USA',...     4.4   \n",
       "4  {'compound_code': '2RXV+HH Syracuse, NY, USA',...     4.1   \n",
       "\n",
       "   user_ratings_total  price_level  \n",
       "0                 NaN          NaN  \n",
       "1              1172.0          NaN  \n",
       "2               356.0          NaN  \n",
       "3               418.0          NaN  \n",
       "4               414.0          NaN  "
      ]
     },
     "execution_count": 38,
     "metadata": {},
     "output_type": "execute_result"
    }
   ],
   "source": [
    "places.head(5)"
   ]
  },
  {
   "cell_type": "code",
   "execution_count": 39,
   "metadata": {
    "tags": []
   },
   "outputs": [
    {
     "data": {
      "text/html": [
       "<div>\n",
       "<style scoped>\n",
       "    .dataframe tbody tr th:only-of-type {\n",
       "        vertical-align: middle;\n",
       "    }\n",
       "\n",
       "    .dataframe tbody tr th {\n",
       "        vertical-align: top;\n",
       "    }\n",
       "\n",
       "    .dataframe thead th {\n",
       "        text-align: right;\n",
       "    }\n",
       "</style>\n",
       "<table border=\"1\" class=\"dataframe\">\n",
       "  <thead>\n",
       "    <tr style=\"text-align: right;\">\n",
       "      <th></th>\n",
       "      <th>geometry</th>\n",
       "      <th>icon</th>\n",
       "      <th>icon_background_color</th>\n",
       "      <th>icon_mask_base_uri</th>\n",
       "      <th>name</th>\n",
       "      <th>photos</th>\n",
       "      <th>place_id</th>\n",
       "      <th>reference</th>\n",
       "      <th>scope</th>\n",
       "      <th>types</th>\n",
       "      <th>vicinity</th>\n",
       "      <th>business_status</th>\n",
       "      <th>opening_hours</th>\n",
       "      <th>plus_code</th>\n",
       "      <th>rating</th>\n",
       "      <th>user_ratings_total</th>\n",
       "      <th>price_level</th>\n",
       "    </tr>\n",
       "  </thead>\n",
       "  <tbody>\n",
       "    <tr>\n",
       "      <th>17</th>\n",
       "      <td>{'location': {'lat': 43.0501537, 'lng': -76.15...</td>\n",
       "      <td>https://maps.gstatic.com/mapfiles/place_api/ic...</td>\n",
       "      <td>#7B9EB0</td>\n",
       "      <td>https://maps.gstatic.com/mapfiles/place_api/ic...</td>\n",
       "      <td>United States Government: U.S. Attorney's Office</td>\n",
       "      <td>[{'height': 256, 'html_attributions': ['&lt;a hre...</td>\n",
       "      <td>ChIJqdnph7jz2YkRZPPfwIlotpM</td>\n",
       "      <td>ChIJqdnph7jz2YkRZPPfwIlotpM</td>\n",
       "      <td>GOOGLE</td>\n",
       "      <td>[point_of_interest, establishment]</td>\n",
       "      <td>100 South Clinton Street #9000, Syracuse</td>\n",
       "      <td>OPERATIONAL</td>\n",
       "      <td>{'open_now': True}</td>\n",
       "      <td>{'compound_code': '3R2W+37 Syracuse, NY, USA',...</td>\n",
       "      <td>3.5</td>\n",
       "      <td>2.0</td>\n",
       "      <td>NaN</td>\n",
       "    </tr>\n",
       "    <tr>\n",
       "      <th>18</th>\n",
       "      <td>{'location': {'lat': 43.0437854, 'lng': -76.14...</td>\n",
       "      <td>https://maps.gstatic.com/mapfiles/place_api/ic...</td>\n",
       "      <td>#7B9EB0</td>\n",
       "      <td>https://maps.gstatic.com/mapfiles/place_api/ic...</td>\n",
       "      <td>Ran D Anbar, MD</td>\n",
       "      <td>NaN</td>\n",
       "      <td>ChIJHeCdOKLz2YkRwZSzcGc-rF8</td>\n",
       "      <td>ChIJHeCdOKLz2YkRwZSzcGc-rF8</td>\n",
       "      <td>GOOGLE</td>\n",
       "      <td>[doctor, health, point_of_interest, establishm...</td>\n",
       "      <td>750 East Adams Street, Syracuse</td>\n",
       "      <td>OPERATIONAL</td>\n",
       "      <td>NaN</td>\n",
       "      <td>{'compound_code': '2VV5+GC Syracuse, NY, USA',...</td>\n",
       "      <td>5.0</td>\n",
       "      <td>1.0</td>\n",
       "      <td>NaN</td>\n",
       "    </tr>\n",
       "    <tr>\n",
       "      <th>19</th>\n",
       "      <td>{'location': {'lat': 43.03426049999999, 'lng':...</td>\n",
       "      <td>https://maps.gstatic.com/mapfiles/place_api/ic...</td>\n",
       "      <td>#7B9EB0</td>\n",
       "      <td>https://maps.gstatic.com/mapfiles/place_api/ic...</td>\n",
       "      <td>Eastside</td>\n",
       "      <td>[{'height': 1816, 'html_attributions': ['&lt;a hr...</td>\n",
       "      <td>ChIJlfyBL2jz2YkR7sjX7ltV1GY</td>\n",
       "      <td>ChIJlfyBL2jz2YkR7sjX7ltV1GY</td>\n",
       "      <td>GOOGLE</td>\n",
       "      <td>[neighborhood, political]</td>\n",
       "      <td>Syracuse</td>\n",
       "      <td>NaN</td>\n",
       "      <td>NaN</td>\n",
       "      <td>NaN</td>\n",
       "      <td>NaN</td>\n",
       "      <td>NaN</td>\n",
       "      <td>NaN</td>\n",
       "    </tr>\n",
       "  </tbody>\n",
       "</table>\n",
       "</div>"
      ],
      "text/plain": [
       "                                             geometry  \\\n",
       "17  {'location': {'lat': 43.0501537, 'lng': -76.15...   \n",
       "18  {'location': {'lat': 43.0437854, 'lng': -76.14...   \n",
       "19  {'location': {'lat': 43.03426049999999, 'lng':...   \n",
       "\n",
       "                                                 icon icon_background_color  \\\n",
       "17  https://maps.gstatic.com/mapfiles/place_api/ic...               #7B9EB0   \n",
       "18  https://maps.gstatic.com/mapfiles/place_api/ic...               #7B9EB0   \n",
       "19  https://maps.gstatic.com/mapfiles/place_api/ic...               #7B9EB0   \n",
       "\n",
       "                                   icon_mask_base_uri  \\\n",
       "17  https://maps.gstatic.com/mapfiles/place_api/ic...   \n",
       "18  https://maps.gstatic.com/mapfiles/place_api/ic...   \n",
       "19  https://maps.gstatic.com/mapfiles/place_api/ic...   \n",
       "\n",
       "                                                name  \\\n",
       "17  United States Government: U.S. Attorney's Office   \n",
       "18                                   Ran D Anbar, MD   \n",
       "19                                          Eastside   \n",
       "\n",
       "                                               photos  \\\n",
       "17  [{'height': 256, 'html_attributions': ['<a hre...   \n",
       "18                                                NaN   \n",
       "19  [{'height': 1816, 'html_attributions': ['<a hr...   \n",
       "\n",
       "                       place_id                    reference   scope  \\\n",
       "17  ChIJqdnph7jz2YkRZPPfwIlotpM  ChIJqdnph7jz2YkRZPPfwIlotpM  GOOGLE   \n",
       "18  ChIJHeCdOKLz2YkRwZSzcGc-rF8  ChIJHeCdOKLz2YkRwZSzcGc-rF8  GOOGLE   \n",
       "19  ChIJlfyBL2jz2YkR7sjX7ltV1GY  ChIJlfyBL2jz2YkR7sjX7ltV1GY  GOOGLE   \n",
       "\n",
       "                                                types  \\\n",
       "17                 [point_of_interest, establishment]   \n",
       "18  [doctor, health, point_of_interest, establishm...   \n",
       "19                          [neighborhood, political]   \n",
       "\n",
       "                                    vicinity business_status  \\\n",
       "17  100 South Clinton Street #9000, Syracuse     OPERATIONAL   \n",
       "18           750 East Adams Street, Syracuse     OPERATIONAL   \n",
       "19                                  Syracuse             NaN   \n",
       "\n",
       "         opening_hours                                          plus_code  \\\n",
       "17  {'open_now': True}  {'compound_code': '3R2W+37 Syracuse, NY, USA',...   \n",
       "18                 NaN  {'compound_code': '2VV5+GC Syracuse, NY, USA',...   \n",
       "19                 NaN                                                NaN   \n",
       "\n",
       "    rating  user_ratings_total  price_level  \n",
       "17     3.5                 2.0          NaN  \n",
       "18     5.0                 1.0          NaN  \n",
       "19     NaN                 NaN          NaN  "
      ]
     },
     "execution_count": 39,
     "metadata": {},
     "output_type": "execute_result"
    }
   ],
   "source": [
    "places.tail(3)"
   ]
  },
  {
   "cell_type": "code",
   "execution_count": 42,
   "metadata": {
    "tags": []
   },
   "outputs": [
    {
     "data": {
      "text/html": [
       "<div>\n",
       "<style scoped>\n",
       "    .dataframe tbody tr th:only-of-type {\n",
       "        vertical-align: middle;\n",
       "    }\n",
       "\n",
       "    .dataframe tbody tr th {\n",
       "        vertical-align: top;\n",
       "    }\n",
       "\n",
       "    .dataframe thead th {\n",
       "        text-align: right;\n",
       "    }\n",
       "</style>\n",
       "<table border=\"1\" class=\"dataframe\">\n",
       "  <thead>\n",
       "    <tr style=\"text-align: right;\">\n",
       "      <th></th>\n",
       "      <th>geometry</th>\n",
       "      <th>icon</th>\n",
       "      <th>icon_background_color</th>\n",
       "      <th>icon_mask_base_uri</th>\n",
       "      <th>name</th>\n",
       "      <th>photos</th>\n",
       "      <th>place_id</th>\n",
       "      <th>reference</th>\n",
       "      <th>scope</th>\n",
       "      <th>types</th>\n",
       "      <th>vicinity</th>\n",
       "      <th>business_status</th>\n",
       "      <th>opening_hours</th>\n",
       "      <th>plus_code</th>\n",
       "      <th>rating</th>\n",
       "      <th>user_ratings_total</th>\n",
       "      <th>price_level</th>\n",
       "    </tr>\n",
       "  </thead>\n",
       "  <tbody>\n",
       "    <tr>\n",
       "      <th>0</th>\n",
       "      <td>{'location': {'lat': 43.0481221, 'lng': -76.14...</td>\n",
       "      <td>https://maps.gstatic.com/mapfiles/place_api/ic...</td>\n",
       "      <td>#7B9EB0</td>\n",
       "      <td>https://maps.gstatic.com/mapfiles/place_api/ic...</td>\n",
       "      <td>Syracuse</td>\n",
       "      <td>[{'height': 1080, 'html_attributions': ['&lt;a hr...</td>\n",
       "      <td>ChIJDZqXv5vz2YkRRZWt1-IM1QA</td>\n",
       "      <td>ChIJDZqXv5vz2YkRRZWt1-IM1QA</td>\n",
       "      <td>GOOGLE</td>\n",
       "      <td>[locality, political]</td>\n",
       "      <td>Syracuse</td>\n",
       "      <td>NaN</td>\n",
       "      <td>NaN</td>\n",
       "      <td>NaN</td>\n",
       "      <td>NaN</td>\n",
       "      <td>NaN</td>\n",
       "      <td>NaN</td>\n",
       "    </tr>\n",
       "  </tbody>\n",
       "</table>\n",
       "</div>"
      ],
      "text/plain": [
       "                                            geometry  \\\n",
       "0  {'location': {'lat': 43.0481221, 'lng': -76.14...   \n",
       "\n",
       "                                                icon icon_background_color  \\\n",
       "0  https://maps.gstatic.com/mapfiles/place_api/ic...               #7B9EB0   \n",
       "\n",
       "                                  icon_mask_base_uri      name  \\\n",
       "0  https://maps.gstatic.com/mapfiles/place_api/ic...  Syracuse   \n",
       "\n",
       "                                              photos  \\\n",
       "0  [{'height': 1080, 'html_attributions': ['<a hr...   \n",
       "\n",
       "                      place_id                    reference   scope  \\\n",
       "0  ChIJDZqXv5vz2YkRRZWt1-IM1QA  ChIJDZqXv5vz2YkRRZWt1-IM1QA  GOOGLE   \n",
       "\n",
       "                   types  vicinity business_status opening_hours plus_code  \\\n",
       "0  [locality, political]  Syracuse             NaN           NaN       NaN   \n",
       "\n",
       "   rating  user_ratings_total  price_level  \n",
       "0     NaN                 NaN          NaN  "
      ]
     },
     "execution_count": 42,
     "metadata": {},
     "output_type": "execute_result"
    }
   ],
   "source": [
    "places.sample(1)"
   ]
  },
  {
   "cell_type": "code",
   "execution_count": 43,
   "metadata": {
    "tags": []
   },
   "outputs": [],
   "source": [
    "products = pd.read_csv(\"products.csv\")"
   ]
  },
  {
   "cell_type": "code",
   "execution_count": 45,
   "metadata": {
    "tags": []
   },
   "outputs": [
    {
     "data": {
      "text/html": [
       "<div>\n",
       "<style scoped>\n",
       "    .dataframe tbody tr th:only-of-type {\n",
       "        vertical-align: middle;\n",
       "    }\n",
       "\n",
       "    .dataframe tbody tr th {\n",
       "        vertical-align: top;\n",
       "    }\n",
       "\n",
       "    .dataframe thead th {\n",
       "        text-align: right;\n",
       "    }\n",
       "</style>\n",
       "<table border=\"1\" class=\"dataframe\">\n",
       "  <thead>\n",
       "    <tr style=\"text-align: right;\">\n",
       "      <th></th>\n",
       "      <th>name</th>\n",
       "      <th>price</th>\n",
       "    </tr>\n",
       "  </thead>\n",
       "  <tbody>\n",
       "    <tr>\n",
       "      <th>0</th>\n",
       "      <td>apple</td>\n",
       "      <td>1.99</td>\n",
       "    </tr>\n",
       "    <tr>\n",
       "      <th>1</th>\n",
       "      <td>pear</td>\n",
       "      <td>2.99</td>\n",
       "    </tr>\n",
       "    <tr>\n",
       "      <th>2</th>\n",
       "      <td>orange</td>\n",
       "      <td>3.99</td>\n",
       "    </tr>\n",
       "    <tr>\n",
       "      <th>3</th>\n",
       "      <td>milk</td>\n",
       "      <td>1.59</td>\n",
       "    </tr>\n",
       "  </tbody>\n",
       "</table>\n",
       "</div>"
      ],
      "text/plain": [
       "     name  price\n",
       "0   apple   1.99\n",
       "1    pear   2.99\n",
       "2  orange   3.99\n",
       "3    milk   1.59"
      ]
     },
     "execution_count": 45,
     "metadata": {},
     "output_type": "execute_result"
    }
   ],
   "source": [
    "products"
   ]
  },
  {
   "cell_type": "code",
   "execution_count": 47,
   "metadata": {
    "tags": []
   },
   "outputs": [
    {
     "name": "stdout",
     "output_type": "stream",
     "text": [
      "Collecting openpyxl\n",
      "  Downloading openpyxl-3.1.2-py2.py3-none-any.whl (249 kB)\n",
      "\u001b[2K     \u001b[90m━━━━━━━━━━━━━━━━━━━━━━━━━━━━━━━━━━━━━━\u001b[0m \u001b[32m250.0/250.0 kB\u001b[0m \u001b[31m10.1 MB/s\u001b[0m eta \u001b[36m0:00:00\u001b[0m\n",
      "\u001b[?25hCollecting et-xmlfile (from openpyxl)\n",
      "  Downloading et_xmlfile-1.1.0-py3-none-any.whl (4.7 kB)\n",
      "Installing collected packages: et-xmlfile, openpyxl\n",
      "Successfully installed et-xmlfile-1.1.0 openpyxl-3.1.2\n"
     ]
    }
   ],
   "source": [
    "!pip install openpyxl"
   ]
  },
  {
   "cell_type": "code",
   "execution_count": 48,
   "metadata": {
    "tags": []
   },
   "outputs": [
    {
     "data": {
      "text/html": [
       "<div>\n",
       "<style scoped>\n",
       "    .dataframe tbody tr th:only-of-type {\n",
       "        vertical-align: middle;\n",
       "    }\n",
       "\n",
       "    .dataframe tbody tr th {\n",
       "        vertical-align: top;\n",
       "    }\n",
       "\n",
       "    .dataframe thead th {\n",
       "        text-align: right;\n",
       "    }\n",
       "</style>\n",
       "<table border=\"1\" class=\"dataframe\">\n",
       "  <thead>\n",
       "    <tr style=\"text-align: right;\">\n",
       "      <th></th>\n",
       "      <th>name</th>\n",
       "      <th>price</th>\n",
       "    </tr>\n",
       "  </thead>\n",
       "  <tbody>\n",
       "    <tr>\n",
       "      <th>0</th>\n",
       "      <td>pizza</td>\n",
       "      <td>10.99</td>\n",
       "    </tr>\n",
       "    <tr>\n",
       "      <th>1</th>\n",
       "      <td>juice</td>\n",
       "      <td>2.99</td>\n",
       "    </tr>\n",
       "    <tr>\n",
       "      <th>2</th>\n",
       "      <td>candy</td>\n",
       "      <td>4.99</td>\n",
       "    </tr>\n",
       "  </tbody>\n",
       "</table>\n",
       "</div>"
      ],
      "text/plain": [
       "    name  price\n",
       "0  pizza  10.99\n",
       "1  juice   2.99\n",
       "2  candy   4.99"
      ]
     },
     "execution_count": 48,
     "metadata": {},
     "output_type": "execute_result"
    }
   ],
   "source": [
    "prices = pd.read_excel(\"prices.xlsx\")\n",
    "prices"
   ]
  },
  {
   "cell_type": "code",
   "execution_count": 49,
   "metadata": {
    "tags": []
   },
   "outputs": [
    {
     "data": {
      "text/html": [
       "<div>\n",
       "<style scoped>\n",
       "    .dataframe tbody tr th:only-of-type {\n",
       "        vertical-align: middle;\n",
       "    }\n",
       "\n",
       "    .dataframe tbody tr th {\n",
       "        vertical-align: top;\n",
       "    }\n",
       "\n",
       "    .dataframe thead th {\n",
       "        text-align: right;\n",
       "    }\n",
       "</style>\n",
       "<table border=\"1\" class=\"dataframe\">\n",
       "  <thead>\n",
       "    <tr style=\"text-align: right;\">\n",
       "      <th></th>\n",
       "      <th>Class_Section</th>\n",
       "      <th>Exam_Version</th>\n",
       "      <th>Completion_Time</th>\n",
       "      <th>Made_Own_Study_Guide</th>\n",
       "      <th>Did_Exam_Prep Assignment</th>\n",
       "      <th>Studied_In_Groups</th>\n",
       "      <th>Student_Score</th>\n",
       "      <th>Percentage</th>\n",
       "      <th>Letter_Grade</th>\n",
       "    </tr>\n",
       "  </thead>\n",
       "  <tbody>\n",
       "    <tr>\n",
       "      <th>0</th>\n",
       "      <td>M01</td>\n",
       "      <td>A</td>\n",
       "      <td>20</td>\n",
       "      <td>N</td>\n",
       "      <td>N</td>\n",
       "      <td>Y</td>\n",
       "      <td>24</td>\n",
       "      <td>80.00%</td>\n",
       "      <td>B</td>\n",
       "    </tr>\n",
       "    <tr>\n",
       "      <th>1</th>\n",
       "      <td>M01</td>\n",
       "      <td>A</td>\n",
       "      <td>20</td>\n",
       "      <td>?</td>\n",
       "      <td>?</td>\n",
       "      <td>?</td>\n",
       "      <td>27</td>\n",
       "      <td>90.00%</td>\n",
       "      <td>A-</td>\n",
       "    </tr>\n",
       "    <tr>\n",
       "      <th>2</th>\n",
       "      <td>M01</td>\n",
       "      <td>A</td>\n",
       "      <td>30</td>\n",
       "      <td>Y</td>\n",
       "      <td>Y</td>\n",
       "      <td>Y</td>\n",
       "      <td>30</td>\n",
       "      <td>100.00%</td>\n",
       "      <td>A</td>\n",
       "    </tr>\n",
       "    <tr>\n",
       "      <th>3</th>\n",
       "      <td>M01</td>\n",
       "      <td>A</td>\n",
       "      <td>50</td>\n",
       "      <td>N</td>\n",
       "      <td>Y</td>\n",
       "      <td>Y</td>\n",
       "      <td>18</td>\n",
       "      <td>60.00%</td>\n",
       "      <td>C-</td>\n",
       "    </tr>\n",
       "    <tr>\n",
       "      <th>4</th>\n",
       "      <td>M01</td>\n",
       "      <td>A</td>\n",
       "      <td>55</td>\n",
       "      <td>Y</td>\n",
       "      <td>Y</td>\n",
       "      <td>N</td>\n",
       "      <td>24</td>\n",
       "      <td>80.00%</td>\n",
       "      <td>B</td>\n",
       "    </tr>\n",
       "    <tr>\n",
       "      <th>...</th>\n",
       "      <td>...</td>\n",
       "      <td>...</td>\n",
       "      <td>...</td>\n",
       "      <td>...</td>\n",
       "      <td>...</td>\n",
       "      <td>...</td>\n",
       "      <td>...</td>\n",
       "      <td>...</td>\n",
       "      <td>...</td>\n",
       "    </tr>\n",
       "    <tr>\n",
       "      <th>60</th>\n",
       "      <td>M02</td>\n",
       "      <td>D</td>\n",
       "      <td>40</td>\n",
       "      <td>?</td>\n",
       "      <td>?</td>\n",
       "      <td>?</td>\n",
       "      <td>23</td>\n",
       "      <td>76.70%</td>\n",
       "      <td>B-</td>\n",
       "    </tr>\n",
       "    <tr>\n",
       "      <th>61</th>\n",
       "      <td>M02</td>\n",
       "      <td>D</td>\n",
       "      <td>45</td>\n",
       "      <td>Y</td>\n",
       "      <td>Y</td>\n",
       "      <td>N</td>\n",
       "      <td>22</td>\n",
       "      <td>73.30%</td>\n",
       "      <td>C+</td>\n",
       "    </tr>\n",
       "    <tr>\n",
       "      <th>62</th>\n",
       "      <td>M02</td>\n",
       "      <td>D</td>\n",
       "      <td>45</td>\n",
       "      <td>?</td>\n",
       "      <td>?</td>\n",
       "      <td>?</td>\n",
       "      <td>24</td>\n",
       "      <td>80.00%</td>\n",
       "      <td>B</td>\n",
       "    </tr>\n",
       "    <tr>\n",
       "      <th>63</th>\n",
       "      <td>M02</td>\n",
       "      <td>D</td>\n",
       "      <td>55</td>\n",
       "      <td>Y</td>\n",
       "      <td>Y</td>\n",
       "      <td>N</td>\n",
       "      <td>24</td>\n",
       "      <td>80.00%</td>\n",
       "      <td>B</td>\n",
       "    </tr>\n",
       "    <tr>\n",
       "      <th>64</th>\n",
       "      <td>M02</td>\n",
       "      <td>D</td>\n",
       "      <td>60</td>\n",
       "      <td>N</td>\n",
       "      <td>N</td>\n",
       "      <td>Y</td>\n",
       "      <td>24</td>\n",
       "      <td>80.00%</td>\n",
       "      <td>B</td>\n",
       "    </tr>\n",
       "  </tbody>\n",
       "</table>\n",
       "<p>65 rows × 9 columns</p>\n",
       "</div>"
      ],
      "text/plain": [
       "   Class_Section Exam_Version  Completion_Time Made_Own_Study_Guide  \\\n",
       "0            M01            A               20                    N   \n",
       "1            M01            A               20                    ?   \n",
       "2            M01            A               30                    Y   \n",
       "3            M01            A               50                    N   \n",
       "4            M01            A               55                    Y   \n",
       "..           ...          ...              ...                  ...   \n",
       "60           M02            D               40                    ?   \n",
       "61           M02            D               45                    Y   \n",
       "62           M02            D               45                    ?   \n",
       "63           M02            D               55                    Y   \n",
       "64           M02            D               60                    N   \n",
       "\n",
       "   Did_Exam_Prep Assignment Studied_In_Groups  Student_Score Percentage  \\\n",
       "0                         N                 Y             24     80.00%   \n",
       "1                         ?                 ?             27     90.00%   \n",
       "2                         Y                 Y             30    100.00%   \n",
       "3                         Y                 Y             18     60.00%   \n",
       "4                         Y                 N             24     80.00%   \n",
       "..                      ...               ...            ...        ...   \n",
       "60                        ?                 ?             23     76.70%   \n",
       "61                        Y                 N             22     73.30%   \n",
       "62                        ?                 ?             24     80.00%   \n",
       "63                        Y                 N             24     80.00%   \n",
       "64                        N                 Y             24     80.00%   \n",
       "\n",
       "   Letter_Grade  \n",
       "0             B  \n",
       "1            A-  \n",
       "2             A  \n",
       "3            C-  \n",
       "4             B  \n",
       "..          ...  \n",
       "60           B-  \n",
       "61           C+  \n",
       "62            B  \n",
       "63            B  \n",
       "64            B  \n",
       "\n",
       "[65 rows x 9 columns]"
      ]
     },
     "execution_count": 49,
     "metadata": {},
     "output_type": "execute_result"
    }
   ],
   "source": [
    "exam_scores = pd.read_csv(\"https://raw.githubusercontent.com/mafudge/datasets/master/exam-scores/exam-scores.csv\")\n",
    "exam_scores"
   ]
  },
  {
   "cell_type": "code",
   "execution_count": 51,
   "metadata": {
    "tags": []
   },
   "outputs": [
    {
     "name": "stdout",
     "output_type": "stream",
     "text": [
      "<class 'pandas.core.frame.DataFrame'>\n",
      "RangeIndex: 1000 entries, 0 to 999\n",
      "Data columns (total 12 columns):\n",
      " #   Column            Non-Null Count  Dtype         \n",
      "---  ------            --------------  -----         \n",
      " 0   animal_id         1000 non-null   object        \n",
      " 1   name              701 non-null    object        \n",
      " 2   datetime          1000 non-null   datetime64[ns]\n",
      " 3   datetime2         1000 non-null   object        \n",
      " 4   found_location    1000 non-null   object        \n",
      " 5   intake_type       1000 non-null   object        \n",
      " 6   intake_condition  1000 non-null   object        \n",
      " 7   animal_type       1000 non-null   object        \n",
      " 8   sex_upon_intake   1000 non-null   object        \n",
      " 9   age_upon_intake   1000 non-null   object        \n",
      " 10  breed             1000 non-null   object        \n",
      " 11  color             1000 non-null   object        \n",
      "dtypes: datetime64[ns](1), object(11)\n",
      "memory usage: 93.9+ KB\n"
     ]
    }
   ],
   "source": [
    "animals = pd.read_json(\"https://data.austintexas.gov/resource/wter-evkm.json\")\n",
    "animals.info()"
   ]
  },
  {
   "cell_type": "code",
   "execution_count": 56,
   "metadata": {
    "tags": []
   },
   "outputs": [],
   "source": [
    "animal_types = list(animals['animal_type'].unique())"
   ]
  },
  {
   "cell_type": "code",
   "execution_count": 57,
   "metadata": {
    "tags": []
   },
   "outputs": [
    {
     "data": {
      "text/plain": [
       "['Dog', 'Cat', 'Other', 'Bird']"
      ]
     },
     "execution_count": 57,
     "metadata": {},
     "output_type": "execute_result"
    }
   ],
   "source": [
    "animal_types"
   ]
  },
  {
   "cell_type": "code",
   "execution_count": 59,
   "metadata": {
    "tags": []
   },
   "outputs": [
    {
     "data": {
      "application/vnd.jupyter.widget-view+json": {
       "model_id": "15aa3ecb2c3145bbaa60bda019f1d487",
       "version_major": 2,
       "version_minor": 0
      },
      "text/plain": [
       "interactive(children=(Dropdown(description='animal_type', options=('Dog', 'Cat', 'Other', 'Bird'), value='Dog'…"
      ]
     },
     "metadata": {},
     "output_type": "display_data"
    }
   ],
   "source": [
    "from ipywidgets import interact_manual\n",
    "from IPython.display import display\n",
    "\n",
    "@interact_manual(animal_type=animal_types)\n",
    "def onclick(animal_type):\n",
    "    print(animal_type)\n",
    "    filter = animals['animal_type'] == animal_type\n",
    "    display(animals[filter])\n"
   ]
  },
  {
   "cell_type": "code",
   "execution_count": 60,
   "metadata": {
    "tags": []
   },
   "outputs": [
    {
     "name": "stdout",
     "output_type": "stream",
     "text": [
      "<class 'pandas.core.frame.DataFrame'>\n",
      "RangeIndex: 1000 entries, 0 to 999\n",
      "Data columns (total 12 columns):\n",
      " #   Column            Non-Null Count  Dtype         \n",
      "---  ------            --------------  -----         \n",
      " 0   animal_id         1000 non-null   object        \n",
      " 1   name              701 non-null    object        \n",
      " 2   datetime          1000 non-null   datetime64[ns]\n",
      " 3   datetime2         1000 non-null   object        \n",
      " 4   found_location    1000 non-null   object        \n",
      " 5   intake_type       1000 non-null   object        \n",
      " 6   intake_condition  1000 non-null   object        \n",
      " 7   animal_type       1000 non-null   object        \n",
      " 8   sex_upon_intake   1000 non-null   object        \n",
      " 9   age_upon_intake   1000 non-null   object        \n",
      " 10  breed             1000 non-null   object        \n",
      " 11  color             1000 non-null   object        \n",
      "dtypes: datetime64[ns](1), object(11)\n",
      "memory usage: 93.9+ KB\n"
     ]
    }
   ],
   "source": [
    "animals.info()"
   ]
  },
  {
   "cell_type": "code",
   "execution_count": 64,
   "metadata": {
    "tags": []
   },
   "outputs": [
    {
     "data": {
      "text/plain": [
       "array(['Neutered Male', 'Spayed Female', 'Intact Male', 'Intact Female',\n",
       "       'Unknown'], dtype=object)"
      ]
     },
     "execution_count": 64,
     "metadata": {},
     "output_type": "execute_result"
    }
   ],
   "source": [
    "animals['sex_upon_intake'].unique()"
   ]
  },
  {
   "cell_type": "code",
   "execution_count": 65,
   "metadata": {
    "tags": []
   },
   "outputs": [
    {
     "data": {
      "text/plain": [
       "sex_upon_intake\n",
       "Intact Female    329\n",
       "Intact Male      299\n",
       "Neutered Male    136\n",
       "Spayed Female    133\n",
       "Unknown          103\n",
       "Name: count, dtype: int64"
      ]
     },
     "execution_count": 65,
     "metadata": {},
     "output_type": "execute_result"
    }
   ],
   "source": [
    "animals['sex_upon_intake'].value_counts()"
   ]
  },
  {
   "cell_type": "code",
   "execution_count": 66,
   "metadata": {
    "tags": []
   },
   "outputs": [
    {
     "data": {
      "text/plain": [
       "sex_upon_intake\n",
       "Intact Female    0.329\n",
       "Intact Male      0.299\n",
       "Neutered Male    0.136\n",
       "Spayed Female    0.133\n",
       "Unknown          0.103\n",
       "Name: proportion, dtype: float64"
      ]
     },
     "execution_count": 66,
     "metadata": {},
     "output_type": "execute_result"
    }
   ],
   "source": [
    "animals['sex_upon_intake'].value_counts(normalize=True)"
   ]
  },
  {
   "cell_type": "code",
   "execution_count": 67,
   "metadata": {
    "tags": []
   },
   "outputs": [],
   "source": [
    "sex = animals['sex_upon_intake'].value_counts(normalize=True)"
   ]
  },
  {
   "cell_type": "code",
   "execution_count": 69,
   "metadata": {
    "tags": []
   },
   "outputs": [
    {
     "data": {
      "text/plain": [
       "0.133"
      ]
     },
     "execution_count": 69,
     "metadata": {},
     "output_type": "execute_result"
    }
   ],
   "source": [
    "sex['Spayed Female']"
   ]
  },
  {
   "cell_type": "code",
   "execution_count": 72,
   "metadata": {
    "tags": []
   },
   "outputs": [],
   "source": [
    "# loading in a webpage\n",
    "standings = pd.read_html(\"https://en.wikipedia.org/wiki/Atlantic_Coast_Conference\")"
   ]
  },
  {
   "cell_type": "code",
   "execution_count": 75,
   "metadata": {
    "tags": []
   },
   "outputs": [
    {
     "data": {
      "text/html": [
       "<div>\n",
       "<style scoped>\n",
       "    .dataframe tbody tr th:only-of-type {\n",
       "        vertical-align: middle;\n",
       "    }\n",
       "\n",
       "    .dataframe tbody tr th {\n",
       "        vertical-align: top;\n",
       "    }\n",
       "\n",
       "    .dataframe thead th {\n",
       "        text-align: right;\n",
       "    }\n",
       "</style>\n",
       "<table border=\"1\" class=\"dataframe\">\n",
       "  <thead>\n",
       "    <tr style=\"text-align: right;\">\n",
       "      <th></th>\n",
       "      <th>Institution</th>\n",
       "      <th>Location</th>\n",
       "      <th>Joined</th>\n",
       "      <th>Founded</th>\n",
       "      <th>Type</th>\n",
       "      <th>Enrollment</th>\n",
       "      <th>Endowment (millions)</th>\n",
       "      <th>Nickname</th>\n",
       "      <th>Colors</th>\n",
       "    </tr>\n",
       "  </thead>\n",
       "  <tbody>\n",
       "    <tr>\n",
       "      <th>0</th>\n",
       "      <td>Clemson University</td>\n",
       "      <td>Clemson, South Carolina</td>\n",
       "      <td>1953</td>\n",
       "      <td>1889</td>\n",
       "      <td>Public (land-grant)</td>\n",
       "      <td>25822</td>\n",
       "      <td>$1,007[5]</td>\n",
       "      <td>Tigers</td>\n",
       "      <td>.mw-parser-output .legend{page-break-inside:av...</td>\n",
       "    </tr>\n",
       "    <tr>\n",
       "      <th>1</th>\n",
       "      <td>Duke University</td>\n",
       "      <td>Durham, North Carolina</td>\n",
       "      <td>1953</td>\n",
       "      <td>1838</td>\n",
       "      <td>Private (non-sectarian) (Methodist-founded)</td>\n",
       "      <td>16780</td>\n",
       "      <td>$12,700[6]</td>\n",
       "      <td>Blue Devils</td>\n",
       "      <td>NaN</td>\n",
       "    </tr>\n",
       "    <tr>\n",
       "      <th>2</th>\n",
       "      <td>University of North Carolina at Chapel Hill</td>\n",
       "      <td>Chapel Hill, North Carolina</td>\n",
       "      <td>1953</td>\n",
       "      <td>1789</td>\n",
       "      <td>Public</td>\n",
       "      <td>30101</td>\n",
       "      <td>$5,160[7]</td>\n",
       "      <td>Tar Heels</td>\n",
       "      <td>NaN</td>\n",
       "    </tr>\n",
       "    <tr>\n",
       "      <th>3</th>\n",
       "      <td>North Carolina State University</td>\n",
       "      <td>Raleigh, North Carolina</td>\n",
       "      <td>1953</td>\n",
       "      <td>1887</td>\n",
       "      <td>Public (land-grant)</td>\n",
       "      <td>36304</td>\n",
       "      <td>$1,950[8]</td>\n",
       "      <td>Wolfpack</td>\n",
       "      <td>NaN</td>\n",
       "    </tr>\n",
       "    <tr>\n",
       "      <th>4</th>\n",
       "      <td>Wake Forest University</td>\n",
       "      <td>Winston-Salem, North Carolina</td>\n",
       "      <td>1953</td>\n",
       "      <td>1834</td>\n",
       "      <td>Private (non-sectarian) (Baptist-founded)</td>\n",
       "      <td>8789</td>\n",
       "      <td>$1,860[7]</td>\n",
       "      <td>Demon Deacons</td>\n",
       "      <td>NaN</td>\n",
       "    </tr>\n",
       "    <tr>\n",
       "      <th>5</th>\n",
       "      <td>University of Virginia</td>\n",
       "      <td>Charlottesville, Virginia</td>\n",
       "      <td>1953</td>\n",
       "      <td>1819</td>\n",
       "      <td>Public</td>\n",
       "      <td>25018</td>\n",
       "      <td>$9,800[9]</td>\n",
       "      <td>Cavaliers</td>\n",
       "      <td>NaN</td>\n",
       "    </tr>\n",
       "    <tr>\n",
       "      <th>6</th>\n",
       "      <td>Georgia Institute of Technology</td>\n",
       "      <td>Atlanta, Georgia</td>\n",
       "      <td>1979[a]</td>\n",
       "      <td>1885</td>\n",
       "      <td>Public</td>\n",
       "      <td>47961</td>\n",
       "      <td>$2,970[7]</td>\n",
       "      <td>Yellow Jackets</td>\n",
       "      <td>NaN</td>\n",
       "    </tr>\n",
       "    <tr>\n",
       "      <th>7</th>\n",
       "      <td>Florida State University</td>\n",
       "      <td>Tallahassee, Florida</td>\n",
       "      <td>1991[b]</td>\n",
       "      <td>1851</td>\n",
       "      <td>Public</td>\n",
       "      <td>45493</td>\n",
       "      <td>$898[12]</td>\n",
       "      <td>Seminoles</td>\n",
       "      <td>NaN</td>\n",
       "    </tr>\n",
       "    <tr>\n",
       "      <th>8</th>\n",
       "      <td>University of Miami</td>\n",
       "      <td>Coral Gables, Florida</td>\n",
       "      <td>2004</td>\n",
       "      <td>1925</td>\n",
       "      <td>Private (non-sectarian)</td>\n",
       "      <td>17811</td>\n",
       "      <td>$1,340[13]</td>\n",
       "      <td>Hurricanes</td>\n",
       "      <td>NaN</td>\n",
       "    </tr>\n",
       "    <tr>\n",
       "      <th>9</th>\n",
       "      <td>Virginia Polytechnic Institute and State Unive...</td>\n",
       "      <td>Blacksburg, Virginia</td>\n",
       "      <td>2004</td>\n",
       "      <td>1872</td>\n",
       "      <td>Public (land-grant)</td>\n",
       "      <td>36383</td>\n",
       "      <td>$1,340[14]</td>\n",
       "      <td>Hokies</td>\n",
       "      <td>NaN</td>\n",
       "    </tr>\n",
       "    <tr>\n",
       "      <th>10</th>\n",
       "      <td>Boston College</td>\n",
       "      <td>Chestnut Hill, Massachusetts</td>\n",
       "      <td>2005</td>\n",
       "      <td>1863</td>\n",
       "      <td>Private (Jesuit)</td>\n",
       "      <td>14890</td>\n",
       "      <td>$3,300[15]</td>\n",
       "      <td>Eagles</td>\n",
       "      <td>NaN</td>\n",
       "    </tr>\n",
       "    <tr>\n",
       "      <th>11</th>\n",
       "      <td>University of Notre Dame</td>\n",
       "      <td>Notre Dame, Indiana</td>\n",
       "      <td>2013</td>\n",
       "      <td>1842</td>\n",
       "      <td>Private (Holy Cross)</td>\n",
       "      <td>12681</td>\n",
       "      <td>$16,700[16]</td>\n",
       "      <td>Fighting Irish</td>\n",
       "      <td>NaN</td>\n",
       "    </tr>\n",
       "    <tr>\n",
       "      <th>12</th>\n",
       "      <td>University of Pittsburgh</td>\n",
       "      <td>Pittsburgh, Pennsylvania</td>\n",
       "      <td>2013</td>\n",
       "      <td>1787</td>\n",
       "      <td>Public (state-related)</td>\n",
       "      <td>28,391[c]</td>\n",
       "      <td>$5,680[18]</td>\n",
       "      <td>Panthers</td>\n",
       "      <td>NaN</td>\n",
       "    </tr>\n",
       "    <tr>\n",
       "      <th>13</th>\n",
       "      <td>Syracuse University</td>\n",
       "      <td>Syracuse, New York</td>\n",
       "      <td>2013</td>\n",
       "      <td>1870</td>\n",
       "      <td>Private (non-sectarian)</td>\n",
       "      <td>21322</td>\n",
       "      <td>$1,790[19]</td>\n",
       "      <td>Orange</td>\n",
       "      <td>NaN</td>\n",
       "    </tr>\n",
       "    <tr>\n",
       "      <th>14</th>\n",
       "      <td>University of Louisville</td>\n",
       "      <td>Louisville, Kentucky</td>\n",
       "      <td>2014</td>\n",
       "      <td>1798</td>\n",
       "      <td>Public</td>\n",
       "      <td>21430</td>\n",
       "      <td>$884[20]</td>\n",
       "      <td>Cardinals</td>\n",
       "      <td>NaN</td>\n",
       "    </tr>\n",
       "  </tbody>\n",
       "</table>\n",
       "</div>"
      ],
      "text/plain": [
       "                                          Institution  \\\n",
       "0                                  Clemson University   \n",
       "1                                     Duke University   \n",
       "2         University of North Carolina at Chapel Hill   \n",
       "3                     North Carolina State University   \n",
       "4                              Wake Forest University   \n",
       "5                              University of Virginia   \n",
       "6                     Georgia Institute of Technology   \n",
       "7                            Florida State University   \n",
       "8                                 University of Miami   \n",
       "9   Virginia Polytechnic Institute and State Unive...   \n",
       "10                                     Boston College   \n",
       "11                           University of Notre Dame   \n",
       "12                           University of Pittsburgh   \n",
       "13                                Syracuse University   \n",
       "14                           University of Louisville   \n",
       "\n",
       "                         Location   Joined  Founded  \\\n",
       "0         Clemson, South Carolina     1953     1889   \n",
       "1          Durham, North Carolina     1953     1838   \n",
       "2     Chapel Hill, North Carolina     1953     1789   \n",
       "3         Raleigh, North Carolina     1953     1887   \n",
       "4   Winston-Salem, North Carolina     1953     1834   \n",
       "5       Charlottesville, Virginia     1953     1819   \n",
       "6                Atlanta, Georgia  1979[a]     1885   \n",
       "7            Tallahassee, Florida  1991[b]     1851   \n",
       "8           Coral Gables, Florida     2004     1925   \n",
       "9            Blacksburg, Virginia     2004     1872   \n",
       "10   Chestnut Hill, Massachusetts     2005     1863   \n",
       "11            Notre Dame, Indiana     2013     1842   \n",
       "12       Pittsburgh, Pennsylvania     2013     1787   \n",
       "13             Syracuse, New York     2013     1870   \n",
       "14           Louisville, Kentucky     2014     1798   \n",
       "\n",
       "                                           Type Enrollment  \\\n",
       "0                           Public (land-grant)      25822   \n",
       "1   Private (non-sectarian) (Methodist-founded)      16780   \n",
       "2                                        Public      30101   \n",
       "3                           Public (land-grant)      36304   \n",
       "4     Private (non-sectarian) (Baptist-founded)       8789   \n",
       "5                                        Public      25018   \n",
       "6                                        Public      47961   \n",
       "7                                        Public      45493   \n",
       "8                       Private (non-sectarian)      17811   \n",
       "9                           Public (land-grant)      36383   \n",
       "10                             Private (Jesuit)      14890   \n",
       "11                         Private (Holy Cross)      12681   \n",
       "12                       Public (state-related)  28,391[c]   \n",
       "13                      Private (non-sectarian)      21322   \n",
       "14                                       Public      21430   \n",
       "\n",
       "   Endowment (millions)        Nickname  \\\n",
       "0             $1,007[5]          Tigers   \n",
       "1            $12,700[6]     Blue Devils   \n",
       "2             $5,160[7]       Tar Heels   \n",
       "3             $1,950[8]        Wolfpack   \n",
       "4             $1,860[7]   Demon Deacons   \n",
       "5             $9,800[9]       Cavaliers   \n",
       "6             $2,970[7]  Yellow Jackets   \n",
       "7              $898[12]       Seminoles   \n",
       "8            $1,340[13]      Hurricanes   \n",
       "9            $1,340[14]          Hokies   \n",
       "10           $3,300[15]          Eagles   \n",
       "11          $16,700[16]  Fighting Irish   \n",
       "12           $5,680[18]        Panthers   \n",
       "13           $1,790[19]          Orange   \n",
       "14             $884[20]       Cardinals   \n",
       "\n",
       "                                               Colors  \n",
       "0   .mw-parser-output .legend{page-break-inside:av...  \n",
       "1                                                 NaN  \n",
       "2                                                 NaN  \n",
       "3                                                 NaN  \n",
       "4                                                 NaN  \n",
       "5                                                 NaN  \n",
       "6                                                 NaN  \n",
       "7                                                 NaN  \n",
       "8                                                 NaN  \n",
       "9                                                 NaN  \n",
       "10                                                NaN  \n",
       "11                                                NaN  \n",
       "12                                                NaN  \n",
       "13                                                NaN  \n",
       "14                                                NaN  "
      ]
     },
     "execution_count": 75,
     "metadata": {},
     "output_type": "execute_result"
    }
   ],
   "source": [
    "# you get back a python list of tables on the web page\n",
    "standings[1]"
   ]
  },
  {
   "cell_type": "code",
   "execution_count": 76,
   "metadata": {
    "tags": []
   },
   "outputs": [
    {
     "data": {
      "text/html": [
       "<div>\n",
       "<style scoped>\n",
       "    .dataframe tbody tr th:only-of-type {\n",
       "        vertical-align: middle;\n",
       "    }\n",
       "\n",
       "    .dataframe tbody tr th {\n",
       "        vertical-align: top;\n",
       "    }\n",
       "\n",
       "    .dataframe thead th {\n",
       "        text-align: right;\n",
       "    }\n",
       "</style>\n",
       "<table border=\"1\" class=\"dataframe\">\n",
       "  <thead>\n",
       "    <tr style=\"text-align: right;\">\n",
       "      <th></th>\n",
       "      <th>name</th>\n",
       "      <th>gpa</th>\n",
       "    </tr>\n",
       "  </thead>\n",
       "  <tbody>\n",
       "    <tr>\n",
       "      <th>0</th>\n",
       "      <td>abby</td>\n",
       "      <td>3.5</td>\n",
       "    </tr>\n",
       "    <tr>\n",
       "      <th>1</th>\n",
       "      <td>bob</td>\n",
       "      <td>3.0</td>\n",
       "    </tr>\n",
       "    <tr>\n",
       "      <th>2</th>\n",
       "      <td>chris</td>\n",
       "      <td>2.5</td>\n",
       "    </tr>\n",
       "    <tr>\n",
       "      <th>3</th>\n",
       "      <td>della</td>\n",
       "      <td>4.0</td>\n",
       "    </tr>\n",
       "  </tbody>\n",
       "</table>\n",
       "</div>"
      ],
      "text/plain": [
       "    name  gpa\n",
       "0   abby  3.5\n",
       "1    bob  3.0\n",
       "2  chris  2.5\n",
       "3  della  4.0"
      ]
     },
     "execution_count": 76,
     "metadata": {},
     "output_type": "execute_result"
    }
   ],
   "source": [
    "students"
   ]
  },
  {
   "cell_type": "code",
   "execution_count": 77,
   "metadata": {
    "tags": []
   },
   "outputs": [],
   "source": [
    "students['major'] = \"IMT\""
   ]
  },
  {
   "cell_type": "code",
   "execution_count": 80,
   "metadata": {
    "tags": []
   },
   "outputs": [],
   "source": [
    "def deanslist(gpa):\n",
    "    if gpa > 3.2:\n",
    "        return \"Yes\"\n",
    "    else:\n",
    "        return \"No\"\n",
    "    \n",
    "assert deanslist(3.4) == \"Yes\""
   ]
  },
  {
   "cell_type": "code",
   "execution_count": 81,
   "metadata": {
    "tags": []
   },
   "outputs": [],
   "source": [
    "students['deans_list'] = students.apply(lambda row: deanslist(row['gpa']), axis=1)"
   ]
  },
  {
   "cell_type": "code",
   "execution_count": 82,
   "metadata": {
    "tags": []
   },
   "outputs": [
    {
     "data": {
      "text/html": [
       "<div>\n",
       "<style scoped>\n",
       "    .dataframe tbody tr th:only-of-type {\n",
       "        vertical-align: middle;\n",
       "    }\n",
       "\n",
       "    .dataframe tbody tr th {\n",
       "        vertical-align: top;\n",
       "    }\n",
       "\n",
       "    .dataframe thead th {\n",
       "        text-align: right;\n",
       "    }\n",
       "</style>\n",
       "<table border=\"1\" class=\"dataframe\">\n",
       "  <thead>\n",
       "    <tr style=\"text-align: right;\">\n",
       "      <th></th>\n",
       "      <th>name</th>\n",
       "      <th>gpa</th>\n",
       "      <th>major</th>\n",
       "      <th>deans_list</th>\n",
       "    </tr>\n",
       "  </thead>\n",
       "  <tbody>\n",
       "    <tr>\n",
       "      <th>0</th>\n",
       "      <td>abby</td>\n",
       "      <td>3.5</td>\n",
       "      <td>IMT</td>\n",
       "      <td>Yes</td>\n",
       "    </tr>\n",
       "    <tr>\n",
       "      <th>1</th>\n",
       "      <td>bob</td>\n",
       "      <td>3.0</td>\n",
       "      <td>IMT</td>\n",
       "      <td>No</td>\n",
       "    </tr>\n",
       "    <tr>\n",
       "      <th>2</th>\n",
       "      <td>chris</td>\n",
       "      <td>2.5</td>\n",
       "      <td>IMT</td>\n",
       "      <td>No</td>\n",
       "    </tr>\n",
       "    <tr>\n",
       "      <th>3</th>\n",
       "      <td>della</td>\n",
       "      <td>4.0</td>\n",
       "      <td>IMT</td>\n",
       "      <td>Yes</td>\n",
       "    </tr>\n",
       "  </tbody>\n",
       "</table>\n",
       "</div>"
      ],
      "text/plain": [
       "    name  gpa major deans_list\n",
       "0   abby  3.5   IMT        Yes\n",
       "1    bob  3.0   IMT         No\n",
       "2  chris  2.5   IMT         No\n",
       "3  della  4.0   IMT        Yes"
      ]
     },
     "execution_count": 82,
     "metadata": {},
     "output_type": "execute_result"
    }
   ],
   "source": [
    "students"
   ]
  },
  {
   "cell_type": "code",
   "execution_count": null,
   "metadata": {},
   "outputs": [],
   "source": []
  }
 ],
 "metadata": {
  "kernelspec": {
   "display_name": "Python 3 (ipykernel)",
   "language": "python",
   "name": "python3"
  },
  "language_info": {
   "codemirror_mode": {
    "name": "ipython",
    "version": 3
   },
   "file_extension": ".py",
   "mimetype": "text/x-python",
   "name": "python",
   "nbconvert_exporter": "python",
   "pygments_lexer": "ipython3",
   "version": "3.11.3"
  },
  "varInspector": {
   "cols": {
    "lenName": 16,
    "lenType": 16,
    "lenVar": 40
   },
   "kernels_config": {
    "python": {
     "delete_cmd_postfix": "",
     "delete_cmd_prefix": "del ",
     "library": "var_list.py",
     "varRefreshCmd": "print(var_dic_list())"
    },
    "r": {
     "delete_cmd_postfix": ") ",
     "delete_cmd_prefix": "rm(",
     "library": "var_list.r",
     "varRefreshCmd": "cat(var_dic_list()) "
    }
   },
   "types_to_exclude": [
    "module",
    "function",
    "builtin_function_or_method",
    "instance",
    "_Feature"
   ],
   "window_display": false
  }
 },
 "nbformat": 4,
 "nbformat_minor": 4
}
