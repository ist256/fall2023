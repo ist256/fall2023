{
 "cells": [
  {
   "cell_type": "markdown",
   "metadata": {},
   "source": [
    "# Homework: Understanding Sentiment Analysis\n",
    "\n",
    "## The Problem\n",
    "\n",
    "Sentiment Analysis is a natural language processing technique used to determine the mood of text, classified as positive, negative or neutral.  It has practical applications for analyzing reactions in social media, customer relationship managment,  comments / reviews, feedback and much more. For more information, see: [https://monkeylearn.com/blog/sentiment-analysis-examples/](https://monkeylearn.com/blog/sentiment-analysis-examples/)\n",
    "\n",
    "In this homework assignment we will create a very basic sentiment analyzer that scores each word of the input text as positive `+1`, neutral `0`, or negative `-1`. The sum of all the words in the text becomes the sentiment score. Text with an overall score `>0` will be considered positive, likewise text will an overall score of `<0` will be considered negative. \n",
    "\n",
    "\n",
    "It's up to you to create the initial list of words you consider positive or negative. For inspiration, consult:\n",
    "\n",
    "- Positive words:  \n",
    "[https://github.com/jeffreybreen/twitter-sentiment-analysis-tutorial-201107/blob/master/data/opinion-lexicon-English/positive-words.txt](https://github.com/jeffreybreen/twitter-sentiment-analysis-tutorial-201107/blob/master/data/opinion-lexicon-English/positive-words.txt) (Hu 2004)\n",
    "- Negative words:  \n",
    "[https://github.com/jeffreybreen/twitter-sentiment-analysis-tutorial-201107/blob/master/data/opinion-lexicon-English/negative-words.txt](https://github.com/jeffreybreen/twitter-sentiment-analysis-tutorial-201107/blob/master/data/opinion-lexicon-English/negative-words.txt) (Hu 2004)\n",
    "\n",
    "### Requirements\n",
    "\n",
    "1. Write a function, `ScoreSentiment()` which given 3 inputs: positive words, negative words and some text, will return an integer score of sentiment as output.\n",
    "2. Write at least 3 tests for this function to produce an expected score of +2, -2 and 0 respectively.\n",
    "3. Use IPython interact so that there are three input boxes for the text, positive, and negative words.\n",
    "4. Output the score e.g. 2 and the overall sentiment (positive).\n",
    "\n",
    "\n",
    "HINTS:\n",
    "\n",
    " - Don't worry about making your pos/neg lists too large. Just pick about a dozen words from the lists.\n",
    " - Set the lists with default values so you don't need to keep entering them in when you run the interact.\n",
    " - use the `split()` function to tokenize the text into an iterable list of words. loop over the words with `for`. We did something similar in the lab and in small group.\n",
    "\n",
    "\n",
    "### Citations \n",
    "++ Minqing Hu and Bing Liu. \"Mining and Summarizing Customer Reviews.\"   \n",
    "Proceedings of the ACM SIGKDD International Conference on Knowledge   \n",
    "Discovery and Data Mining (KDD-2004), Aug 22-25, 2004, Seattle,   \n",
    "Washington, USA,  "
   ]
  },
  {
   "cell_type": "markdown",
   "metadata": {
    "label": "problem_analysis_cell"
   },
   "source": [
    "## Part 1: Problem Analysis\n",
    "\n",
    "Inputs:\n",
    "\n",
    "```\n",
    "TODO: Inputs\n",
    "```\n",
    "\n",
    "Outputs:\n",
    "\n",
    "```\n",
    "TODO: Outputs\n",
    "```\n",
    "\n",
    "Algorithm (Steps in Program):  \n",
    "\n",
    "```\n",
    "TODO:Steps Here\n",
    "\n",
    "```"
   ]
  },
  {
   "cell_type": "markdown",
   "metadata": {},
   "source": [
    "## Part 2: Code Solution\n",
    "\n",
    "You may write your code in several cells, but place the complete, final working copy of your code solution within this single cell below. Only the within this cell will be considered your solution. Any imports or user-defined functions should be copied into this cell. "
   ]
  },
  {
   "cell_type": "code",
   "execution_count": null,
   "metadata": {
    "label": "code_solution_cell"
   },
   "outputs": [],
   "source": [
    "# Step 2: Write code here\n"
   ]
  },
  {
   "cell_type": "markdown",
   "metadata": {
    "label": "homework_questions_cell"
   },
   "source": [
    "## Part 3: Questions\n",
    "\n",
    "1. What can be done to make the sentiment more accurate?\n",
    "\n",
    "`--== Double-Click and Write Your Answer Below This Line ==--`  \n",
    "\n",
    "\n",
    "2. Do you see any issues with the scoring method?\n",
    "\n",
    "`--== Double-Click and Write Your Answer Below This Line ==--`  \n",
    "\n",
    "\n",
    "3. Does the `ScoreSentiment()` function improve the readability of the main program? Explain.\n",
    "\n",
    "`--== Double-Click and Write Your Answer Below This Line ==--`  \n",
    "\n",
    "\n"
   ]
  },
  {
   "cell_type": "markdown",
   "metadata": {
    "label": "reflection_cell"
   },
   "source": [
    "## Part 4: Reflection\n",
    "\n",
    "Reflect upon your experience completing this assignment. This should be a personal narrative, in your own voice, and cite specifics relevant to the activity as to help the grader understand how you arrived at the code you submitted. Things to consider touching upon: Elaborate on the process itself. Did your original problem analysis work as designed?  How many iterations did you go through before you arrived at the solution? Where did you struggle along the way and how did you overcome it? What did you learn from completing the assignment? What do you need to work on to get better? What was most valuable and least valuable about this exercise? Do you have any suggestions for improvements?\n",
    "\n",
    "To make a good reflection, you should journal your thoughts, questions and comments while you complete the exercise.\n",
    "\n",
    "Keep your response to between 100 and 250 words.\n",
    "\n",
    "`--== Double-Click and Write Your Reflection Below Here ==--`  \n"
   ]
  },
  {
   "cell_type": "code",
   "execution_count": null,
   "metadata": {},
   "outputs": [],
   "source": [
    "# run this code to turn in your work!\n",
    "from coursetools.submission import Submission\n",
    "Submission().submit()"
   ]
  }
 ],
 "metadata": {
  "anaconda-cloud": {},
  "kernelspec": {
   "display_name": "Python 3 (ipykernel)",
   "language": "python",
   "name": "python3"
  },
  "language_info": {
   "codemirror_mode": {
    "name": "ipython",
    "version": 3
   },
   "file_extension": ".py",
   "mimetype": "text/x-python",
   "name": "python",
   "nbconvert_exporter": "python",
   "pygments_lexer": "ipython3",
   "version": "3.9.7"
  },
  "toc": {
   "base_numbering": 1,
   "nav_menu": {},
   "number_sections": false,
   "sideBar": false,
   "skip_h1_title": false,
   "title_cell": "Table of Contents",
   "title_sidebar": "Contents",
   "toc_cell": false,
   "toc_position": {},
   "toc_section_display": false,
   "toc_window_display": false
  },
  "varInspector": {
   "cols": {
    "lenName": 16,
    "lenType": 16,
    "lenVar": 40
   },
   "kernels_config": {
    "python": {
     "delete_cmd_postfix": "",
     "delete_cmd_prefix": "del ",
     "library": "var_list.py",
     "varRefreshCmd": "print(var_dic_list())"
    },
    "r": {
     "delete_cmd_postfix": ") ",
     "delete_cmd_prefix": "rm(",
     "library": "var_list.r",
     "varRefreshCmd": "cat(var_dic_list()) "
    }
   },
   "types_to_exclude": [
    "module",
    "function",
    "builtin_function_or_method",
    "instance",
    "_Feature"
   ],
   "window_display": false
  }
 },
 "nbformat": 4,
 "nbformat_minor": 4
}
