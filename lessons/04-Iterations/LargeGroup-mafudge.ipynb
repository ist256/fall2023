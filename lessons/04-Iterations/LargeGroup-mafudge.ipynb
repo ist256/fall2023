{
 "cells": [
  {
   "cell_type": "markdown",
   "metadata": {},
   "source": [
    "# Code Samples From Large Group\n",
    "\n",
    "Place your notes and code samples from large group here."
   ]
  },
  {
   "cell_type": "code",
   "execution_count": 2,
   "metadata": {},
   "outputs": [],
   "source": [
    "x = 7  # assignment"
   ]
  },
  {
   "cell_type": "code",
   "execution_count": 3,
   "metadata": {
    "tags": []
   },
   "outputs": [
    {
     "data": {
      "text/plain": [
       "7"
      ]
     },
     "execution_count": 3,
     "metadata": {},
     "output_type": "execute_result"
    }
   ],
   "source": [
    "x"
   ]
  },
  {
   "cell_type": "code",
   "execution_count": 5,
   "metadata": {
    "tags": []
   },
   "outputs": [
    {
     "data": {
      "text/plain": [
       "True"
      ]
     },
     "execution_count": 5,
     "metadata": {},
     "output_type": "execute_result"
    }
   ],
   "source": [
    "x == 7 # equality  does x equal 7?"
   ]
  },
  {
   "cell_type": "code",
   "execution_count": 11,
   "metadata": {
    "tags": []
   },
   "outputs": [
    {
     "name": "stdin",
     "output_type": "stream",
     "text": [
      "Guess the secret word: pickle\n"
     ]
    },
    {
     "name": "stdout",
     "output_type": "stream",
     "text": [
      "You made 1 guesses\n",
      "You guessed it!\n"
     ]
    }
   ],
   "source": [
    "secret_word = \"pickle\"\n",
    "your_word = \"\"\n",
    "number_of_guesses = 0 \n",
    "while your_word != secret_word:\n",
    "    your_word = input(\"Guess the secret word:\")\n",
    "    number_of_guesses = number_of_guesses + 1\n",
    "    print(f\"You made {number_of_guesses} guesses\")\n",
    "    if your_word != secret_word:\n",
    "        print(\"Incorrect Guess!\")\n",
    "    else:\n",
    "        print(\"You guessed it!\")"
   ]
  },
  {
   "cell_type": "code",
   "execution_count": 14,
   "metadata": {
    "tags": []
   },
   "outputs": [
    {
     "name": "stdout",
     "output_type": "stream",
     "text": [
      "Chicken\n",
      "0\n",
      "Chicken\n",
      "1\n",
      "Chicken\n",
      "2\n",
      "Chicken\n",
      "3\n",
      "Chicken\n",
      "4\n"
     ]
    }
   ],
   "source": [
    "for k in range(5):\n",
    "    print(\"Chicken\")\n",
    "    print(k)"
   ]
  },
  {
   "cell_type": "code",
   "execution_count": 17,
   "metadata": {
    "tags": []
   },
   "outputs": [
    {
     "name": "stdout",
     "output_type": "stream",
     "text": [
      "apple\n",
      "pear\n",
      "cheese\n"
     ]
    }
   ],
   "source": [
    "foods = [ 'apple', 'pear', 'cheese']\n",
    "for food in foods:\n",
    "    print(food)"
   ]
  },
  {
   "cell_type": "code",
   "execution_count": null,
   "metadata": {},
   "outputs": [],
   "source": [
    "while x_button.pressed == False and term_button.pressed == False and \n",
    "#better\n",
    "while True:\n",
    "    if x_button.pressed:\n",
    "        break\n",
    "    if term_button.pressed:\n",
    "        break\n",
    "???"
   ]
  },
  {
   "cell_type": "markdown",
   "metadata": {},
   "source": [
    "1. 5 attempts for the password\n",
    "2. On correct password, print: “Access Granted”, then end the program\n",
    "3. On incorrect password “Invalid Password Attempt #” and give the user another try\n",
    "4. After 5 attempts, print “You are locked out”. Then end the program"
   ]
  },
  {
   "cell_type": "code",
   "execution_count": 24,
   "metadata": {
    "tags": []
   },
   "outputs": [
    {
     "name": "stdin",
     "output_type": "stream",
     "text": [
      "Enter Password: sadhfasd\n"
     ]
    },
    {
     "name": "stdout",
     "output_type": "stream",
     "text": [
      "Incorrect password Attempt # 1\n"
     ]
    },
    {
     "name": "stdin",
     "output_type": "stream",
     "text": [
      "Enter Password: cheese\n"
     ]
    },
    {
     "name": "stdout",
     "output_type": "stream",
     "text": [
      "Access Granted\n"
     ]
    }
   ],
   "source": [
    "your_password = \"cheese\"\n",
    "number_of_attempts = 0\n",
    "max_attempts = 5\n",
    "while True:\n",
    "    password = input(\"Enter Password:\")\n",
    "    number_of_attempts += 1\n",
    "    if password == your_password:\n",
    "        print(\"Access Granted\")\n",
    "        break\n",
    "    print(f\"Incorrect password Attempt # {number_of_attempts}\")\n",
    "    if number_of_attempts == max_attempts:\n",
    "        print(\"You are Locked Out!\")\n",
    "        break\n"
   ]
  },
  {
   "cell_type": "code",
   "execution_count": null,
   "metadata": {},
   "outputs": [],
   "source": []
  }
 ],
 "metadata": {
  "kernelspec": {
   "display_name": "Python 3 (ipykernel)",
   "language": "python",
   "name": "python3"
  },
  "language_info": {
   "codemirror_mode": {
    "name": "ipython",
    "version": 3
   },
   "file_extension": ".py",
   "mimetype": "text/x-python",
   "name": "python",
   "nbconvert_exporter": "python",
   "pygments_lexer": "ipython3",
   "version": "3.11.3"
  },
  "varInspector": {
   "cols": {
    "lenName": 16,
    "lenType": 16,
    "lenVar": 40
   },
   "kernels_config": {
    "python": {
     "delete_cmd_postfix": "",
     "delete_cmd_prefix": "del ",
     "library": "var_list.py",
     "varRefreshCmd": "print(var_dic_list())"
    },
    "r": {
     "delete_cmd_postfix": ") ",
     "delete_cmd_prefix": "rm(",
     "library": "var_list.r",
     "varRefreshCmd": "cat(var_dic_list()) "
    }
   },
   "types_to_exclude": [
    "module",
    "function",
    "builtin_function_or_method",
    "instance",
    "_Feature"
   ],
   "window_display": false
  }
 },
 "nbformat": 4,
 "nbformat_minor": 4
}
