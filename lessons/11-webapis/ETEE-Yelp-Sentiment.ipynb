{
 "cells": [
  {
   "cell_type": "markdown",
   "metadata": {},
   "source": [
    "### Get the most positive and negative online reviews about a business\n",
    "\n",
    "How well to the ratings match the sentiment of the review text? \n",
    "\n",
    "- Learn the Yelp API https://www.yelp.com/developers\n",
    "- Search for a business and get reviews\n",
    "- Use Azure Text Analytics https://docs.microsoft.com/en-us/azure/cognitive-services/text-analytics/\n",
    "- Get sentiment of reviews\n",
    "- Time permitting do negative\n",
    "- Demonstrate the problem simplification approach"
   ]
  },
  {
   "cell_type": "code",
   "execution_count": 19,
   "metadata": {},
   "outputs": [],
   "source": [
    "import requests\n",
    "from IPython.display import display, Image, HTML\n",
    "from ipywidgets import widgets, interact_manual"
   ]
  },
  {
   "cell_type": "markdown",
   "metadata": {},
   "source": [
    "## Sentiment"
   ]
  },
  {
   "cell_type": "code",
   "execution_count": 20,
   "metadata": {},
   "outputs": [
    {
     "name": "stdout",
     "output_type": "stream",
     "text": [
      "neutral\n",
      "positive\n"
     ]
    }
   ],
   "source": [
    "def get_sentiment(text):\n",
    "    key = '045fae3d312d4f30aee929a8832b2ad9'\n",
    "    endpoint = 'https://ist256-mafudge-cogsvcs.cognitiveservices.azure.com/'\n",
    "    url = f'{endpoint}text/analytics/v3.1/sentiment'\n",
    "    header = { 'Ocp-Apim-Subscription-Key' : key}\n",
    "\n",
    "    documents = {\"documents\": [{\"id\": \"1\", \"language\": \"en\",\"text\": text}]}\n",
    "\n",
    "    response = requests.post(url, headers=header, json=documents)\n",
    "    response.raise_for_status()\n",
    "    data = response.json()\n",
    "\n",
    "    return data['documents'][0]['sentiment']\n",
    "\n",
    "print(get_sentiment(\"I do not like green edds and ham. I do not like them sam I am.\"))\n",
    "print(get_sentiment(\"I like scotch. Scotchy-scotch, scotch.\"))"
   ]
  },
  {
   "cell_type": "code",
   "execution_count": 28,
   "metadata": {},
   "outputs": [],
   "source": [
    "# search \n",
    "yelp_api_key = \"bcUbCv7c-dgdpowttFnZdu6A3xSH0AbwnnJuurueUOispj2AVl9vQnKm6i2PFg6-yYkYR4-7pv7pLGjqCM2k-qa1znFlTU0OSaZDcgX2Gj9LdpvxFLMF8weLNjNUZHYx\"\n",
    "url = \"https://api.yelp.com/v3/businesses/search\"\n",
    "header = { \"Authorization\" : f\"Bearer {yelp_api_key}\" }\n",
    "query = { \"term\" : \"thai\", \"location\" : \"Syracuse, NY\" }\n",
    "response = requests.get(url, params = query, headers = header)\n",
    "data = response.json()\n"
   ]
  },
  {
   "cell_type": "code",
   "execution_count": 32,
   "metadata": {
    "tags": []
   },
   "outputs": [
    {
     "data": {
      "text/plain": [
       "'Thai Flavor'"
      ]
     },
     "execution_count": 32,
     "metadata": {},
     "output_type": "execute_result"
    }
   ],
   "source": [
    "data['businesses'][0]['name']"
   ]
  },
  {
   "cell_type": "code",
   "execution_count": 36,
   "metadata": {
    "tags": []
   },
   "outputs": [
    {
     "data": {
      "text/html": [
       "<img src=\"https://s3-media3.fl.yelpcdn.com/bphoto/QayJLAenOlS_6oKYNDcTPQ/o.jpg\" width=\"200\"/>"
      ],
      "text/plain": [
       "<IPython.core.display.Image object>"
      ]
     },
     "metadata": {},
     "output_type": "display_data"
    }
   ],
   "source": [
    "from IPython.display import display, Image\n",
    "image_url = data['businesses'][0]['image_url']\n",
    "display(Image(url=image_url, width=200))"
   ]
  },
  {
   "cell_type": "code",
   "execution_count": 37,
   "metadata": {
    "tags": []
   },
   "outputs": [
    {
     "data": {
      "image/jpeg": "[encoded data removed]",
      "text/html": [
       "\n",
       "        <iframe\n",
       "            width=\"400\"\n",
       "            height=\"300\"\n",
       "            src=\"https://www.youtube.com/embed/pLon_Mit7sk\"\n",
       "            frameborder=\"0\"\n",
       "            allowfullscreen\n",
       "            \n",
       "        ></iframe>\n",
       "        "
      ],
      "text/plain": [
       "<IPython.lib.display.YouTubeVideo at 0x7fd2c9918610>"
      ]
     },
     "execution_count": 37,
     "metadata": {},
     "output_type": "execute_result"
    }
   ],
   "source": [
    "# Show a Youtube video\n",
    "from IPython.display import YouTubeVideo\n",
    "YouTubeVideo(\"pLon_Mit7sk\")"
   ]
  },
  {
   "cell_type": "code",
   "execution_count": null,
   "metadata": {},
   "outputs": [],
   "source": []
  },
  {
   "cell_type": "code",
   "execution_count": 22,
   "metadata": {},
   "outputs": [
    {
     "data": {
      "text/plain": [
       "{'id': 'xkU58y1YhdcZFDqq_ENQGA',\n",
       " 'alias': 'erawan-thai-restaurant-syracuse',\n",
       " 'name': 'Erawan Thai Restaurant',\n",
       " 'image_url': 'https://s3-media1.fl.yelpcdn.com/bphoto/ahM2S3W2EHq5R8n9Oi_h5g/o.jpg',\n",
       " 'is_claimed': False,\n",
       " 'is_closed': False,\n",
       " 'url': 'https://www.yelp.com/biz/erawan-thai-restaurant-syracuse?adjust_creative=H2mBmGHSsANIEiZZaA4ZyA&utm_campaign=yelp_api_v3&utm_medium=api_v3_business_lookup&utm_source=H2mBmGHSsANIEiZZaA4ZyA',\n",
       " 'phone': '+13154458152',\n",
       " 'display_phone': '(315) 445-8152',\n",
       " 'review_count': 145,\n",
       " 'categories': [{'alias': 'thai', 'title': 'Thai'}],\n",
       " 'rating': 3.5,\n",
       " 'location': {'address1': '2724 Erie Blvd E',\n",
       "  'address2': '',\n",
       "  'address3': '',\n",
       "  'city': 'Syracuse',\n",
       "  'zip_code': '13224',\n",
       "  'country': 'US',\n",
       "  'state': 'NY',\n",
       "  'display_address': ['2724 Erie Blvd E', 'Syracuse, NY 13224'],\n",
       "  'cross_streets': ''},\n",
       " 'coordinates': {'latitude': 43.05378, 'longitude': -76.09696},\n",
       " 'photos': ['https://s3-media1.fl.yelpcdn.com/bphoto/ahM2S3W2EHq5R8n9Oi_h5g/o.jpg',\n",
       "  'https://s3-media3.fl.yelpcdn.com/bphoto/jrPP67uFsqrS5wmq06FCgA/o.jpg',\n",
       "  'https://s3-media3.fl.yelpcdn.com/bphoto/Vr9sKP3BojXIxV6-BuClmw/o.jpg'],\n",
       " 'price': '$$',\n",
       " 'hours': [{'open': [{'is_overnight': False,\n",
       "     'start': '1130',\n",
       "     'end': '1430',\n",
       "     'day': 0},\n",
       "    {'is_overnight': False, 'start': '1700', 'end': '2130', 'day': 0},\n",
       "    {'is_overnight': False, 'start': '1130', 'end': '1430', 'day': 1},\n",
       "    {'is_overnight': False, 'start': '1700', 'end': '2130', 'day': 1},\n",
       "    {'is_overnight': False, 'start': '1130', 'end': '1430', 'day': 2},\n",
       "    {'is_overnight': False, 'start': '1700', 'end': '2130', 'day': 2},\n",
       "    {'is_overnight': False, 'start': '1130', 'end': '1430', 'day': 3},\n",
       "    {'is_overnight': False, 'start': '1700', 'end': '2130', 'day': 3},\n",
       "    {'is_overnight': False, 'start': '1130', 'end': '1430', 'day': 4},\n",
       "    {'is_overnight': False, 'start': '1700', 'end': '2130', 'day': 4},\n",
       "    {'is_overnight': False, 'start': '1130', 'end': '1430', 'day': 5},\n",
       "    {'is_overnight': False, 'start': '1700', 'end': '2130', 'day': 5}],\n",
       "   'hours_type': 'REGULAR',\n",
       "   'is_open_now': False}],\n",
       " 'transactions': ['delivery']}"
      ]
     },
     "execution_count": 22,
     "metadata": {},
     "output_type": "execute_result"
    }
   ],
   "source": [
    "# get details \n",
    "id = \"xkU58y1YhdcZFDqq_ENQGA\"\n",
    "url = f\"https://api.yelp.com/v3/businesses/{id}\"\n",
    "response = requests.get(url, headers = header)\n",
    "response.json()"
   ]
  },
  {
   "cell_type": "code",
   "execution_count": 23,
   "metadata": {},
   "outputs": [
    {
     "data": {
      "text/plain": [
       "{'reviews': [{'id': 'cqF5fd0NaDtn4sjufoWfxQ',\n",
       "   'url': 'https://www.yelp.com/biz/erawan-thai-restaurant-syracuse?adjust_creative=H2mBmGHSsANIEiZZaA4ZyA&hrid=cqF5fd0NaDtn4sjufoWfxQ&utm_campaign=yelp_api_v3&utm_medium=api_v3_business_reviews&utm_source=H2mBmGHSsANIEiZZaA4ZyA',\n",
       "   'text': 'Very impressed with the authenticity and the service. Be sure to note that the soups have MSG. The staff are very aware of dietary concerns and can give...',\n",
       "   'rating': 4,\n",
       "   'time_created': '2023-07-14 09:58:14',\n",
       "   'user': {'id': 'Dj2SQhUwcZD4Bo4G9d4cow',\n",
       "    'profile_url': 'https://www.yelp.com/user_details?userid=Dj2SQhUwcZD4Bo4G9d4cow',\n",
       "    'image_url': 'https://s3-media3.fl.yelpcdn.com/photo/_Q-LbdtbUdP7uQuQ5CNjgg/o.jpg',\n",
       "    'name': 'Fridah L.'}},\n",
       "  {'id': 'MyP2iz5wWduV5i5jcIcfmw',\n",
       "   'url': 'https://www.yelp.com/biz/erawan-thai-restaurant-syracuse?adjust_creative=H2mBmGHSsANIEiZZaA4ZyA&hrid=MyP2iz5wWduV5i5jcIcfmw&utm_campaign=yelp_api_v3&utm_medium=api_v3_business_reviews&utm_source=H2mBmGHSsANIEiZZaA4ZyA',\n",
       "   'text': 'We did take out.  We ordered a variety of options and shared them all.   The Pad Thai was pretty good. We liked the coconut milk spicy chicken meal the best.',\n",
       "   'rating': 4,\n",
       "   'time_created': '2023-11-13 12:11:23',\n",
       "   'user': {'id': 'FD4ghuFYNIqRQsTuQf5rnQ',\n",
       "    'profile_url': 'https://www.yelp.com/user_details?userid=FD4ghuFYNIqRQsTuQf5rnQ',\n",
       "    'image_url': None,\n",
       "    'name': 'Sandra T.'}},\n",
       "  {'id': 'LccClAKHlOKkLzFyYVeAOQ',\n",
       "   'url': 'https://www.yelp.com/biz/erawan-thai-restaurant-syracuse?adjust_creative=H2mBmGHSsANIEiZZaA4ZyA&hrid=LccClAKHlOKkLzFyYVeAOQ&utm_campaign=yelp_api_v3&utm_medium=api_v3_business_reviews&utm_source=H2mBmGHSsANIEiZZaA4ZyA',\n",
       "   'text': \"Ended up at Erawan after our intended place did not pan out. Hadn't been in a long time but it was still just as I remembered it. \\n\\nOrdered a couple...\",\n",
       "   'rating': 5,\n",
       "   'time_created': '2023-01-10 04:03:17',\n",
       "   'user': {'id': 'q9Tbr48WBWyXbJkKcit91Q',\n",
       "    'profile_url': 'https://www.yelp.com/user_details?userid=q9Tbr48WBWyXbJkKcit91Q',\n",
       "    'image_url': 'https://s3-media1.fl.yelpcdn.com/photo/o1ISbv_YU0ciSzKs2CL0ag/o.jpg',\n",
       "    'name': 'Billy B.'}}],\n",
       " 'total': 145,\n",
       " 'possible_languages': ['en']}"
      ]
     },
     "execution_count": 23,
     "metadata": {},
     "output_type": "execute_result"
    }
   ],
   "source": [
    "# get reviews \n",
    "id = \"xkU58y1YhdcZFDqq_ENQGA\"\n",
    "url = f\"https://api.yelp.com/v3/businesses/{id}/reviews\"\n",
    "response = requests.get(url, headers = header)\n",
    "response.json()"
   ]
  },
  {
   "cell_type": "code",
   "execution_count": 24,
   "metadata": {},
   "outputs": [
    {
     "data": {
      "text/plain": [
       "'negative'"
      ]
     },
     "execution_count": 24,
     "metadata": {},
     "output_type": "execute_result"
    }
   ],
   "source": [
    "get_sentiment(\"I don't give one star reviews lightly, nor do I ever throw out food, but Erawan has forced me to do both.  I ordered pad Thai from here.\")"
   ]
  },
  {
   "cell_type": "code",
   "execution_count": 25,
   "metadata": {},
   "outputs": [],
   "source": [
    "\n",
    "def yelp_search(term, location):\n",
    "    querystring = { 'term' : term, 'location' : location }\n",
    "    header = { 'Authorization' : f'Bearer {yelp_api_key}'}\n",
    "    search_url = \"https://api.yelp.com/v3/businesses/search\"\n",
    "    response = requests.get(search_url, params = querystring, headers=header)\n",
    "    return response.json()\n",
    "\n",
    "def yelp_details(id):\n",
    "    header = { 'Authorization' : f'Bearer {yelp_api_key}'}\n",
    "    details_url = f\"https://api.yelp.com/v3/businesses/{id}\"\n",
    "    response = requests.get(details_url, headers = header)\n",
    "    return response.json()\n",
    "        \n",
    "def yelp_reviews(id):\n",
    "    header = { 'Authorization' : f'Bearer {yelp_api_key}'}\n",
    "    details_url = f\"https://api.yelp.com/v3/businesses/{id}/reviews\"\n",
    "    response = requests.get(details_url, headers = header)\n",
    "    return response.json()\n"
   ]
  },
  {
   "cell_type": "code",
   "execution_count": 27,
   "metadata": {},
   "outputs": [
    {
     "data": {
      "application/vnd.jupyter.widget-view+json": {
       "model_id": "cc98f8bcd69841058848555349fd08be",
       "version_major": 2,
       "version_minor": 0
      },
      "text/plain": [
       "interactive(children=(Text(value='', continuous_update=False, description='cuisine'), Text(value='', continuou…"
      ]
     },
     "metadata": {},
     "output_type": "display_data"
    }
   ],
   "source": [
    "# main program \n",
    "@interact_manual(cuisine=\"\", location=\"\")\n",
    "def on_click(cuisine, location):\n",
    "    results = yelp_search(cuisine, location)\n",
    "\n",
    "    display(HTML(f\"<h1>{cuisine.title()} in {location}\"))\n",
    "    for business in results['businesses']:\n",
    "        display(HTML(f\"<h2>Review Analysis for <em>{business['name']}</em></h2>\"))\n",
    "        display(Image(business['image_url'], width=200))\n",
    "        reviews = yelp_reviews(business['id'])\n",
    "        for review in reviews['reviews']:\n",
    "            sentiment = get_sentiment(review['text'])\n",
    "            username = review['user']['name']\n",
    "            rating = review['rating']\n",
    "            display(HTML(f\"<li>{username} Rating: {rating} Sentiment: {sentiment}\"))"
   ]
  },
  {
   "cell_type": "code",
   "execution_count": null,
   "metadata": {},
   "outputs": [],
   "source": []
  }
 ],
 "metadata": {
  "kernelspec": {
   "display_name": "Python 3 (ipykernel)",
   "language": "python",
   "name": "python3"
  },
  "language_info": {
   "codemirror_mode": {
    "name": "ipython",
    "version": 3
   },
   "file_extension": ".py",
   "mimetype": "text/x-python",
   "name": "python",
   "nbconvert_exporter": "python",
   "pygments_lexer": "ipython3",
   "version": "3.11.3"
  }
 },
 "nbformat": 4,
 "nbformat_minor": 4
}
