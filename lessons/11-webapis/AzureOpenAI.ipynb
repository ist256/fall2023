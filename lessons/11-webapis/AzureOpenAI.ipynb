{
 "cells": [
  {
   "cell_type": "code",
   "execution_count": 2,
   "id": "7a94bf09-b2c9-4be5-b2f7-fe2146315b25",
   "metadata": {
    "tags": []
   },
   "outputs": [],
   "source": [
    "import openai\n",
    "\n",
    "key = \"3cfc103aeff5407b842b277def615a1c\"\n",
    "endpoint = \"https://ist256-openai-instance.openai.azure.com/\""
   ]
  },
  {
   "cell_type": "code",
   "execution_count": 10,
   "id": "a25800da-c3ad-477d-b4fd-04fb008149fc",
   "metadata": {
    "tags": []
   },
   "outputs": [],
   "source": [
    "openai.api_type = \"azure\"\n",
    "openai.api_key = key\n",
    "openai.api_base = endpoint\n",
    "chatgpt_model_name = \"chatgpt\"\n",
    "openai.api_version = \"2023-05-15\""
   ]
  },
  {
   "cell_type": "markdown",
   "id": "0a1acdcc-e7d0-4552-8c1a-037863969791",
   "metadata": {},
   "source": [
    "Playing with the system prompt:\n",
    "\n",
    "- You are a helpful assistant\n",
    "- You are a helpful assistant who speaks like a pirate\n",
    "- Please respond in the style of william shakespeare\n",
    "- You are william shakespeare\n"
   ]
  },
  {
   "cell_type": "code",
   "execution_count": 33,
   "id": "b6beac56-5bee-432a-8f48-c89b714e6c7a",
   "metadata": {
    "tags": []
   },
   "outputs": [
    {
     "name": "stdout",
     "output_type": "stream",
     "text": [
      "The presentation with Laura Rosenbury will take place from 12:15 to 1 p.m.\n"
     ]
    }
   ],
   "source": [
    "# text = input(\"Ask Fudge AI anthing: \")\n",
    "response = openai.ChatCompletion.create(\n",
    "      engine=chatgpt_model_name,\n",
    "      messages=[\n",
    "            {\"role\": \"system\", \n",
    "             \"content\": \"Please respond with only facts, don't make anything up and if you don't know say you dont know\"},\n",
    "            {\"role\": \"user\", \"content\": '''\n",
    "\n",
    "What time is the presentation? \n",
    "\n",
    "On Nov. 30, the University’s Women in Leadership Initiative (WiL) will host a Lunch and Leadership Presentation with Laura Rosenbury, Barnard College’s ninth president and a leading feminist legal theorist.\n",
    "\n",
    "The presentation and networking opportunity, a continuation of WiL’s mission to promote women leaders, is open to all faculty and staff members, regardless of gender identity or expression. Lunch will be available from 11:30 a.m. to noon, followed by Rosenbury’s presentation from 12:15 to 1 p.m. The event will be held at the Sheraton Syracuse University Hotel & Conference Center’s Regency Ballroom. Those interested should RSVP by email to Women in Leadership by Tuesday, Nov. 21.\n",
    "\n",
    "Rosenbury became the ninth president in Barnard College’s history in June 2023. She began her career as a litigation associate at the global law firm Davis Polk & Wardwell in New York City and went on to clerk for numerous federal judges. From 2015-23, Rosenbury served as dean and the Levin, Mabie & Levin Professor of Law at the University of Florida (UF) Levin College of Law, the first woman to hold the role. During her tenure, UF Law extended its reach around the globe, increased incoming applications by 200%, enrolled seven of the most accomplished and diverse classes in history, and hired 39 new faculty members.\n",
    "\n",
    "Before joining the UF Law community, Rosenbury was professor of law and vice dean at the Washington University in St. Louis School of Law. She also has served as a visiting professor at Harvard Law School, Stanford Law School and University of Chicago Law School.\n",
    "            '''}\n",
    "        ]\n",
    "    )\n",
    "\n",
    "# print the response\n",
    "print(response['choices'][0]['message']['content'])\n"
   ]
  },
  {
   "cell_type": "code",
   "execution_count": null,
   "id": "78053bd6-0263-4b12-9775-7a40084860fb",
   "metadata": {},
   "outputs": [],
   "source": [
    "\n"
   ]
  }
 ],
 "metadata": {
  "kernelspec": {
   "display_name": "Python 3 (ipykernel)",
   "language": "python",
   "name": "python3"
  },
  "language_info": {
   "codemirror_mode": {
    "name": "ipython",
    "version": 3
   },
   "file_extension": ".py",
   "mimetype": "text/x-python",
   "name": "python",
   "nbconvert_exporter": "python",
   "pygments_lexer": "ipython3",
   "version": "3.11.3"
  }
 },
 "nbformat": 4,
 "nbformat_minor": 5
}
