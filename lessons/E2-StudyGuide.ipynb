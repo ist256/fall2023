{
 "cells": [
  {
   "cell_type": "markdown",
   "id": "fbc93137-84e1-4b13-93bb-408ece7dac15",
   "metadata": {},
   "source": [
    "# IST256 Exam 2\n",
    "\n",
    " - Covers Units 07 - 12\n",
    "     - know the concepts from each unit and know how to apply them in code. \n",
    "     - Future Exam Question Training FEQT from Large group are examples of test questions.\n",
    "     - Know the terminology from the assigned readings. You can find the assigned readings on the website and on the slides.\n",
    "     - Know the list, dictionary, requests, and pandas functions we learned in class and used in the labs and homework. \n",
    "     - files: open(), read(), readlines(), write()\n",
    "     - lists: append(), index(), insert(), pop(), remove(), reverse(), count()\n",
    "     - dict: keys(), values(), get()\n",
    "     - requests: json(), raise_for_status(), get(), headers, query string/params, response.url()\n",
    "     - pandas: loc, iloc, series(), DataFrame(), read_csv(), row / column filters, to_records() \n",
    " - Exam details\n",
    "     - Closed book. \n",
    "     - On paper. \n",
    "     - Tests concepts and their application \n",
    "     - You can bring in one 8.5x11 sheet of paper with your notes on it. \n",
    "     - You will take the exam in your small group\n",
    "     - 30 questions all Multiple Choice or Short Answer\n",
    "     - 60 minutes in length. If you are allocated more time, please schedule to take it at the CDS testing center. \n",
    " - Advice\n",
    "     - review readings and lectures for key terms and concepts like \"def\" or \"infinite loop\". \n",
    "     - Know what they are and how to use them\n",
    "     - Questions at the beginning of large group are great examples of the questions on the exam\n",
    "     - Study with a friend and quiz each other. \n",
    "     - Write python and guess what it does."
   ]
  },
  {
   "cell_type": "code",
   "execution_count": null,
   "id": "e09f7e92-f019-4626-b6ad-4187f6815bb1",
   "metadata": {},
   "outputs": [],
   "source": []
  }
 ],
 "metadata": {
  "kernelspec": {
   "display_name": "Python 3 (ipykernel)",
   "language": "python",
   "name": "python3"
  },
  "language_info": {
   "codemirror_mode": {
    "name": "ipython",
    "version": 3
   },
   "file_extension": ".py",
   "mimetype": "text/x-python",
   "name": "python",
   "nbconvert_exporter": "python",
   "pygments_lexer": "ipython3",
   "version": "3.11.3"
  }
 },
 "nbformat": 4,
 "nbformat_minor": 5
}
