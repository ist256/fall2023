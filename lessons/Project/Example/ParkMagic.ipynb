{
 "cells": [
  {
   "cell_type": "markdown",
   "id": "21ba0de5-149b-4fd3-8cc5-b9dc21ab2abc",
   "metadata": {},
   "source": [
    "# ParkMagic! \n",
    "### An Example Student Final Project for IST256\n",
    "\n",
    "### By Michael Fudge\n",
    "\n",
    "- Students are asked to create something useful with what they learned in the course\n",
    "- This is usually some kind of data storytelling / app prototype / or both!\n",
    "- What makes this an \"A\" grade?\n",
    "  - incorporate what was learned in the course \n",
    "  - clearly demonstrate what the student learned on their own (4 things, here)\n",
    "  - has well documented code \n",
    "  - has modular code with functions, comments, and tests for each function\n",
    "  - Code tells a story / proves a concept\n",
    "  - Clearly outlines the section to execute to run the final program\n",
    "  - Close to 200 lines.\n",
    "\n",
    "## Syracuse Park magic\n",
    "\n",
    "- Will you get a parking ticket? We hope not!\n",
    "- Data courtsey of Syracuse Open Data (https://data.syr.gov/)\n",
    "\n",
    "## New Stuff I Learned on my own:\n",
    "\n",
    "- Using the seaborn library for plots: https://seaborn.pydata.org/\n",
    "- Haversine for distance calculations: https://pypi.org/project/haversine/\n",
    "- Folium Custom Icons https://ocefpaf.github.io/python4oceanographers/blog/2015/11/02/icons/\n",
    "- Custom Data set from Syracuse Open Data Portal\n",
    "\n",
    "## Analysis\n",
    "\n",
    "### Inputs\n",
    "\n",
    "Enter a location, day and time (hour) you want to park\n",
    "\n",
    "### Outputs\n",
    "\n",
    "I will let you know your chances of getting a ticket (based on the data) and show tickets within a block or so of the location.\n",
    "\n",
    "That way you can decide if you should pay for parking or not!\n",
    "\n",
    "### Algorithms\n",
    "\n",
    "Creating the final dataset\n",
    "\n",
    "1. Load in the Syracuse Parking data\n",
    "2. figure out the day of the week / hour of the day for the ticket\n",
    "3. geocode the location to a lat/lon so it can be mapped\n",
    "4. save the dataset\n",
    "\n",
    "\n",
    "Calculating the probabilities\n",
    "\n",
    "1. for the finalized dataset:\n",
    "2. create a table of probabilities of getting a parking ticket on day of week X\n",
    "3. do the same for hour of the day \n",
    "\n",
    "\n",
    "Main Alogirithm\n",
    "\n",
    "1. load final dataset\n",
    "2. get probabilities for day and hour from dataset\n",
    "3. get inputs: location, day of week, and hour of day\n",
    "4. geocode the input location, place it on the map\n",
    "5. determine if input day is > average for that day\n",
    "6. determine if input hour is > average for that hour\n",
    "7. find parking tickets within a block (0.1 of a mile)\n",
    "8. display chances of getting a ticket\n",
    "9. display the map of parking tickets"
   ]
  },
  {
   "cell_type": "code",
   "execution_count": 1,
   "id": "d0eec1cf-697a-4ccc-a51f-97fdd6d9a24e",
   "metadata": {
    "tags": []
   },
   "outputs": [
    {
     "name": "stdout",
     "output_type": "stream",
     "text": [
      "Note: you may need to restart the kernel to use updated packages.\n"
     ]
    }
   ],
   "source": [
    "%pip install -q haversine"
   ]
  },
  {
   "cell_type": "code",
   "execution_count": 2,
   "id": "dad3cb01-79d4-42df-93c9-ecc74e6ba018",
   "metadata": {
    "tags": []
   },
   "outputs": [],
   "source": [
    "from IPython.display import display, HTML, Image\n",
    "from ipywidgets import interact_manual\n",
    "import pandas as pd\n",
    "import numpy as np\n",
    "import requests\n",
    "import json\n",
    "from datetime import datetime\n",
    "from time import sleep\n",
    "import seaborn as sns\n",
    "import folium\n",
    "from haversine import haversine, Unit\n"
   ]
  },
  {
   "cell_type": "markdown",
   "id": "5a8470fa-ed2d-43fe-8755-3d40a914e10a",
   "metadata": {},
   "source": [
    "## Creating Final Dataset\n",
    "\n",
    "This section generates the final dataset `final_cuse_parking_violations.csv` from the source data `Parking_Violations_2023.csv` which was downloaded from the Syracuse Open Data Portal (https://data.syr.gov/)"
   ]
  },
  {
   "cell_type": "code",
   "execution_count": 3,
   "id": "b0453906-ac3b-4000-a2f9-038fc0b20008",
   "metadata": {
    "tags": []
   },
   "outputs": [],
   "source": [
    "# read in the parking violations original dataset\n",
    "pv = pd.read_csv(\"Parking_Violations_2023.csv\")"
   ]
  },
  {
   "cell_type": "code",
   "execution_count": 21,
   "id": "6b167326-b023-4cfc-bbfc-4534d4c208d2",
   "metadata": {
    "tags": []
   },
   "outputs": [
    {
     "data": {
      "text/html": [
       "<div>\n",
       "<style scoped>\n",
       "    .dataframe tbody tr th:only-of-type {\n",
       "        vertical-align: middle;\n",
       "    }\n",
       "\n",
       "    .dataframe tbody tr th {\n",
       "        vertical-align: top;\n",
       "    }\n",
       "\n",
       "    .dataframe thead th {\n",
       "        text-align: right;\n",
       "    }\n",
       "</style>\n",
       "<table border=\"1\" class=\"dataframe\">\n",
       "  <thead>\n",
       "    <tr style=\"text-align: right;\">\n",
       "      <th></th>\n",
       "      <th>X</th>\n",
       "      <th>Y</th>\n",
       "      <th>OBJECTID</th>\n",
       "      <th>ticket_number</th>\n",
       "      <th>issued_date</th>\n",
       "      <th>location</th>\n",
       "      <th>description</th>\n",
       "      <th>status</th>\n",
       "      <th>amount</th>\n",
       "    </tr>\n",
       "  </thead>\n",
       "  <tbody>\n",
       "    <tr>\n",
       "      <th>3887</th>\n",
       "      <td>NaN</td>\n",
       "      <td>NaN</td>\n",
       "      <td>3888</td>\n",
       "      <td>391149D</td>\n",
       "      <td>2023/01/18 06:15:00+00</td>\n",
       "      <td>300 GREENWAY AVE</td>\n",
       "      <td>ODD/EVEN PARKING NOV-MAR CO15-318 (A)2</td>\n",
       "      <td>Fourth Notice</td>\n",
       "      <td>60</td>\n",
       "    </tr>\n",
       "    <tr>\n",
       "      <th>22</th>\n",
       "      <td>-8.473641e+06</td>\n",
       "      <td>5.316562e+06</td>\n",
       "      <td>23</td>\n",
       "      <td>369480D</td>\n",
       "      <td>2023/01/01 20:23:00+00</td>\n",
       "      <td>200 KENSINGTON RD</td>\n",
       "      <td>ODD/EVEN PARKING NOV-MAR CO15-318 (A)2</td>\n",
       "      <td>Paid In Full</td>\n",
       "      <td>60</td>\n",
       "    </tr>\n",
       "    <tr>\n",
       "      <th>4984</th>\n",
       "      <td>NaN</td>\n",
       "      <td>NaN</td>\n",
       "      <td>4985</td>\n",
       "      <td>230900520</td>\n",
       "      <td>2023/01/27 10:02:00+00</td>\n",
       "      <td>200 SALINA ST S</td>\n",
       "      <td>UNINSPECTED/ ALL TIMES VTL 306-B</td>\n",
       "      <td>Paid In Full</td>\n",
       "      <td>25</td>\n",
       "    </tr>\n",
       "    <tr>\n",
       "      <th>3357</th>\n",
       "      <td>-8.477268e+06</td>\n",
       "      <td>5.322256e+06</td>\n",
       "      <td>3358</td>\n",
       "      <td>388071D</td>\n",
       "      <td>2023/01/19 00:20:00+00</td>\n",
       "      <td>627 CARBON ST</td>\n",
       "      <td>ODD/EVEN PARKING NOV-MAR CO15-318 (A)2</td>\n",
       "      <td>Paid In Full</td>\n",
       "      <td>60</td>\n",
       "    </tr>\n",
       "    <tr>\n",
       "      <th>5274</th>\n",
       "      <td>NaN</td>\n",
       "      <td>NaN</td>\n",
       "      <td>5275</td>\n",
       "      <td>230100168</td>\n",
       "      <td>2023/01/30 16:28:00+00</td>\n",
       "      <td>900 WALNUT AVE</td>\n",
       "      <td>NO STPNG HERE TO CNR/ALL CO15-316(A)6</td>\n",
       "      <td>Paid In Full</td>\n",
       "      <td>25</td>\n",
       "    </tr>\n",
       "    <tr>\n",
       "      <th>1903</th>\n",
       "      <td>NaN</td>\n",
       "      <td>NaN</td>\n",
       "      <td>1904</td>\n",
       "      <td>394892D</td>\n",
       "      <td>2023/01/11 08:30:00+00</td>\n",
       "      <td>200 PARK ST</td>\n",
       "      <td>NONE/ONE LICENSE PLATE/ALL VTL402-1</td>\n",
       "      <td>Issued</td>\n",
       "      <td>25</td>\n",
       "    </tr>\n",
       "    <tr>\n",
       "      <th>3611</th>\n",
       "      <td>-8.477575e+06</td>\n",
       "      <td>5.313402e+06</td>\n",
       "      <td>3612</td>\n",
       "      <td>396804D</td>\n",
       "      <td>2023/01/15 05:01:00+00</td>\n",
       "      <td>300 SHIRLEY DR</td>\n",
       "      <td>ODD/EVEN PARKING NOV-MAR CO15-318 (A)2</td>\n",
       "      <td>Adjudication Denied</td>\n",
       "      <td>60</td>\n",
       "    </tr>\n",
       "    <tr>\n",
       "      <th>2367</th>\n",
       "      <td>NaN</td>\n",
       "      <td>NaN</td>\n",
       "      <td>2368</td>\n",
       "      <td>231500368</td>\n",
       "      <td>2023/01/14 19:06:00+00</td>\n",
       "      <td>600 WALNUT AVE</td>\n",
       "      <td>ODD/EVEN PARKING NOV-MAR CO15-318 (A)2</td>\n",
       "      <td>Paid In Full</td>\n",
       "      <td>60</td>\n",
       "    </tr>\n",
       "    <tr>\n",
       "      <th>9357</th>\n",
       "      <td>NaN</td>\n",
       "      <td>NaN</td>\n",
       "      <td>9358</td>\n",
       "      <td>230900732</td>\n",
       "      <td>2023/02/21 10:21:00+00</td>\n",
       "      <td>200 WASHINGTON ST W</td>\n",
       "      <td>NO STOPPING ANY TIME CO15-316 (A)14</td>\n",
       "      <td>Third Notice</td>\n",
       "      <td>25</td>\n",
       "    </tr>\n",
       "    <tr>\n",
       "      <th>9541</th>\n",
       "      <td>NaN</td>\n",
       "      <td>NaN</td>\n",
       "      <td>9542</td>\n",
       "      <td>230900753</td>\n",
       "      <td>2023/02/22 10:15:00+00</td>\n",
       "      <td>200 JEFFERSON ST W</td>\n",
       "      <td>HANDICAP PRKNG ON-STR /ALL VTL1203(B)2</td>\n",
       "      <td>Adjudication Pending</td>\n",
       "      <td>100</td>\n",
       "    </tr>\n",
       "  </tbody>\n",
       "</table>\n",
       "</div>"
      ],
      "text/plain": [
       "                 X             Y  OBJECTID ticket_number  \\\n",
       "3887           NaN           NaN      3888       391149D   \n",
       "22   -8.473641e+06  5.316562e+06        23       369480D   \n",
       "4984           NaN           NaN      4985     230900520   \n",
       "3357 -8.477268e+06  5.322256e+06      3358       388071D   \n",
       "5274           NaN           NaN      5275     230100168   \n",
       "1903           NaN           NaN      1904       394892D   \n",
       "3611 -8.477575e+06  5.313402e+06      3612       396804D   \n",
       "2367           NaN           NaN      2368     231500368   \n",
       "9357           NaN           NaN      9358     230900732   \n",
       "9541           NaN           NaN      9542     230900753   \n",
       "\n",
       "                 issued_date             location  \\\n",
       "3887  2023/01/18 06:15:00+00     300 GREENWAY AVE   \n",
       "22    2023/01/01 20:23:00+00    200 KENSINGTON RD   \n",
       "4984  2023/01/27 10:02:00+00      200 SALINA ST S   \n",
       "3357  2023/01/19 00:20:00+00        627 CARBON ST   \n",
       "5274  2023/01/30 16:28:00+00       900 WALNUT AVE   \n",
       "1903  2023/01/11 08:30:00+00          200 PARK ST   \n",
       "3611  2023/01/15 05:01:00+00       300 SHIRLEY DR   \n",
       "2367  2023/01/14 19:06:00+00       600 WALNUT AVE   \n",
       "9357  2023/02/21 10:21:00+00  200 WASHINGTON ST W   \n",
       "9541  2023/02/22 10:15:00+00   200 JEFFERSON ST W   \n",
       "\n",
       "                                 description                 status  amount  \n",
       "3887  ODD/EVEN PARKING NOV-MAR CO15-318 (A)2          Fourth Notice      60  \n",
       "22    ODD/EVEN PARKING NOV-MAR CO15-318 (A)2           Paid In Full      60  \n",
       "4984        UNINSPECTED/ ALL TIMES VTL 306-B           Paid In Full      25  \n",
       "3357  ODD/EVEN PARKING NOV-MAR CO15-318 (A)2           Paid In Full      60  \n",
       "5274   NO STPNG HERE TO CNR/ALL CO15-316(A)6           Paid In Full      25  \n",
       "1903     NONE/ONE LICENSE PLATE/ALL VTL402-1                 Issued      25  \n",
       "3611  ODD/EVEN PARKING NOV-MAR CO15-318 (A)2    Adjudication Denied      60  \n",
       "2367  ODD/EVEN PARKING NOV-MAR CO15-318 (A)2           Paid In Full      60  \n",
       "9357     NO STOPPING ANY TIME CO15-316 (A)14           Third Notice      25  \n",
       "9541  HANDICAP PRKNG ON-STR /ALL VTL1203(B)2  Adjudication Pending      100  "
      ]
     },
     "execution_count": 21,
     "metadata": {},
     "output_type": "execute_result"
    }
   ],
   "source": [
    "pv.sample(10)"
   ]
  },
  {
   "cell_type": "code",
   "execution_count": 13,
   "id": "141736b4-da6c-4c11-9100-81df8e0f1057",
   "metadata": {
    "tags": []
   },
   "outputs": [],
   "source": [
    "from datetime import datetime\n",
    "def get_day_of_week(datestring):\n",
    "    '''\n",
    "    This function returns the day of the week (Monday, Tuesday, etc..) \n",
    "    for an input date string in the format:\n",
    "    YYYY/MM/DD HH:MM:SS+00\n",
    "    '''\n",
    "    dow = datetime.strptime(datestring, \"%Y/%m/%d %H:%M:%S+00\").strftime(\"%A\")\n",
    "    return dow\n",
    "\n",
    "assert get_day_of_week(\"2023/11/27 14:30:00+00\")  == \"Monday\""
   ]
  },
  {
   "cell_type": "code",
   "execution_count": 19,
   "id": "fa60b13c-579d-4d18-8f22-73fd9a391a58",
   "metadata": {
    "tags": []
   },
   "outputs": [],
   "source": [
    "def get_hour_of_day(datestring):\n",
    "    '''\n",
    "    This function returns the hour of the day (01, 23, etc..) \n",
    "    for an input date string in the format:\n",
    "    YYYY/MM/DD HH:MM:SS+00\n",
    "    '''    \n",
    "    hod = datetime.strptime(datestring, \"%Y/%m/%d %H:%M:%S+00\").strftime(\"%H\")\n",
    "    return hod\n",
    "\n",
    "assert get_hour_of_day(\"2023/11/27 14:30:00+00\") == \"14\""
   ]
  },
  {
   "cell_type": "code",
   "execution_count": 16,
   "id": "027ca135-a690-4f16-98d5-462dc772bf42",
   "metadata": {
    "tags": []
   },
   "outputs": [],
   "source": [
    "# Engineer dayofweek and hourofday columns we will need\n",
    "pv['dayofweek'] = pv['issued_date'].apply(lambda dt: get_day_of_week(dt))\n",
    "pv['hour'] = pv['issued_date'].apply(lambda dt: get_hour_of_day(dt))"
   ]
  },
  {
   "cell_type": "code",
   "execution_count": 5,
   "id": "f256237f-5253-4ded-8fd3-3eb55446a767",
   "metadata": {
    "tags": []
   },
   "outputs": [
    {
     "data": {
      "text/html": [
       "<div>\n",
       "<style scoped>\n",
       "    .dataframe tbody tr th:only-of-type {\n",
       "        vertical-align: middle;\n",
       "    }\n",
       "\n",
       "    .dataframe tbody tr th {\n",
       "        vertical-align: top;\n",
       "    }\n",
       "\n",
       "    .dataframe thead th {\n",
       "        text-align: right;\n",
       "    }\n",
       "</style>\n",
       "<table border=\"1\" class=\"dataframe\">\n",
       "  <thead>\n",
       "    <tr style=\"text-align: right;\">\n",
       "      <th></th>\n",
       "      <th>Unnamed: 0</th>\n",
       "      <th>X</th>\n",
       "      <th>Y</th>\n",
       "      <th>OBJECTID</th>\n",
       "      <th>ticket_number</th>\n",
       "      <th>issued_date</th>\n",
       "      <th>location</th>\n",
       "      <th>description</th>\n",
       "      <th>status</th>\n",
       "      <th>amount</th>\n",
       "      <th>dayofweek</th>\n",
       "      <th>hour</th>\n",
       "      <th>coords</th>\n",
       "    </tr>\n",
       "  </thead>\n",
       "  <tbody>\n",
       "    <tr>\n",
       "      <th>5953</th>\n",
       "      <td>5953</td>\n",
       "      <td>NaN</td>\n",
       "      <td>NaN</td>\n",
       "      <td>5954</td>\n",
       "      <td>371218D</td>\n",
       "      <td>2023/01/26 09:49:00+00</td>\n",
       "      <td>400 NORTH AVE</td>\n",
       "      <td>ODD/EVEN PARKING NOV-MAR CO15-318 (A)2</td>\n",
       "      <td>Fourth Notice</td>\n",
       "      <td>60</td>\n",
       "      <td>Thursday</td>\n",
       "      <td>9</td>\n",
       "      <td>('43.0765049', '-76.1042749')</td>\n",
       "    </tr>\n",
       "    <tr>\n",
       "      <th>15746</th>\n",
       "      <td>15746</td>\n",
       "      <td>NaN</td>\n",
       "      <td>NaN</td>\n",
       "      <td>15747</td>\n",
       "      <td>359705D</td>\n",
       "      <td>2023/07/07 19:03:00+00</td>\n",
       "      <td>1000 EILEEN COLLINS BLVD</td>\n",
       "      <td>NO PARKING ANY TIME CO15-316 (A)14</td>\n",
       "      <td>Paid In Full</td>\n",
       "      <td>25</td>\n",
       "      <td>Friday</td>\n",
       "      <td>19</td>\n",
       "      <td>(43.113505702811246, -76.11989651004016)</td>\n",
       "    </tr>\n",
       "    <tr>\n",
       "      <th>8564</th>\n",
       "      <td>8564</td>\n",
       "      <td>NaN</td>\n",
       "      <td>NaN</td>\n",
       "      <td>8565</td>\n",
       "      <td>23501032</td>\n",
       "      <td>2023/02/14 11:34:00+00</td>\n",
       "      <td>200 THORNDON PARK</td>\n",
       "      <td>LIMITED PARKING ONLY/ALL TIMES CO15-365</td>\n",
       "      <td>Third Notice</td>\n",
       "      <td>25</td>\n",
       "      <td>Tuesday</td>\n",
       "      <td>11</td>\n",
       "      <td>(0, 0)</td>\n",
       "    </tr>\n",
       "    <tr>\n",
       "      <th>8037</th>\n",
       "      <td>8037</td>\n",
       "      <td>NaN</td>\n",
       "      <td>NaN</td>\n",
       "      <td>8038</td>\n",
       "      <td>415721D</td>\n",
       "      <td>2023/02/07 01:56:00+00</td>\n",
       "      <td>100 KELLOGG ST</td>\n",
       "      <td>ODD/EVEN PARKING NOV-MAR CO15-318 (A)2</td>\n",
       "      <td>Third Notice</td>\n",
       "      <td>60</td>\n",
       "      <td>Tuesday</td>\n",
       "      <td>1</td>\n",
       "      <td>('43.040437', '-76.161953')</td>\n",
       "    </tr>\n",
       "    <tr>\n",
       "      <th>692</th>\n",
       "      <td>692</td>\n",
       "      <td>NaN</td>\n",
       "      <td>NaN</td>\n",
       "      <td>693</td>\n",
       "      <td>231500122</td>\n",
       "      <td>2023/01/06 10:14:00+00</td>\n",
       "      <td>200 WATER ST E</td>\n",
       "      <td>NO STOPPING ANY TIME CO15-316 (A)14</td>\n",
       "      <td>Paid In Full</td>\n",
       "      <td>25</td>\n",
       "      <td>Friday</td>\n",
       "      <td>10</td>\n",
       "      <td>('43.050425', '-76.150598')</td>\n",
       "    </tr>\n",
       "    <tr>\n",
       "      <th>7323</th>\n",
       "      <td>7323</td>\n",
       "      <td>NaN</td>\n",
       "      <td>NaN</td>\n",
       "      <td>7324</td>\n",
       "      <td>395159D</td>\n",
       "      <td>2023/02/02 13:19:00+00</td>\n",
       "      <td>900 OAK ST</td>\n",
       "      <td>ODD/EVEN PARKING NOV-MAR CO15-318 (A)2</td>\n",
       "      <td>Third Notice</td>\n",
       "      <td>60</td>\n",
       "      <td>Thursday</td>\n",
       "      <td>13</td>\n",
       "      <td>('43.0644918', '-76.1359515')</td>\n",
       "    </tr>\n",
       "    <tr>\n",
       "      <th>4279</th>\n",
       "      <td>4279</td>\n",
       "      <td>-8.474522e+06</td>\n",
       "      <td>5.317471e+06</td>\n",
       "      <td>4280</td>\n",
       "      <td>23500462</td>\n",
       "      <td>2023/01/24 12:11:00+00</td>\n",
       "      <td>300 EUCLID AVE</td>\n",
       "      <td>NO PARKING ANY TIME CO15-316 (A)14</td>\n",
       "      <td>Paid In Full</td>\n",
       "      <td>25</td>\n",
       "      <td>Tuesday</td>\n",
       "      <td>12</td>\n",
       "      <td>('43.0361102', '-76.1278732')</td>\n",
       "    </tr>\n",
       "    <tr>\n",
       "      <th>8928</th>\n",
       "      <td>8928</td>\n",
       "      <td>NaN</td>\n",
       "      <td>NaN</td>\n",
       "      <td>8929</td>\n",
       "      <td>395048D</td>\n",
       "      <td>2023/02/16 11:17:00+00</td>\n",
       "      <td>200 BEAR ST</td>\n",
       "      <td>UNREGSTRD/UNAFFIXD/ALL VTL401-1/403-1</td>\n",
       "      <td>Paid In Full</td>\n",
       "      <td>25</td>\n",
       "      <td>Thursday</td>\n",
       "      <td>11</td>\n",
       "      <td>('43.067509', '-76.16278')</td>\n",
       "    </tr>\n",
       "    <tr>\n",
       "      <th>11804</th>\n",
       "      <td>11804</td>\n",
       "      <td>NaN</td>\n",
       "      <td>NaN</td>\n",
       "      <td>11805</td>\n",
       "      <td>362608D</td>\n",
       "      <td>2023/02/25 05:00:00+00</td>\n",
       "      <td>100 MARKLAND AVE</td>\n",
       "      <td>ODD/EVEN PARKING NOV-MAR CO15-318 (A)2</td>\n",
       "      <td>Paid In Full</td>\n",
       "      <td>60</td>\n",
       "      <td>Saturday</td>\n",
       "      <td>5</td>\n",
       "      <td>('43.032553', '-76.179761')</td>\n",
       "    </tr>\n",
       "    <tr>\n",
       "      <th>3423</th>\n",
       "      <td>3423</td>\n",
       "      <td>NaN</td>\n",
       "      <td>NaN</td>\n",
       "      <td>3424</td>\n",
       "      <td>393912D</td>\n",
       "      <td>2023/01/23 17:16:00+00</td>\n",
       "      <td>100 STEUBEN ST</td>\n",
       "      <td>ODD/EVEN PARKING NOV-MAR CO15-318 (A)2</td>\n",
       "      <td>Paid In Full</td>\n",
       "      <td>60</td>\n",
       "      <td>Monday</td>\n",
       "      <td>17</td>\n",
       "      <td>('43.065426', '-76.152066')</td>\n",
       "    </tr>\n",
       "  </tbody>\n",
       "</table>\n",
       "</div>"
      ],
      "text/plain": [
       "       Unnamed: 0             X             Y  OBJECTID ticket_number  \\\n",
       "5953         5953           NaN           NaN      5954       371218D   \n",
       "15746       15746           NaN           NaN     15747       359705D   \n",
       "8564         8564           NaN           NaN      8565      23501032   \n",
       "8037         8037           NaN           NaN      8038       415721D   \n",
       "692           692           NaN           NaN       693     231500122   \n",
       "7323         7323           NaN           NaN      7324       395159D   \n",
       "4279         4279 -8.474522e+06  5.317471e+06      4280      23500462   \n",
       "8928         8928           NaN           NaN      8929       395048D   \n",
       "11804       11804           NaN           NaN     11805       362608D   \n",
       "3423         3423           NaN           NaN      3424       393912D   \n",
       "\n",
       "                  issued_date                  location  \\\n",
       "5953   2023/01/26 09:49:00+00             400 NORTH AVE   \n",
       "15746  2023/07/07 19:03:00+00  1000 EILEEN COLLINS BLVD   \n",
       "8564   2023/02/14 11:34:00+00         200 THORNDON PARK   \n",
       "8037   2023/02/07 01:56:00+00            100 KELLOGG ST   \n",
       "692    2023/01/06 10:14:00+00            200 WATER ST E   \n",
       "7323   2023/02/02 13:19:00+00                900 OAK ST   \n",
       "4279   2023/01/24 12:11:00+00            300 EUCLID AVE   \n",
       "8928   2023/02/16 11:17:00+00               200 BEAR ST   \n",
       "11804  2023/02/25 05:00:00+00          100 MARKLAND AVE   \n",
       "3423   2023/01/23 17:16:00+00            100 STEUBEN ST   \n",
       "\n",
       "                                   description         status  amount  \\\n",
       "5953    ODD/EVEN PARKING NOV-MAR CO15-318 (A)2  Fourth Notice      60   \n",
       "15746       NO PARKING ANY TIME CO15-316 (A)14   Paid In Full      25   \n",
       "8564   LIMITED PARKING ONLY/ALL TIMES CO15-365   Third Notice      25   \n",
       "8037    ODD/EVEN PARKING NOV-MAR CO15-318 (A)2   Third Notice      60   \n",
       "692        NO STOPPING ANY TIME CO15-316 (A)14   Paid In Full      25   \n",
       "7323    ODD/EVEN PARKING NOV-MAR CO15-318 (A)2   Third Notice      60   \n",
       "4279        NO PARKING ANY TIME CO15-316 (A)14   Paid In Full      25   \n",
       "8928     UNREGSTRD/UNAFFIXD/ALL VTL401-1/403-1   Paid In Full      25   \n",
       "11804   ODD/EVEN PARKING NOV-MAR CO15-318 (A)2   Paid In Full      60   \n",
       "3423    ODD/EVEN PARKING NOV-MAR CO15-318 (A)2   Paid In Full      60   \n",
       "\n",
       "      dayofweek  hour                                    coords  \n",
       "5953   Thursday     9             ('43.0765049', '-76.1042749')  \n",
       "15746    Friday    19  (43.113505702811246, -76.11989651004016)  \n",
       "8564    Tuesday    11                                    (0, 0)  \n",
       "8037    Tuesday     1               ('43.040437', '-76.161953')  \n",
       "692      Friday    10               ('43.050425', '-76.150598')  \n",
       "7323   Thursday    13             ('43.0644918', '-76.1359515')  \n",
       "4279    Tuesday    12             ('43.0361102', '-76.1278732')  \n",
       "8928   Thursday    11                ('43.067509', '-76.16278')  \n",
       "11804  Saturday     5               ('43.032553', '-76.179761')  \n",
       "3423     Monday    17               ('43.065426', '-76.152066')  "
      ]
     },
     "execution_count": 5,
     "metadata": {},
     "output_type": "execute_result"
    }
   ],
   "source": [
    "pv.sample(10)"
   ]
  },
  {
   "cell_type": "code",
   "execution_count": 4,
   "id": "6b5c4a5b-245b-4bde-b3c8-e57856c26b7f",
   "metadata": {
    "tags": []
   },
   "outputs": [],
   "source": [
    "cache = {\n",
    "    '1000 EILEEN COLLINS BLVD SYRACUSE, NY' : (43.113505702811246,-76.11989651004016)\n",
    "}"
   ]
  },
  {
   "cell_type": "code",
   "execution_count": 7,
   "id": "66574676-afb7-4f03-be64-3ee1f979a19c",
   "metadata": {
    "tags": []
   },
   "outputs": [],
   "source": [
    "def geocode_syracuse(location):\n",
    "    '''\n",
    "    This will geocode the location. It uses a caching strategy\n",
    "    so that we don't keep geocoding the same addresses.\n",
    "    '''\n",
    "    global cache\n",
    "    location = f\"{location} SYRACUSE, NY\".upper()\n",
    "    lat, lon = cache.get(location, (0, 0))\n",
    "    if lat == 0 and lon == 0:\n",
    "        sleep(0.5) # to avoid an error when geocoding to quickly\n",
    "        query_string = {'q': location, 'format': 'json'}\n",
    "        headers = {\"user-agent\": \"ist256 example mafudge\"}\n",
    "        url = 'https://nominatim.openstreetmap.org/search'\n",
    "        response = requests.get(url, params=query_string, headers=headers)\n",
    "        response.raise_for_status()\n",
    "        geodata = response.json()\n",
    "        if geodata != []:\n",
    "            lat, lon = geodata[0]['lat'], geodata[0]['lon']\n",
    "            cache[location] = (lat, lon)\n",
    "            return (lat, lon)\n",
    "        else:\n",
    "            return (0, 0)\n",
    "    else:\n",
    "        return (lat, lon)\n",
    "# Testing with 2300 FAYETTE ST E syracuse, NY \n",
    "assert geocode_syracuse('2300 FAYETTE ST E') == ('43.048168', '-76.111425')"
   ]
  },
  {
   "cell_type": "code",
   "execution_count": null,
   "id": "bd43cedd-af61-495c-88f6-07a8287e9119",
   "metadata": {},
   "outputs": [],
   "source": [
    "# do the geocoding... this take a while\n",
    "pv['coords'] = pv.apply(lambda row: geocode_syracuse(row['location']), axis=1)"
   ]
  },
  {
   "cell_type": "code",
   "execution_count": null,
   "id": "2b4b33ae-9050-4482-807e-cd9e4e7ac6d9",
   "metadata": {},
   "outputs": [],
   "source": [
    "pv.sample(10)"
   ]
  },
  {
   "cell_type": "code",
   "execution_count": null,
   "id": "2169f8e6-54a6-4d41-bb9c-87675e49a20a",
   "metadata": {},
   "outputs": [],
   "source": [
    "# write out the final dataset\n",
    "pv.to_csv(\"X_final_cuse_parking_violations.csv\")"
   ]
  },
  {
   "cell_type": "markdown",
   "id": "eda866ce-4165-4f47-885d-343478667c79",
   "metadata": {
    "tags": []
   },
   "source": [
    "## Calculating the Probabilities\n",
    "\n",
    "In this section I create tables for day of the week and hour of the day based on the probabilitity distributions of getting a ticket."
   ]
  },
  {
   "cell_type": "code",
   "execution_count": 8,
   "id": "9a3ce9ad-fb52-478f-bfe8-1d221dca1b49",
   "metadata": {
    "tags": []
   },
   "outputs": [],
   "source": [
    "# read in the final dataset\n",
    "pv = pd.read_csv(\"final_cuse_parking_violations.csv\")"
   ]
  },
  {
   "cell_type": "code",
   "execution_count": 9,
   "id": "f7168725-8e68-4316-bd34-02cf2617c9ac",
   "metadata": {
    "tags": []
   },
   "outputs": [
    {
     "data": {
      "text/plain": [
       "<Axes: xlabel='dayofweek', ylabel='count'>"
      ]
     },
     "execution_count": 9,
     "metadata": {},
     "output_type": "execute_result"
    },
    {
     "data": {
      "image/png": "[encoded data removed]",
      "text/plain": [
       "<Figure size 640x480 with 1 Axes>"
      ]
     },
     "metadata": {},
     "output_type": "display_data"
    }
   ],
   "source": [
    "# checking out the days of the week. In a perfect scenaio all days would be equal. 1/7\n",
    "sns.countplot(x='dayofweek', data=pv)"
   ]
  },
  {
   "cell_type": "code",
   "execution_count": 10,
   "id": "604e9279-2fed-400c-a310-bad5ce4dfcc6",
   "metadata": {
    "tags": []
   },
   "outputs": [
    {
     "data": {
      "text/plain": [
       "dayofweek\n",
       "Tuesday      0.198264\n",
       "Thursday     0.197821\n",
       "Wednesday    0.190473\n",
       "Monday       0.174447\n",
       "Friday       0.140369\n",
       "Sunday       0.053968\n",
       "Saturday     0.044657\n",
       "Name: proportion, dtype: float64"
      ]
     },
     "execution_count": 10,
     "metadata": {},
     "output_type": "execute_result"
    }
   ],
   "source": [
    "day_prob_table = pv['dayofweek'].value_counts(normalize=True)\n",
    "day_prob_table"
   ]
  },
  {
   "cell_type": "code",
   "execution_count": 11,
   "id": "0a8f9e3e-e6da-4544-aae0-e7ce3822e15c",
   "metadata": {
    "tags": []
   },
   "outputs": [
    {
     "data": {
      "text/plain": [
       "<Axes: xlabel='hour', ylabel='count'>"
      ]
     },
     "execution_count": 11,
     "metadata": {},
     "output_type": "execute_result"
    },
    {
     "data": {
      "image/png": "[encoded data removed]",
      "text/plain": [
       "<Figure size 640x480 with 1 Axes>"
      ]
     },
     "metadata": {},
     "output_type": "display_data"
    }
   ],
   "source": [
    "sns.countplot(x='hour', data=pv.sort_values(\"hour\")) # Yuck let's sort it\n",
    "# in a perfect scenairo all hours would be equal 1/24"
   ]
  },
  {
   "cell_type": "code",
   "execution_count": 12,
   "id": "b473f27a-98b4-476c-9675-f778e92adca8",
   "metadata": {
    "tags": []
   },
   "outputs": [
    {
     "data": {
      "text/plain": [
       "hour\n",
       "0     0.020143\n",
       "1     0.013302\n",
       "2     0.012922\n",
       "3     0.011275\n",
       "4     0.009755\n",
       "5     0.003991\n",
       "6     0.022677\n",
       "7     0.008045\n",
       "8     0.005701\n",
       "9     0.168810\n",
       "10    0.244632\n",
       "11    0.160702\n",
       "12    0.029645\n",
       "13    0.067017\n",
       "14    0.049661\n",
       "15    0.010515\n",
       "16    0.018243\n",
       "17    0.019320\n",
       "18    0.008171\n",
       "19    0.027301\n",
       "20    0.024324\n",
       "21    0.024070\n",
       "22    0.020460\n",
       "23    0.019320\n",
       "Name: proportion, dtype: float64"
      ]
     },
     "execution_count": 12,
     "metadata": {},
     "output_type": "execute_result"
    }
   ],
   "source": [
    "hour_prob_table = pv['hour'].value_counts(normalize=True).sort_index()\n",
    "hour_prob_table"
   ]
  },
  {
   "cell_type": "code",
   "execution_count": 16,
   "id": "9c77d849-5dc4-4b66-8007-d5e5a916e2e6",
   "metadata": {
    "tags": []
   },
   "outputs": [
    {
     "data": {
      "text/plain": [
       "(0.012922024450497244, 0.19826439475517832)"
      ]
     },
     "execution_count": 16,
     "metadata": {},
     "output_type": "execute_result"
    }
   ],
   "source": [
    "# example: retrieving a probability\n",
    "hour = \"02\"\n",
    "day = \"Tuesday\"\n",
    "hour_prob_table[int(hour)], day_prob_table[day]"
   ]
  },
  {
   "cell_type": "markdown",
   "id": "2f5d562c-87d1-4088-b7b1-a73b18cfd840",
   "metadata": {
    "tags": []
   },
   "source": [
    "## Main Program\n",
    "\n",
    "Run the cells below this line to execute the main program. It assumes the `final_cuse_parking_violations.csv` exists already.\n",
    "\n",
    "This should run on a new kernel provided `haversine` was installed."
   ]
  },
  {
   "cell_type": "code",
   "execution_count": 5,
   "id": "cd164e34-a84e-4eeb-942a-53395570525f",
   "metadata": {
    "tags": []
   },
   "outputs": [],
   "source": [
    "from IPython.display import display, HTML, Image\n",
    "from ipywidgets import interact_manual\n",
    "import folium\n",
    "import pandas as pd\n",
    "import requests\n",
    "from haversine import haversine, Unit"
   ]
  },
  {
   "cell_type": "code",
   "execution_count": 6,
   "id": "60dca47d-bca3-47c5-9cd3-eed3a0f12f7c",
   "metadata": {
    "tags": []
   },
   "outputs": [],
   "source": [
    "def geocode_syracuse_no_cache(location):\n",
    "    '''\n",
    "    This will geocode the location. It does not use a caching strategy\n",
    "    '''\n",
    "    location = f\"{location} SYRACUSE, NY\".upper()\n",
    "    query_string = {'q': location, 'format': 'json'}\n",
    "    headers = {\"user-agent\": \"ist256 example mafudge\"}\n",
    "    url = 'https://nominatim.openstreetmap.org/search'\n",
    "    response = requests.get(url, params=query_string, headers=headers)\n",
    "    response.raise_for_status()\n",
    "    geodata = response.json()\n",
    "    if geodata != []:\n",
    "        lat, lon = geodata[0]['lat'], geodata[0]['lon']\n",
    "        return (lat, lon)\n",
    "    else:\n",
    "        return (0, 0)\n",
    "\n",
    "assert geocode_syracuse_no_cache(\"330 W GENESEE ST\") == ('43.05230228571428', '-76.15564457142858')"
   ]
  },
  {
   "cell_type": "code",
   "execution_count": 7,
   "id": "682067d2-98d5-4193-a6ce-978c397bcc84",
   "metadata": {
    "tags": []
   },
   "outputs": [],
   "source": [
    "def mark_tickets_nearby(center_latlon, day, hour, pv, radius_in_miles):\n",
    "    '''\n",
    "    return a list of markers that are near center_latlon based on \n",
    "    radius_in_miles. was written to simplify the logic in the final program\n",
    "    '''\n",
    "    markers = []\n",
    "    center_lat = float(center_latlon[0])\n",
    "    center_lon = float(center_latlon[1])\n",
    "    for index, row in pv[:].iterrows():\n",
    "        lat = float(row['coords'].split(\",\")[0].replace(\"(\",\"\").replace(\"'\",\"\")) # clean up the lat which was a string\n",
    "        lon = float(row['coords'].split(\",\")[1].replace(\")\",\"\").replace(\"'\",\"\")) # # clean up the lon which was a string\n",
    "        distance = haversine((center_lat, center_lon), (lat, lon), unit = Unit.MILES)\n",
    "        if distance <= radius_in_miles:\n",
    "            if day ==  row['dayofweek'] and hour == row['hour']:\n",
    "                icon = icon=folium.Icon(color=\"red\", icon=\"arrow-up\")\n",
    "            else:\n",
    "                icon = icon=folium.Icon(color=\"orange\", icon=\"arrow-up\")\n",
    "\n",
    "            text = f\"{row['location']} - {row['dayofweek']} @ {row['hour']}:00 - {row['description']}\"\n",
    "            marker = folium.Marker(location=(lat, lon), popup = text, icon = icon)\n",
    "            markers.append(marker)\n",
    "\n",
    "    return markers\n",
    "\n",
    "pv = pd.read_csv(\"final_cuse_parking_violations.csv\")\n",
    "lat, lon = geocode_syracuse_no_cache(\"330 W GENESEE ST\")\n",
    "assert len(mark_tickets_nearby((lat,lon), \"Sunday\", \"09\", pv, 0.05)) == 15"
   ]
  },
  {
   "cell_type": "code",
   "execution_count": 8,
   "id": "43e910cd-785f-4dfa-9ba5-a001c0cae44c",
   "metadata": {
    "tags": []
   },
   "outputs": [
    {
     "data": {
      "text/html": [
       "<h1>Syracuse Parkmagic</h1>"
      ],
      "text/plain": [
       "<IPython.core.display.HTML object>"
      ]
     },
     "metadata": {},
     "output_type": "display_data"
    },
    {
     "data": {
      "text/html": [
       "Let us help you avoid a parking ticket!"
      ],
      "text/plain": [
       "<IPython.core.display.HTML object>"
      ]
     },
     "metadata": {},
     "output_type": "display_data"
    },
    {
     "data": {
      "text/html": [
       "Enter the day, hour and address of where you want to mark and we will do the rest!"
      ],
      "text/plain": [
       "<IPython.core.display.HTML object>"
      ]
     },
     "metadata": {},
     "output_type": "display_data"
    },
    {
     "data": {
      "application/vnd.jupyter.widget-view+json": {
       "model_id": "7510bb9e95724f22b73e1b4423a2db14",
       "version_major": 2,
       "version_minor": 0
      },
      "text/plain": [
       "interactive(children=(Dropdown(description='day', options=('Sunday', 'Monday', 'Tuesday', 'Wednesday', 'Thursd…"
      ]
     },
     "metadata": {},
     "output_type": "display_data"
    }
   ],
   "source": [
    "# Main Program\n",
    "pv = pd.read_csv(\"final_cuse_parking_violations.csv\")\n",
    "day_prob_table = pv['dayofweek'].value_counts(normalize=True)\n",
    "hour_prob_table = pv['hour'].value_counts(normalize=True).sort_index()\n",
    "day_average = 1/7\n",
    "hour_average = 1/24\n",
    "days = ['Sunday', 'Monday', 'Tuesday', 'Wednesday', 'Thursday', 'Friday', 'Saturday']\n",
    "hours = hour_prob_table.index.values\n",
    "metered_parking_day_exception = ['Sunday']\n",
    "metered_parking_hour_exception = ['00', '01', '02', '03', '04', '05', '06', '07', '08', '19', '20', '21', '22', '23', '24']\n",
    "\n",
    "display(HTML(\"<h1>Syracuse Parkmagic</h1>\"))\n",
    "display(HTML(\"Let us help you avoid a parking ticket!\"))\n",
    "display(HTML(\"Enter the day, hour and address of where you want to mark and we will do the rest!\"))\n",
    "\n",
    "@interact_manual(day=days, hour=hours, address=\"330 E WASHINGTON ST\")\n",
    "def onclick(day, hour, address):\n",
    "    day_prob = day_prob_table[day]\n",
    "    hour_prob = hour_prob_table[int(hour)]\n",
    "    lat, lon = geocode_syracuse_no_cache(address)\n",
    "    cusemap = folium.Map(location=(lat,lon), zoom_start=18)\n",
    "    marker = folium.Marker(location=(lat, lon), popup=address, icon=folium.Icon(color=\"green\", icon=\"home\"))\n",
    "    cusemap.add_child(marker, name=address)\n",
    "    if day_prob > day_average:\n",
    "        day_interval = \"HIGHER\"\n",
    "    else:\n",
    "        day_interval = \"LOWER\"\n",
    "    if hour_prob > hour_average:\n",
    "        hour_interval = \"HIGHER\"\n",
    "    else:\n",
    "        hour_interval = \"LOWER\"\n",
    "    if hour in metered_parking_hour_exception or day in metered_parking_day_exception:\n",
    "        meter = \"You do NOT need to pay for metered parking.\"\n",
    "    else:\n",
    "        meter = \"You must pay at a parking meter.\"\n",
    "\n",
    "    display(HTML(\"<h3>Parking Analysis</h3>\"))\n",
    "    display(HTML(f\"Report for {address} On {day} at {hour}:00\"))\n",
    "    display(HTML(f\"<li>{100*day_prob:.1f}% of all tickets were issued on this day. This is {day_interval} than the average.\"))\n",
    "    display(HTML(f\"<li>{100*hour_prob:.1f}% of all tickets were issued at your selected hour. This is {hour_interval} than the average.\"))\n",
    "    display(HTML(f\"<li>{meter}\"))\n",
    "\n",
    "    display(HTML(\"<h4>Past Tickets Issued in This Area</h4>\"))\n",
    "    markers = mark_tickets_nearby((lat,lon),day, hour, pv, 0.1)\n",
    "    for marker in markers:\n",
    "        cusemap.add_child(marker)\n",
    "    display(cusemap)\n"
   ]
  },
  {
   "cell_type": "code",
   "execution_count": null,
   "id": "2b9c8921-0526-4d78-b140-9f20b434e29c",
   "metadata": {},
   "outputs": [],
   "source": []
  },
  {
   "cell_type": "code",
   "execution_count": null,
   "id": "e8016b40-3e1e-411a-ac16-0718c94bf951",
   "metadata": {},
   "outputs": [],
   "source": []
  },
  {
   "cell_type": "code",
   "execution_count": null,
   "id": "58eea799-7761-464b-9604-13dd2151b650",
   "metadata": {},
   "outputs": [],
   "source": []
  },
  {
   "cell_type": "code",
   "execution_count": null,
   "id": "05d232b6-d92a-477f-b253-dffe6e3c6354",
   "metadata": {},
   "outputs": [],
   "source": []
  },
  {
   "cell_type": "code",
   "execution_count": null,
   "id": "df27fade-0411-4a5b-a5f4-cf966843647e",
   "metadata": {
    "tags": []
   },
   "outputs": [],
   "source": []
  },
  {
   "cell_type": "code",
   "execution_count": null,
   "id": "b25ae3a8-3e9e-4a61-9075-196545013f45",
   "metadata": {},
   "outputs": [],
   "source": []
  },
  {
   "cell_type": "code",
   "execution_count": null,
   "id": "f588457a-ddbf-466e-bec1-e43551da8bd8",
   "metadata": {},
   "outputs": [],
   "source": []
  },
  {
   "cell_type": "code",
   "execution_count": null,
   "id": "36c325cd-92f4-4d46-a259-483302330f66",
   "metadata": {},
   "outputs": [],
   "source": []
  }
 ],
 "metadata": {
  "kernelspec": {
   "display_name": "Python 3 (ipykernel)",
   "language": "python",
   "name": "python3"
  },
  "language_info": {
   "codemirror_mode": {
    "name": "ipython",
    "version": 3
   },
   "file_extension": ".py",
   "mimetype": "text/x-python",
   "name": "python",
   "nbconvert_exporter": "python",
   "pygments_lexer": "ipython3",
   "version": "3.11.3"
  }
 },
 "nbformat": 4,
 "nbformat_minor": 5
}
