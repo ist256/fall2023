{
 "cells": [
  {
   "cell_type": "markdown",
   "id": "fbc93137-84e1-4b13-93bb-408ece7dac15",
   "metadata": {},
   "source": [
    "# IST256 Exam 1\n",
    "\n",
    " - Covers Units 01 -06\n",
    "     - know the concepts and know how to apply them\n",
    "     - print / input / variables / input > process > output\n",
    "     - types (int/float/str/bool) / assignment / type inspection, type conversion \n",
    "     - if / else / elif / try .. except / boolean expressions / relational operations / logical operators\n",
    "     - definite / indefinite loops / while / for / range / break / continue / exit condition / infinite loop / sentinel-controlled loop\n",
    "     - functions / def / arguments / return values / named arguments / testing a function / assert / what are the function inputs and outputs / import / pip / dir / help\n",
    "     - strings are immutable / strings are sequence types / string slicing / find / upper / lower / split / startswith / endswith \n",
    " - Exam details\n",
    "     - Closed book. \n",
    "     - On paper. \n",
    "     - Tests concepts and their application \n",
    "     - You can bring in one 8.5x11 sheet of paper with your notes on it. \n",
    "     - You will take the exam in your small group\n",
    "     - 45 questions all Multiple Choice or Short Answer\n",
    "     - 60 minutes in length. If you are allocated more time, please schedule to take it at the CDS testing center. \n",
    " - Advice\n",
    "     - review readings and lectures for key terms and concepts like \"def\" or \"infinite loop\". \n",
    "     - Know what they are and how to use them\n",
    "     - Questions at the beginning of large group are great examples of the questions on the exam\n",
    "     - Study with a friend and quiz each other. \n",
    "     - Write python and guess what it does."
   ]
  },
  {
   "cell_type": "code",
   "execution_count": null,
   "id": "1ec16313-0717-4479-98f0-d80be315e189",
   "metadata": {},
   "outputs": [],
   "source": [
    "x = \"mike\"\n",
    "y = 10\n",
    "z = y + x \n",
    "## What is going to happen"
   ]
  },
  {
   "cell_type": "code",
   "execution_count": null,
   "id": "0c16dbf6-730b-43fe-a090-4baf61626f07",
   "metadata": {},
   "outputs": [],
   "source": [
    "def a(x):\n",
    "    return x + 2\n",
    "\n",
    "b = a(4)\n",
    "## what is b?"
   ]
  },
  {
   "cell_type": "code",
   "execution_count": null,
   "id": "e09f7e92-f019-4626-b6ad-4187f6815bb1",
   "metadata": {},
   "outputs": [],
   "source": []
  }
 ],
 "metadata": {
  "kernelspec": {
   "display_name": "Python 3 (ipykernel)",
   "language": "python",
   "name": "python3"
  },
  "language_info": {
   "codemirror_mode": {
    "name": "ipython",
    "version": 3
   },
   "file_extension": ".py",
   "mimetype": "text/x-python",
   "name": "python",
   "nbconvert_exporter": "python",
   "pygments_lexer": "ipython3",
   "version": "3.11.3"
  }
 },
 "nbformat": 4,
 "nbformat_minor": 5
}
